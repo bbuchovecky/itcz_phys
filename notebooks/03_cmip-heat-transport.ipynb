{
 "cells": [
  {
   "cell_type": "raw",
   "id": "cb8c5c6d-b7f7-4717-8f87-5bafacf9ab32",
   "metadata": {},
   "source": [
    "Filename:   03_cmip-heat-transport.ipynb\n",
    "Author:     Benjamin Buchovecky\n",
    "Project:    itcz_phys (Senior Thesis)\n",
    "Created on: 02/06/23"
   ]
  },
  {
   "cell_type": "markdown",
   "id": "e4c57167-79da-4260-b501-4be6dc042fbc",
   "metadata": {},
   "source": [
    "# CMIP heat transport\n"
   ]
  },
  {
   "cell_type": "markdown",
   "id": "5f2340da-9acf-484d-acf7-b1908aff10dc",
   "metadata": {},
   "source": [
    "# Setup"
   ]
  },
  {
   "cell_type": "code",
   "execution_count": 1,
   "id": "c94dd4b5-1b1a-497d-a9f5-333f763c20f8",
   "metadata": {},
   "outputs": [],
   "source": [
    "import os\n",
    "import shutil\n",
    "import glob\n",
    "import pandas as pd\n",
    "import numpy as np\n",
    "import xarray as xr\n",
    "import pickle as pkl\n",
    "\n",
    "import cartopy\n",
    "import cartopy.crs as ccrs\n",
    "import cartopy.mpl.ticker as cticker\n",
    "from cartopy.util import add_cyclic_point\n",
    "\n",
    "import matplotlib.pyplot as plt\n",
    "import matplotlib.ticker as mticker\n",
    "import matplotlib.path as mpath\n",
    "\n",
    "import cmocean.cm as cmo\n",
    "\n",
    "import warnings\n",
    "warnings.filterwarnings(\"ignore\", message=\"Unable to decode time axis into full numpy.datetime64 objects, continuing using cftime.datetime objects instead, reason: dates out of range\")"
   ]
  },
  {
   "cell_type": "code",
   "execution_count": 2,
   "id": "468bb683-e178-4a73-bade-90f846d24ecd",
   "metadata": {},
   "outputs": [],
   "source": [
    "## some magic to automatically reload my functions before running a new cell\n",
    "%load_ext autoreload\n",
    "## %reload_ext autoreload\n",
    "%autoreload 1\n",
    "%aimport my_functions\n",
    "\n",
    "import my_functions as mf"
   ]
  },
  {
   "cell_type": "markdown",
   "id": "4a537d3a-fd74-450d-b5ce-a9588dd619a4",
   "metadata": {
    "tags": []
   },
   "source": [
    "## Figure settings"
   ]
  },
  {
   "cell_type": "code",
   "execution_count": 3,
   "id": "d8f37358-f3b1-4d60-85d3-890de00e87d0",
   "metadata": {},
   "outputs": [],
   "source": [
    "import matplotlib as mpl\n",
    "mpl.rcParams['figure.dpi'] = 160\n",
    "\n",
    "# %config InlineBackend.figure_formats = ['pdf']\n",
    "%config InlineBackend.figure_formats = ['png']"
   ]
  },
  {
   "cell_type": "markdown",
   "id": "96633582-1ded-4f0b-a889-917aebefedfb",
   "metadata": {
    "tags": []
   },
   "source": [
    "## Load dictionaries"
   ]
  },
  {
   "cell_type": "code",
   "execution_count": 4,
   "id": "43cdd70b-c58a-4639-a586-3bec245a9aa6",
   "metadata": {},
   "outputs": [],
   "source": [
    "# Get the last 40 years of the 1% CO2 runs and the corresponding time period in piControl\n",
    "with open('../pkl_files/period_l40_slice_in_pi.pkl', 'rb') as file:\n",
    "    period_l40_slice_in_pi = pkl.load(file)\n",
    "with open('../pkl_files/period_l40_start_year_in_pi.pkl', 'rb') as file:\n",
    "    period_l40_start_year_in_pi = pkl.load(file)\n",
    "with open('../pkl_files/period_l40_end_year_in_pi.pkl', 'rb') as file:\n",
    "    period_l40_end_year_in_pi = pkl.load(file)\n",
    "with open('../pkl_files/start_year_in_pi.pkl', 'rb') as file:\n",
    "    start_year_in_pi = pkl.load(file)\n",
    "    \n",
    "with open('../pkl_files/period_l40_slice_in_co2.pkl', 'rb') as file:\n",
    "    period_l40_slice_in_co2 = pkl.load(file)\n",
    "with open('../pkl_files/period_l40_start_year_in_co2.pkl', 'rb') as file:\n",
    "    period_l40_start_year_in_co2 = pkl.load(file)\n",
    "with open('../pkl_files/period_l40_end_year_in_co2.pkl', 'rb') as file:\n",
    "    period_l40_end_year_in_co2 = pkl.load(file) \n",
    "with open('../pkl_files/start_year_in_co2.pkl', 'rb') as file:\n",
    "    start_year_in_co2 = pkl.load(file)\n",
    "\n",
    "\n",
    "    \n",
    "# Get each model's variant_id\n",
    "with open('../pkl_files/variant_id.pkl', 'rb') as file:\n",
    "    variant_id = pkl.load(file)\n",
    "    \n",
    "# Get each model's table_id\n",
    "with open('../pkl_files/table_id.pkl', 'rb') as file:\n",
    "    table_id = pkl.load(file)\n",
    "    \n",
    "# Get each model's grid_label\n",
    "with open('../pkl_files/grid_label.pkl', 'rb') as file:\n",
    "    grid_label = pkl.load(file)\n",
    "    \n",
    "# Colors corresponding to each model\n",
    "with open('../pkl_files/mcolors.pkl', 'rb') as file:\n",
    "    mcolors = pkl.load(file)"
   ]
  },
  {
   "cell_type": "code",
   "execution_count": 5,
   "id": "403ec8c1-6b63-4840-8738-a530cb6c2989",
   "metadata": {},
   "outputs": [],
   "source": [
    "mcolors = {'ACCESS-ESM1-5': '#2f4f4f',\n",
    "           'BCC-CSM2-MR': '#8b4513',\n",
    "           'CanESM5': '#6b8e23',\n",
    "           'CESM2': '#4b0082',\n",
    "           'CMCC-ESM2': '#ff0000',\n",
    "           'CNRM-ESM2-1': '#ffff00',\n",
    "           'EC-Earth3-CC': 'black',\n",
    "           'GFDL-ESM4': '#40e0d0',\n",
    "           'GISS-E2-1-G': '#00ff00',\n",
    "           'IPSL-CM6A-LR': '#0000ff',\n",
    "           'MIROC-ES2L': '#ff00ff',\n",
    "           'MPI-ESM1-2-LR': '#6495ed',\n",
    "           'NorESM2-LM': '#ff1493',\n",
    "           'UKESM1-0-LL': '#ffc0cb'}"
   ]
  },
  {
   "cell_type": "markdown",
   "id": "9fa0ea38-173b-440f-a254-3c918de8016c",
   "metadata": {
    "tags": []
   },
   "source": [
    "## Create constants"
   ]
  },
  {
   "cell_type": "code",
   "execution_count": 15,
   "id": "15c3cd0b-b7c5-4b7d-8a6f-8f6a898affef",
   "metadata": {
    "tags": []
   },
   "outputs": [],
   "source": [
    "# Cases / experiments\n",
    "cases = ['piControl', '1pctCO2', '1pctCO2-rad', '1pctCO2-bgc']\n",
    "cases_rad = ['1pctCO2', '1pctCO2-rad']\n",
    "\n",
    "# Models with data in /tiger/scratch/gpfs/GEOCLIM/bgb2/CMIP/ and CMIPmerge/\n",
    "# --> removed MRI-ESM2-0 because 1pctCO2 and 1pctCO2-rad Amon variables are the same\n",
    "# --> removed CanESM5 because server could not be reached and model output not available (yet?)\n",
    "\n",
    "# --> models with HT, VEG for 1pctCO2 and 1pctCO2-rad (i.e., the max number of models used)\n",
    "models = ['ACCESS-ESM1-5', 'BCC-CSM2-MR', 'CESM2', 'CMCC-ESM2',\n",
    "          'CNRM-ESM2-1', 'EC-Earth3-CC', 'GFDL-ESM4', 'GISS-E2-1-G',\n",
    "          'IPSL-CM6A-LR', 'MIROC-ES2L', 'MPI-ESM1-2-LR', 'NorESM2-LM',\n",
    "          'UKESM1-0-LL']\n",
    "#  --> models with HT, VEG, SW for all cases\n",
    "models_all = ['ACCESS-ESM1-5', 'BCC-CSM2-MR', 'CMCC-ESM2',\n",
    "              'CNRM-ESM2-1', 'GISS-E2-1-G', 'IPSL-CM6A-LR', 'MIROC-ES2L',\n",
    "              'MPI-ESM1-2-LR', 'UKESM1-0-LL']\n",
    "# --> only models with HT, VEG, SW for 1pctCO2 and 1pctCO2-rad\n",
    "models_radsw = ['EC-Earth3-CC']\n",
    "# --> only models with HT, VEG for 1pctCO2 and 1pctCO2-rad\n",
    "models_rad = ['CESM2', 'GFDL-ESM4', 'NorESM2-LM']\n",
    "\n",
    "# Variables\n",
    "variables = ['evspsbl', 'hfls', 'hfss', 'hus', 'lai', 'pr', 'prsn', 'ps',\n",
    "             'rlds',  'rlus', 'rlut', 'rsds', 'rsdt', 'rsus', 'rsut', 'ta',\n",
    "             'tas', 'uas', 'vas']\n",
    "variables_ht = ['hfls', 'hfss', 'hus', 'pr', 'prsn', 'ps', 'rlds', 'rlus',\n",
    "                'rlut', 'rsds', 'rsdt', 'rsus', 'rsut', 'ta']\n",
    "variables_vegsw = ['evspsbl', 'lai', 'tas', 'uas', 'vas']\n",
    "variables_veg = ['evspsbl', 'lai', 'tas']\n",
    "variables_2d = ['evspsbl', 'hfls', 'hfss', 'lai', 'pr', 'prsn', 'ps',\n",
    "                'rlds',  'rlus', 'rlut', 'rsds', 'rsdt', 'rsus', 'rsut',\n",
    "                'tas', 'uas', 'vas']\n",
    "variables_3d = ['hus', 'ta']\n",
    "\n",
    "# Months\n",
    "months = ['Jan','Feb','Mar','Apr','May','Jun','Jul','Aug','Sep','Oct','Nov','Dec']\n",
    "months_abbr = ['J','F','M','A','M','J','J','A','S','O','N','D']\n",
    "\n",
    "# Directory where CMIP6 model output lives on tiger\n",
    "cmipdir = '/tiger/scratch/gpfs/GEOCLIM/bgb2/CMIP/'\n",
    "cmipmergedir = '/tiger/scratch/gpfs/GEOCLIM/bgb2/CMIPmerge/'\n",
    "cmipgriddir = '/tiger/scratch/gpfs/GEOCLIM/bgb2/CMIP1x1.25/'\n",
    "cmipnhtdir = '/tiger/scratch/gpfs/GEOCLIM/bgb2/CMIPnht/'\n",
    "\n",
    "constants = {\n",
    "    'cases': cases,\n",
    "    'cases_rad': cases_rad,\n",
    "    'models': models,\n",
    "    'models_all': models_all,\n",
    "    'models_radsw': models_radsw,\n",
    "    'models_rad': models_rad,\n",
    "    'variables': variables,\n",
    "    'variables_ht': variables_ht,\n",
    "    'variables_vegsw': variables_vegsw,\n",
    "    'variables_veg': variables_veg,\n",
    "    'variables_2d': variables_2d,\n",
    "    'variables_3d': variables_3d,\n",
    "    'months': months,\n",
    "    'months_abbr': months_abbr,\n",
    "    'cmipdir': cmipdir,\n",
    "    'cmipmergedir': cmipmergedir,\n",
    "    'cmipgriddir': cmipgriddir,\n",
    "    'cmipnhtdir': cmipnhtdir\n",
    "}\n",
    "\n",
    "# with open('../pkl_files/constants.pkl', 'wb') as file:\n",
    "#     pkl.dump(constants, file, pkl.HIGHEST_PROTOCOL)"
   ]
  },
  {
   "cell_type": "markdown",
   "id": "f8979054-fe89-487d-88b1-3fb4527ac18e",
   "metadata": {
    "tags": []
   },
   "source": [
    "# Regrid"
   ]
  },
  {
   "cell_type": "markdown",
   "id": "8f5152ef-740f-4cdf-bad3-6173682c2e2f",
   "metadata": {},
   "source": [
    "## New file periods"
   ]
  },
  {
   "cell_type": "code",
   "execution_count": 52,
   "id": "506ddfd6-99ee-4499-b489-4d6b6b3318dd",
   "metadata": {},
   "outputs": [],
   "source": [
    "# Save new file periods as string for use in file naming and attributions --> 1pctCO2\n",
    "with open('../regrid/newtimesco2.txt','w') as fout:\n",
    "    for m in models:\n",
    "        fout.write(period_l40_start_year_in_co2[m].replace('-','')+'-'+period_l40_end_year_in_co2[m].replace('-','')+'\\n')\n",
    "fout.close()"
   ]
  },
  {
   "cell_type": "code",
   "execution_count": 23,
   "id": "919510c4-2446-429f-8b1c-1764b486e043",
   "metadata": {},
   "outputs": [],
   "source": [
    "# Save new file periods as string for use in file naming and attributions --> piControl\n",
    "with open('../regrid/newtimespi.txt','w') as fout:\n",
    "    for m in models:\n",
    "        try:\n",
    "            fout.write(period_l40_start_year_in_pi[m].replace('-','')+'-'+period_l40_end_year_in_pi[m].replace('-','')+'\\n')\n",
    "        except:\n",
    "            fout.write('\\n')\n",
    "fout.close()"
   ]
  },
  {
   "cell_type": "markdown",
   "id": "ab0525f1-a0fa-4625-9b77-798475a8af63",
   "metadata": {},
   "source": [
    "## 2d variables, FULL + RAD"
   ]
  },
  {
   "cell_type": "code",
   "execution_count": 29,
   "id": "4d4fc2ef-3ca8-4217-884f-1220a9b2fb83",
   "metadata": {
    "tags": []
   },
   "outputs": [],
   "source": [
    "s = ''\n",
    "s += ', '.join(models)+'\\n'\n",
    "s += ', '.join(variables_2d)+'\\n'\n",
    "s += ', '.join(cases_rad)+'\\n'\n",
    "\n",
    "for m in models:\n",
    "    for v in variables_2d:\n",
    "        for c in cases_rad:\n",
    "            if not ( (m == 'CESM2' or m == 'GFDL-ESM4' or m == 'NorESM2-LM') and (v == 'uas' or v == 'vas') ):\n",
    "                # print(m,' ',v,' ',c)\n",
    "                f = v+'_'+table_id[v]+'_'+m+'_'+c+'_'+variant_id[m]+'_'+grid_label[m]+'.nc'\n",
    "                s += cmipmergedir+m+'/'+f+'\\n'\n",
    "\n",
    "with open('../regrid/regridpaths_2d_fullrad.txt','w') as fout:\n",
    "    fout.write(s)\n",
    "fout.close()"
   ]
  },
  {
   "cell_type": "markdown",
   "id": "8682b333-7300-4e55-b69f-0262f664257a",
   "metadata": {},
   "source": [
    "## 3d variables, FULL + RAD"
   ]
  },
  {
   "cell_type": "code",
   "execution_count": 30,
   "id": "86d4aaa7-bcfd-43d2-8cc8-0aa10ee4cbb9",
   "metadata": {
    "tags": []
   },
   "outputs": [],
   "source": [
    "s = ''\n",
    "s += ', '.join(models)+'\\n'\n",
    "s += ', '.join(variables_3d)+'\\n'\n",
    "s += ', '.join(cases_rad)+'\\n'\n",
    "\n",
    "for m in models:\n",
    "    for v in variables_3d:\n",
    "        for c in cases_rad:\n",
    "            # print(m,' ',v,' ',c)\n",
    "            f = v+'_'+table_id[v]+'_'+m+'_'+c+'_'+variant_id[m]+'_'+grid_label[m]+'.nc'\n",
    "            s += cmipmergedir+m+'/'+f+'\\n'\n",
    "\n",
    "with open('../regrid/regridpaths_3d_fullrad.txt','w') as fout:\n",
    "    fout.write(s)\n",
    "fout.close()"
   ]
  },
  {
   "cell_type": "markdown",
   "id": "9cc14abc-945f-4e5f-a458-565ec6c27f7f",
   "metadata": {
    "tags": []
   },
   "source": [
    "# Generate arrays for the NCL script"
   ]
  },
  {
   "cell_type": "code",
   "execution_count": 7,
   "id": "cbee6d41-253a-42c0-b0b9-09e0bfa17540",
   "metadata": {},
   "outputs": [
    {
     "data": {
      "text/plain": [
       "'(/\"ACCESS-ESM1-5\",\"BCC-CSM2-MR\",\"CESM2\",\"CMCC-ESM2\",\"CNRM-ESM2-1\",\"EC-Earth3-CC\",\"GFDL-ESM4\",\"GISS-E2-1-G\",\"IPSL-CM6A-LR\",\"MIROC-ES2L\",\"MPI-ESM1-2-LR\",\"NorESM2-LM\",\"UKESM1-0-LL\",/)'"
      ]
     },
     "execution_count": 7,
     "metadata": {},
     "output_type": "execute_result"
    }
   ],
   "source": [
    "s = '(/'\n",
    "for m in models:\n",
    "    s += '\"'+m+'\",'\n",
    "s += '/)'\n",
    "s"
   ]
  },
  {
   "cell_type": "code",
   "execution_count": 8,
   "id": "7497421a-9b9b-4fa3-8ea9-89bfce0ff01e",
   "metadata": {},
   "outputs": [
    {
     "data": {
      "text/plain": [
       "'(/1200,1200,1200,1200,1200,1200,1200,1200,1200,1200,1200,1200,1200,/)'"
      ]
     },
     "execution_count": 8,
     "metadata": {},
     "output_type": "execute_result"
    }
   ],
   "source": [
    "s = '(/'\n",
    "\n",
    "for m in models:\n",
    "    if m != 'MRI-ESM2-0':\n",
    "        s += str( 12 * (int(period_l40_start_year_in_co2[m][:4]) - int(start_year_in_co2[m][:4])) )\n",
    "        s += ','\n",
    "s += '/)'\n",
    "\n",
    "s"
   ]
  },
  {
   "cell_type": "code",
   "execution_count": 11,
   "id": "a644d5e9-96af-4f6b-9811-9a328f0b604a",
   "metadata": {},
   "outputs": [
    {
     "data": {
      "text/plain": [
       "'(/\"gn\",\"gn\",\"gn\",\"gn\",\"gr\",\"gr\",\"gr1\",\"gn\",\"gr\",\"gn\",\"gn\",\"gn\",\"gn\",/)'"
      ]
     },
     "execution_count": 11,
     "metadata": {},
     "output_type": "execute_result"
    }
   ],
   "source": [
    "s = '(/'\n",
    "for m in models:\n",
    "    s += '\"'+grid_label[m]+'\",' \n",
    "s += '/)'\n",
    "\n",
    "s"
   ]
  },
  {
   "cell_type": "code",
   "execution_count": 12,
   "id": "02f2318b-2f96-40c0-8816-d98812aafdeb",
   "metadata": {},
   "outputs": [
    {
     "data": {
      "text/plain": [
       "'(/\"r1i1p1f1\",\"r1i1p1f1\",\"r1i1p1f1\",\"r1i1p1f1\",\"r1i1p1f2\",\"r1i1p1f1\",\"r1i1p1f1\",\"r101i1p1f1\",\"r1i1p1f1\",\"r1i1p1f2\",\"r1i1p1f1\",\"r1i1p1f1\",\"r1i1p1f2\",/)'"
      ]
     },
     "execution_count": 12,
     "metadata": {},
     "output_type": "execute_result"
    }
   ],
   "source": [
    "s = '(/'\n",
    "for m in models:\n",
    "    s += '\"'+variant_id[m]+'\",' \n",
    "s += '/)'\n",
    "\n",
    "s"
   ]
  },
  {
   "cell_type": "code",
   "execution_count": 13,
   "id": "b084bbbb-f311-4c27-a32b-aa0c04650514",
   "metadata": {},
   "outputs": [
    {
     "data": {
      "text/plain": [
       "'(/\"020101-024012\",\"195001-198912\",\"010101-014012\",\"195001-198912\",\"195001-198912\",\"195001-198912\",\"010101-014012\",\"195001-198912\",\"195001-198912\",\"195001-198912\",\"195001-198912\",\"010101-014012\",\"195001-198912\",/)'"
      ]
     },
     "execution_count": 13,
     "metadata": {},
     "output_type": "execute_result"
    }
   ],
   "source": [
    "s = '(/'\n",
    "for m in models:\n",
    "    s += '\"'+period_l40_start_year_in_co2[m].replace('-','')+'-'+period_l40_end_year_in_co2[m].replace('-','')+'\",'\n",
    "s += '/)'\n",
    "\n",
    "s"
   ]
  },
  {
   "cell_type": "markdown",
   "id": "44589b10-97aa-4b80-b73f-5c9f71aa719f",
   "metadata": {},
   "source": [
    "# Compute HT"
   ]
  },
  {
   "cell_type": "code",
   "execution_count": 38,
   "id": "eca09c13-3637-4a96-a127-d250db348318",
   "metadata": {
    "tags": []
   },
   "outputs": [],
   "source": [
    "m = 'ACCESS-ESM1-5'\n",
    "c = '1pctCO2'\n",
    "\n",
    "# ht_dict = mf.get_heat_transports_seasonal(m, c, write=False)"
   ]
  },
  {
   "cell_type": "code",
   "execution_count": 37,
   "id": "8008162b-833a-4f5e-af68-63883d981804",
   "metadata": {
    "collapsed": true,
    "jupyter": {
     "outputs_hidden": true
    },
    "scrolled": true,
    "tags": []
   },
   "outputs": [
    {
     "name": "stdout",
     "output_type": "stream",
     "text": [
      "ACCESS-ESM1-5\n",
      "   1pctCO2\n"
     ]
    },
    {
     "name": "stderr",
     "output_type": "stream",
     "text": [
      "/home/bgb2/miniconda3/envs/itcz_phys/lib/python3.11/site-packages/xarray/coding/times.py:152: SerializationWarning: Ambiguous reference date string: 101-01-01. The first value is assumed to be the year hence will be padded with zeros to remove the ambiguity (the padded reference date string is: 0101-01-01). To remove this message, remove the ambiguity by padding your reference date strings with zeros.\n",
      "  warnings.warn(warning_msg, SerializationWarning)\n",
      "/home/bgb2/miniconda3/envs/itcz_phys/lib/python3.11/site-packages/xarray/coding/times.py:152: SerializationWarning: Ambiguous reference date string: 101-01-01. The first value is assumed to be the year hence will be padded with zeros to remove the ambiguity (the padded reference date string is: 0101-01-01). To remove this message, remove the ambiguity by padding your reference date strings with zeros.\n",
      "  warnings.warn(warning_msg, SerializationWarning)\n",
      "/home/bgb2/miniconda3/envs/itcz_phys/lib/python3.11/site-packages/xarray/coding/times.py:152: SerializationWarning: Ambiguous reference date string: 101-01-01. The first value is assumed to be the year hence will be padded with zeros to remove the ambiguity (the padded reference date string is: 0101-01-01). To remove this message, remove the ambiguity by padding your reference date strings with zeros.\n",
      "  warnings.warn(warning_msg, SerializationWarning)\n"
     ]
    },
    {
     "name": "stdout",
     "output_type": "stream",
     "text": [
      "### (1/5) done with mht ###\n"
     ]
    },
    {
     "name": "stderr",
     "output_type": "stream",
     "text": [
      "/home/bgb2/miniconda3/envs/itcz_phys/lib/python3.11/site-packages/xarray/coding/times.py:152: SerializationWarning: Ambiguous reference date string: 101-01-01. The first value is assumed to be the year hence will be padded with zeros to remove the ambiguity (the padded reference date string is: 0101-01-01). To remove this message, remove the ambiguity by padding your reference date strings with zeros.\n",
      "  warnings.warn(warning_msg, SerializationWarning)\n",
      "/home/bgb2/miniconda3/envs/itcz_phys/lib/python3.11/site-packages/xarray/coding/times.py:152: SerializationWarning: Ambiguous reference date string: 101-01-01. The first value is assumed to be the year hence will be padded with zeros to remove the ambiguity (the padded reference date string is: 0101-01-01). To remove this message, remove the ambiguity by padding your reference date strings with zeros.\n",
      "  warnings.warn(warning_msg, SerializationWarning)\n",
      "/home/bgb2/miniconda3/envs/itcz_phys/lib/python3.11/site-packages/xarray/coding/times.py:152: SerializationWarning: Ambiguous reference date string: 101-01-01. The first value is assumed to be the year hence will be padded with zeros to remove the ambiguity (the padded reference date string is: 0101-01-01). To remove this message, remove the ambiguity by padding your reference date strings with zeros.\n",
      "  warnings.warn(warning_msg, SerializationWarning)\n",
      "/home/bgb2/miniconda3/envs/itcz_phys/lib/python3.11/site-packages/xarray/coding/times.py:152: SerializationWarning: Ambiguous reference date string: 101-01-01. The first value is assumed to be the year hence will be padded with zeros to remove the ambiguity (the padded reference date string is: 0101-01-01). To remove this message, remove the ambiguity by padding your reference date strings with zeros.\n",
      "  warnings.warn(warning_msg, SerializationWarning)\n",
      "/home/bgb2/miniconda3/envs/itcz_phys/lib/python3.11/site-packages/xarray/coding/times.py:152: SerializationWarning: Ambiguous reference date string: 101-01-01. The first value is assumed to be the year hence will be padded with zeros to remove the ambiguity (the padded reference date string is: 0101-01-01). To remove this message, remove the ambiguity by padding your reference date strings with zeros.\n",
      "  warnings.warn(warning_msg, SerializationWarning)\n",
      "/home/bgb2/miniconda3/envs/itcz_phys/lib/python3.11/site-packages/xarray/coding/times.py:152: SerializationWarning: Ambiguous reference date string: 101-01-01. The first value is assumed to be the year hence will be padded with zeros to remove the ambiguity (the padded reference date string is: 0101-01-01). To remove this message, remove the ambiguity by padding your reference date strings with zeros.\n",
      "  warnings.warn(warning_msg, SerializationWarning)\n",
      "/home/bgb2/miniconda3/envs/itcz_phys/lib/python3.11/site-packages/xarray/coding/times.py:152: SerializationWarning: Ambiguous reference date string: 101-01-01. The first value is assumed to be the year hence will be padded with zeros to remove the ambiguity (the padded reference date string is: 0101-01-01). To remove this message, remove the ambiguity by padding your reference date strings with zeros.\n",
      "  warnings.warn(warning_msg, SerializationWarning)\n"
     ]
    },
    {
     "name": "stdout",
     "output_type": "stream",
     "text": [
      "### (2/5) done with oht ###\n"
     ]
    },
    {
     "name": "stderr",
     "output_type": "stream",
     "text": [
      "/home/bgb2/miniconda3/envs/itcz_phys/lib/python3.11/site-packages/xarray/coding/times.py:152: SerializationWarning: Ambiguous reference date string: 101-01-01. The first value is assumed to be the year hence will be padded with zeros to remove the ambiguity (the padded reference date string is: 0101-01-01). To remove this message, remove the ambiguity by padding your reference date strings with zeros.\n",
      "  warnings.warn(warning_msg, SerializationWarning)\n",
      "/home/bgb2/miniconda3/envs/itcz_phys/lib/python3.11/site-packages/xarray/coding/times.py:152: SerializationWarning: Ambiguous reference date string: 101-01-01. The first value is assumed to be the year hence will be padded with zeros to remove the ambiguity (the padded reference date string is: 0101-01-01). To remove this message, remove the ambiguity by padding your reference date strings with zeros.\n",
      "  warnings.warn(warning_msg, SerializationWarning)\n"
     ]
    },
    {
     "name": "stdout",
     "output_type": "stream",
     "text": [
      "### (3/5) done with aht ###\n"
     ]
    },
    {
     "name": "stderr",
     "output_type": "stream",
     "text": [
      "/home/bgb2/miniconda3/envs/itcz_phys/lib/python3.11/site-packages/xarray/coding/times.py:152: SerializationWarning: Ambiguous reference date string: 101-01-01. The first value is assumed to be the year hence will be padded with zeros to remove the ambiguity (the padded reference date string is: 0101-01-01). To remove this message, remove the ambiguity by padding your reference date strings with zeros.\n",
      "  warnings.warn(warning_msg, SerializationWarning)\n"
     ]
    },
    {
     "name": "stdout",
     "output_type": "stream",
     "text": [
      "### (4/5) done with ahtmoist ###\n",
      "### (5/5) done with ahtdry ###\n"
     ]
    },
    {
     "name": "stderr",
     "output_type": "stream",
     "text": [
      "/home/bgb2/miniconda3/envs/itcz_phys/lib/python3.11/site-packages/xarray/coding/times.py:152: SerializationWarning: Ambiguous reference date string: 101-01-01. The first value is assumed to be the year hence will be padded with zeros to remove the ambiguity (the padded reference date string is: 0101-01-01). To remove this message, remove the ambiguity by padding your reference date strings with zeros.\n",
      "  warnings.warn(warning_msg, SerializationWarning)\n"
     ]
    },
    {
     "name": "stdout",
     "output_type": "stream",
     "text": [
      "/tiger/scratch/gpfs/GEOCLIM/bgb2/CMIPnht/ACCESS-ESM1-5/mht_Amon_ACCESS-ESM1-5_1pctCO2_r1i1p1f1_zonal_020101-024012.nc\n",
      "/tiger/scratch/gpfs/GEOCLIM/bgb2/CMIPnht/ACCESS-ESM1-5/aht_Amon_ACCESS-ESM1-5_1pctCO2_r1i1p1f1_zonal_020101-024012.nc\n",
      "/tiger/scratch/gpfs/GEOCLIM/bgb2/CMIPnht/ACCESS-ESM1-5/oht_Amon_ACCESS-ESM1-5_1pctCO2_r1i1p1f1_zonal_020101-024012.nc\n",
      "/tiger/scratch/gpfs/GEOCLIM/bgb2/CMIPnht/ACCESS-ESM1-5/ahtmoist_Amon_ACCESS-ESM1-5_1pctCO2_r1i1p1f1_zonal_020101-024012.nc\n",
      "/tiger/scratch/gpfs/GEOCLIM/bgb2/CMIPnht/ACCESS-ESM1-5/ahtdry_Amon_ACCESS-ESM1-5_1pctCO2_r1i1p1f1_zonal_020101-024012.nc\n",
      "/tiger/scratch/gpfs/GEOCLIM/bgb2/CMIPnht/ACCESS-ESM1-5/storage_Amon_ACCESS-ESM1-5_1pctCO2_r1i1p1f1_zonal_020101-024012.nc\n",
      "/tiger/scratch/gpfs/GEOCLIM/bgb2/CMIPnht/ACCESS-ESM1-5/storagemoist_Amon_ACCESS-ESM1-5_1pctCO2_r1i1p1f1_zonal_020101-024012.nc\n",
      "   1pctCO2-rad\n"
     ]
    },
    {
     "name": "stderr",
     "output_type": "stream",
     "text": [
      "/home/bgb2/miniconda3/envs/itcz_phys/lib/python3.11/site-packages/xarray/coding/times.py:152: SerializationWarning: Ambiguous reference date string: 101-01-01. The first value is assumed to be the year hence will be padded with zeros to remove the ambiguity (the padded reference date string is: 0101-01-01). To remove this message, remove the ambiguity by padding your reference date strings with zeros.\n",
      "  warnings.warn(warning_msg, SerializationWarning)\n",
      "/home/bgb2/miniconda3/envs/itcz_phys/lib/python3.11/site-packages/xarray/coding/times.py:152: SerializationWarning: Ambiguous reference date string: 101-01-01. The first value is assumed to be the year hence will be padded with zeros to remove the ambiguity (the padded reference date string is: 0101-01-01). To remove this message, remove the ambiguity by padding your reference date strings with zeros.\n",
      "  warnings.warn(warning_msg, SerializationWarning)\n"
     ]
    },
    {
     "name": "stdout",
     "output_type": "stream",
     "text": [
      "### (1/5) done with mht ###\n"
     ]
    },
    {
     "name": "stderr",
     "output_type": "stream",
     "text": [
      "/home/bgb2/miniconda3/envs/itcz_phys/lib/python3.11/site-packages/xarray/coding/times.py:152: SerializationWarning: Ambiguous reference date string: 101-01-01. The first value is assumed to be the year hence will be padded with zeros to remove the ambiguity (the padded reference date string is: 0101-01-01). To remove this message, remove the ambiguity by padding your reference date strings with zeros.\n",
      "  warnings.warn(warning_msg, SerializationWarning)\n",
      "/home/bgb2/miniconda3/envs/itcz_phys/lib/python3.11/site-packages/xarray/coding/times.py:152: SerializationWarning: Ambiguous reference date string: 101-01-01. The first value is assumed to be the year hence will be padded with zeros to remove the ambiguity (the padded reference date string is: 0101-01-01). To remove this message, remove the ambiguity by padding your reference date strings with zeros.\n",
      "  warnings.warn(warning_msg, SerializationWarning)\n",
      "/home/bgb2/miniconda3/envs/itcz_phys/lib/python3.11/site-packages/xarray/coding/times.py:152: SerializationWarning: Ambiguous reference date string: 101-01-01. The first value is assumed to be the year hence will be padded with zeros to remove the ambiguity (the padded reference date string is: 0101-01-01). To remove this message, remove the ambiguity by padding your reference date strings with zeros.\n",
      "  warnings.warn(warning_msg, SerializationWarning)\n",
      "/home/bgb2/miniconda3/envs/itcz_phys/lib/python3.11/site-packages/xarray/coding/times.py:152: SerializationWarning: Ambiguous reference date string: 101-01-01. The first value is assumed to be the year hence will be padded with zeros to remove the ambiguity (the padded reference date string is: 0101-01-01). To remove this message, remove the ambiguity by padding your reference date strings with zeros.\n",
      "  warnings.warn(warning_msg, SerializationWarning)\n",
      "/home/bgb2/miniconda3/envs/itcz_phys/lib/python3.11/site-packages/xarray/coding/times.py:152: SerializationWarning: Ambiguous reference date string: 101-01-01. The first value is assumed to be the year hence will be padded with zeros to remove the ambiguity (the padded reference date string is: 0101-01-01). To remove this message, remove the ambiguity by padding your reference date strings with zeros.\n",
      "  warnings.warn(warning_msg, SerializationWarning)\n",
      "/home/bgb2/miniconda3/envs/itcz_phys/lib/python3.11/site-packages/xarray/coding/times.py:152: SerializationWarning: Ambiguous reference date string: 101-01-01. The first value is assumed to be the year hence will be padded with zeros to remove the ambiguity (the padded reference date string is: 0101-01-01). To remove this message, remove the ambiguity by padding your reference date strings with zeros.\n",
      "  warnings.warn(warning_msg, SerializationWarning)\n",
      "/home/bgb2/miniconda3/envs/itcz_phys/lib/python3.11/site-packages/xarray/coding/times.py:152: SerializationWarning: Ambiguous reference date string: 101-01-01. The first value is assumed to be the year hence will be padded with zeros to remove the ambiguity (the padded reference date string is: 0101-01-01). To remove this message, remove the ambiguity by padding your reference date strings with zeros.\n",
      "  warnings.warn(warning_msg, SerializationWarning)\n"
     ]
    },
    {
     "name": "stdout",
     "output_type": "stream",
     "text": [
      "### (2/5) done with oht ###\n"
     ]
    },
    {
     "name": "stderr",
     "output_type": "stream",
     "text": [
      "/home/bgb2/miniconda3/envs/itcz_phys/lib/python3.11/site-packages/xarray/coding/times.py:152: SerializationWarning: Ambiguous reference date string: 101-01-01. The first value is assumed to be the year hence will be padded with zeros to remove the ambiguity (the padded reference date string is: 0101-01-01). To remove this message, remove the ambiguity by padding your reference date strings with zeros.\n",
      "  warnings.warn(warning_msg, SerializationWarning)\n",
      "/home/bgb2/miniconda3/envs/itcz_phys/lib/python3.11/site-packages/xarray/coding/times.py:152: SerializationWarning: Ambiguous reference date string: 101-01-01. The first value is assumed to be the year hence will be padded with zeros to remove the ambiguity (the padded reference date string is: 0101-01-01). To remove this message, remove the ambiguity by padding your reference date strings with zeros.\n",
      "  warnings.warn(warning_msg, SerializationWarning)\n"
     ]
    },
    {
     "name": "stdout",
     "output_type": "stream",
     "text": [
      "### (3/5) done with aht ###\n"
     ]
    },
    {
     "name": "stderr",
     "output_type": "stream",
     "text": [
      "/home/bgb2/miniconda3/envs/itcz_phys/lib/python3.11/site-packages/xarray/coding/times.py:152: SerializationWarning: Ambiguous reference date string: 101-01-01. The first value is assumed to be the year hence will be padded with zeros to remove the ambiguity (the padded reference date string is: 0101-01-01). To remove this message, remove the ambiguity by padding your reference date strings with zeros.\n",
      "  warnings.warn(warning_msg, SerializationWarning)\n"
     ]
    },
    {
     "name": "stdout",
     "output_type": "stream",
     "text": [
      "### (4/5) done with ahtmoist ###\n",
      "### (5/5) done with ahtdry ###\n",
      "/tiger/scratch/gpfs/GEOCLIM/bgb2/CMIPnht/ACCESS-ESM1-5/mht_Amon_ACCESS-ESM1-5_1pctCO2-rad_r1i1p1f1_zonal_020101-024012.nc\n",
      "/tiger/scratch/gpfs/GEOCLIM/bgb2/CMIPnht/ACCESS-ESM1-5/aht_Amon_ACCESS-ESM1-5_1pctCO2-rad_r1i1p1f1_zonal_020101-024012.nc\n",
      "/tiger/scratch/gpfs/GEOCLIM/bgb2/CMIPnht/ACCESS-ESM1-5/oht_Amon_ACCESS-ESM1-5_1pctCO2-rad_r1i1p1f1_zonal_020101-024012.nc\n",
      "/tiger/scratch/gpfs/GEOCLIM/bgb2/CMIPnht/ACCESS-ESM1-5/ahtmoist_Amon_ACCESS-ESM1-5_1pctCO2-rad_r1i1p1f1_zonal_020101-024012.nc\n",
      "/tiger/scratch/gpfs/GEOCLIM/bgb2/CMIPnht/ACCESS-ESM1-5/ahtdry_Amon_ACCESS-ESM1-5_1pctCO2-rad_r1i1p1f1_zonal_020101-024012.nc\n",
      "/tiger/scratch/gpfs/GEOCLIM/bgb2/CMIPnht/ACCESS-ESM1-5/storage_Amon_ACCESS-ESM1-5_1pctCO2-rad_r1i1p1f1_zonal_020101-024012.nc\n",
      "/tiger/scratch/gpfs/GEOCLIM/bgb2/CMIPnht/ACCESS-ESM1-5/storagemoist_Amon_ACCESS-ESM1-5_1pctCO2-rad_r1i1p1f1_zonal_020101-024012.nc\n",
      "BCC-CSM2-MR\n",
      "   1pctCO2\n"
     ]
    },
    {
     "name": "stderr",
     "output_type": "stream",
     "text": [
      "/home/bgb2/miniconda3/envs/itcz_phys/lib/python3.11/site-packages/xarray/coding/times.py:152: SerializationWarning: Ambiguous reference date string: 101-01-01. The first value is assumed to be the year hence will be padded with zeros to remove the ambiguity (the padded reference date string is: 0101-01-01). To remove this message, remove the ambiguity by padding your reference date strings with zeros.\n",
      "  warnings.warn(warning_msg, SerializationWarning)\n"
     ]
    },
    {
     "name": "stdout",
     "output_type": "stream",
     "text": [
      "### (1/5) done with mht ###\n",
      "### (2/5) done with oht ###\n",
      "### (3/5) done with aht ###\n",
      "### (4/5) done with ahtmoist ###\n",
      "### (5/5) done with ahtdry ###\n",
      "/tiger/scratch/gpfs/GEOCLIM/bgb2/CMIPnht/BCC-CSM2-MR/mht_Amon_BCC-CSM2-MR_1pctCO2_r1i1p1f1_zonal_195001-198912.nc\n",
      "/tiger/scratch/gpfs/GEOCLIM/bgb2/CMIPnht/BCC-CSM2-MR/aht_Amon_BCC-CSM2-MR_1pctCO2_r1i1p1f1_zonal_195001-198912.nc\n",
      "/tiger/scratch/gpfs/GEOCLIM/bgb2/CMIPnht/BCC-CSM2-MR/oht_Amon_BCC-CSM2-MR_1pctCO2_r1i1p1f1_zonal_195001-198912.nc\n",
      "/tiger/scratch/gpfs/GEOCLIM/bgb2/CMIPnht/BCC-CSM2-MR/ahtmoist_Amon_BCC-CSM2-MR_1pctCO2_r1i1p1f1_zonal_195001-198912.nc\n",
      "/tiger/scratch/gpfs/GEOCLIM/bgb2/CMIPnht/BCC-CSM2-MR/ahtdry_Amon_BCC-CSM2-MR_1pctCO2_r1i1p1f1_zonal_195001-198912.nc\n",
      "/tiger/scratch/gpfs/GEOCLIM/bgb2/CMIPnht/BCC-CSM2-MR/storage_Amon_BCC-CSM2-MR_1pctCO2_r1i1p1f1_zonal_195001-198912.nc\n",
      "/tiger/scratch/gpfs/GEOCLIM/bgb2/CMIPnht/BCC-CSM2-MR/storagemoist_Amon_BCC-CSM2-MR_1pctCO2_r1i1p1f1_zonal_195001-198912.nc\n",
      "   1pctCO2-rad\n",
      "### (1/5) done with mht ###\n",
      "### (2/5) done with oht ###\n",
      "### (3/5) done with aht ###\n",
      "### (4/5) done with ahtmoist ###\n",
      "### (5/5) done with ahtdry ###\n",
      "/tiger/scratch/gpfs/GEOCLIM/bgb2/CMIPnht/BCC-CSM2-MR/mht_Amon_BCC-CSM2-MR_1pctCO2-rad_r1i1p1f1_zonal_195001-198912.nc\n",
      "/tiger/scratch/gpfs/GEOCLIM/bgb2/CMIPnht/BCC-CSM2-MR/aht_Amon_BCC-CSM2-MR_1pctCO2-rad_r1i1p1f1_zonal_195001-198912.nc\n",
      "/tiger/scratch/gpfs/GEOCLIM/bgb2/CMIPnht/BCC-CSM2-MR/oht_Amon_BCC-CSM2-MR_1pctCO2-rad_r1i1p1f1_zonal_195001-198912.nc\n",
      "/tiger/scratch/gpfs/GEOCLIM/bgb2/CMIPnht/BCC-CSM2-MR/ahtmoist_Amon_BCC-CSM2-MR_1pctCO2-rad_r1i1p1f1_zonal_195001-198912.nc\n",
      "/tiger/scratch/gpfs/GEOCLIM/bgb2/CMIPnht/BCC-CSM2-MR/ahtdry_Amon_BCC-CSM2-MR_1pctCO2-rad_r1i1p1f1_zonal_195001-198912.nc\n",
      "/tiger/scratch/gpfs/GEOCLIM/bgb2/CMIPnht/BCC-CSM2-MR/storage_Amon_BCC-CSM2-MR_1pctCO2-rad_r1i1p1f1_zonal_195001-198912.nc\n",
      "/tiger/scratch/gpfs/GEOCLIM/bgb2/CMIPnht/BCC-CSM2-MR/storagemoist_Amon_BCC-CSM2-MR_1pctCO2-rad_r1i1p1f1_zonal_195001-198912.nc\n",
      "CESM2\n",
      "   1pctCO2\n",
      "### (1/5) done with mht ###\n",
      "### (2/5) done with oht ###\n",
      "### (3/5) done with aht ###\n",
      "### (4/5) done with ahtmoist ###\n",
      "### (5/5) done with ahtdry ###\n",
      "/tiger/scratch/gpfs/GEOCLIM/bgb2/CMIPnht/CESM2/mht_Amon_CESM2_1pctCO2_r1i1p1f1_zonal_010101-014012.nc\n",
      "/tiger/scratch/gpfs/GEOCLIM/bgb2/CMIPnht/CESM2/aht_Amon_CESM2_1pctCO2_r1i1p1f1_zonal_010101-014012.nc\n",
      "/tiger/scratch/gpfs/GEOCLIM/bgb2/CMIPnht/CESM2/oht_Amon_CESM2_1pctCO2_r1i1p1f1_zonal_010101-014012.nc\n",
      "/tiger/scratch/gpfs/GEOCLIM/bgb2/CMIPnht/CESM2/ahtmoist_Amon_CESM2_1pctCO2_r1i1p1f1_zonal_010101-014012.nc\n",
      "/tiger/scratch/gpfs/GEOCLIM/bgb2/CMIPnht/CESM2/ahtdry_Amon_CESM2_1pctCO2_r1i1p1f1_zonal_010101-014012.nc\n",
      "/tiger/scratch/gpfs/GEOCLIM/bgb2/CMIPnht/CESM2/storage_Amon_CESM2_1pctCO2_r1i1p1f1_zonal_010101-014012.nc\n",
      "/tiger/scratch/gpfs/GEOCLIM/bgb2/CMIPnht/CESM2/storagemoist_Amon_CESM2_1pctCO2_r1i1p1f1_zonal_010101-014012.nc\n",
      "   1pctCO2-rad\n",
      "### (1/5) done with mht ###\n",
      "### (2/5) done with oht ###\n",
      "### (3/5) done with aht ###\n",
      "### (4/5) done with ahtmoist ###\n",
      "### (5/5) done with ahtdry ###\n",
      "/tiger/scratch/gpfs/GEOCLIM/bgb2/CMIPnht/CESM2/mht_Amon_CESM2_1pctCO2-rad_r1i1p1f1_zonal_010101-014012.nc\n",
      "/tiger/scratch/gpfs/GEOCLIM/bgb2/CMIPnht/CESM2/aht_Amon_CESM2_1pctCO2-rad_r1i1p1f1_zonal_010101-014012.nc\n",
      "/tiger/scratch/gpfs/GEOCLIM/bgb2/CMIPnht/CESM2/oht_Amon_CESM2_1pctCO2-rad_r1i1p1f1_zonal_010101-014012.nc\n",
      "/tiger/scratch/gpfs/GEOCLIM/bgb2/CMIPnht/CESM2/ahtmoist_Amon_CESM2_1pctCO2-rad_r1i1p1f1_zonal_010101-014012.nc\n",
      "/tiger/scratch/gpfs/GEOCLIM/bgb2/CMIPnht/CESM2/ahtdry_Amon_CESM2_1pctCO2-rad_r1i1p1f1_zonal_010101-014012.nc\n",
      "/tiger/scratch/gpfs/GEOCLIM/bgb2/CMIPnht/CESM2/storage_Amon_CESM2_1pctCO2-rad_r1i1p1f1_zonal_010101-014012.nc\n",
      "/tiger/scratch/gpfs/GEOCLIM/bgb2/CMIPnht/CESM2/storagemoist_Amon_CESM2_1pctCO2-rad_r1i1p1f1_zonal_010101-014012.nc\n",
      "CMCC-ESM2\n",
      "   1pctCO2\n",
      "### (1/5) done with mht ###\n",
      "### (2/5) done with oht ###\n",
      "### (3/5) done with aht ###\n",
      "### (4/5) done with ahtmoist ###\n",
      "### (5/5) done with ahtdry ###\n",
      "/tiger/scratch/gpfs/GEOCLIM/bgb2/CMIPnht/CMCC-ESM2/mht_Amon_CMCC-ESM2_1pctCO2_r1i1p1f1_zonal_195001-198912.nc\n",
      "/tiger/scratch/gpfs/GEOCLIM/bgb2/CMIPnht/CMCC-ESM2/aht_Amon_CMCC-ESM2_1pctCO2_r1i1p1f1_zonal_195001-198912.nc\n",
      "/tiger/scratch/gpfs/GEOCLIM/bgb2/CMIPnht/CMCC-ESM2/oht_Amon_CMCC-ESM2_1pctCO2_r1i1p1f1_zonal_195001-198912.nc\n",
      "/tiger/scratch/gpfs/GEOCLIM/bgb2/CMIPnht/CMCC-ESM2/ahtmoist_Amon_CMCC-ESM2_1pctCO2_r1i1p1f1_zonal_195001-198912.nc\n",
      "/tiger/scratch/gpfs/GEOCLIM/bgb2/CMIPnht/CMCC-ESM2/ahtdry_Amon_CMCC-ESM2_1pctCO2_r1i1p1f1_zonal_195001-198912.nc\n",
      "/tiger/scratch/gpfs/GEOCLIM/bgb2/CMIPnht/CMCC-ESM2/storage_Amon_CMCC-ESM2_1pctCO2_r1i1p1f1_zonal_195001-198912.nc\n",
      "/tiger/scratch/gpfs/GEOCLIM/bgb2/CMIPnht/CMCC-ESM2/storagemoist_Amon_CMCC-ESM2_1pctCO2_r1i1p1f1_zonal_195001-198912.nc\n",
      "   1pctCO2-rad\n",
      "### (1/5) done with mht ###\n",
      "### (2/5) done with oht ###\n",
      "### (3/5) done with aht ###\n",
      "### (4/5) done with ahtmoist ###\n",
      "### (5/5) done with ahtdry ###\n",
      "/tiger/scratch/gpfs/GEOCLIM/bgb2/CMIPnht/CMCC-ESM2/mht_Amon_CMCC-ESM2_1pctCO2-rad_r1i1p1f1_zonal_195001-198912.nc\n",
      "/tiger/scratch/gpfs/GEOCLIM/bgb2/CMIPnht/CMCC-ESM2/aht_Amon_CMCC-ESM2_1pctCO2-rad_r1i1p1f1_zonal_195001-198912.nc\n",
      "/tiger/scratch/gpfs/GEOCLIM/bgb2/CMIPnht/CMCC-ESM2/oht_Amon_CMCC-ESM2_1pctCO2-rad_r1i1p1f1_zonal_195001-198912.nc\n",
      "/tiger/scratch/gpfs/GEOCLIM/bgb2/CMIPnht/CMCC-ESM2/ahtmoist_Amon_CMCC-ESM2_1pctCO2-rad_r1i1p1f1_zonal_195001-198912.nc\n",
      "/tiger/scratch/gpfs/GEOCLIM/bgb2/CMIPnht/CMCC-ESM2/ahtdry_Amon_CMCC-ESM2_1pctCO2-rad_r1i1p1f1_zonal_195001-198912.nc\n",
      "/tiger/scratch/gpfs/GEOCLIM/bgb2/CMIPnht/CMCC-ESM2/storage_Amon_CMCC-ESM2_1pctCO2-rad_r1i1p1f1_zonal_195001-198912.nc\n",
      "/tiger/scratch/gpfs/GEOCLIM/bgb2/CMIPnht/CMCC-ESM2/storagemoist_Amon_CMCC-ESM2_1pctCO2-rad_r1i1p1f1_zonal_195001-198912.nc\n",
      "CNRM-ESM2-1\n",
      "   1pctCO2\n",
      "### (1/5) done with mht ###\n",
      "### (2/5) done with oht ###\n",
      "### (3/5) done with aht ###\n",
      "### (4/5) done with ahtmoist ###\n",
      "### (5/5) done with ahtdry ###\n",
      "/tiger/scratch/gpfs/GEOCLIM/bgb2/CMIPnht/CNRM-ESM2-1/mht_Amon_CNRM-ESM2-1_1pctCO2_r1i1p1f2_zonal_195001-198912.nc\n",
      "/tiger/scratch/gpfs/GEOCLIM/bgb2/CMIPnht/CNRM-ESM2-1/aht_Amon_CNRM-ESM2-1_1pctCO2_r1i1p1f2_zonal_195001-198912.nc\n",
      "/tiger/scratch/gpfs/GEOCLIM/bgb2/CMIPnht/CNRM-ESM2-1/oht_Amon_CNRM-ESM2-1_1pctCO2_r1i1p1f2_zonal_195001-198912.nc\n",
      "/tiger/scratch/gpfs/GEOCLIM/bgb2/CMIPnht/CNRM-ESM2-1/ahtmoist_Amon_CNRM-ESM2-1_1pctCO2_r1i1p1f2_zonal_195001-198912.nc\n",
      "/tiger/scratch/gpfs/GEOCLIM/bgb2/CMIPnht/CNRM-ESM2-1/ahtdry_Amon_CNRM-ESM2-1_1pctCO2_r1i1p1f2_zonal_195001-198912.nc\n",
      "/tiger/scratch/gpfs/GEOCLIM/bgb2/CMIPnht/CNRM-ESM2-1/storage_Amon_CNRM-ESM2-1_1pctCO2_r1i1p1f2_zonal_195001-198912.nc\n",
      "/tiger/scratch/gpfs/GEOCLIM/bgb2/CMIPnht/CNRM-ESM2-1/storagemoist_Amon_CNRM-ESM2-1_1pctCO2_r1i1p1f2_zonal_195001-198912.nc\n",
      "   1pctCO2-rad\n",
      "### (1/5) done with mht ###\n",
      "### (2/5) done with oht ###\n",
      "### (3/5) done with aht ###\n",
      "### (4/5) done with ahtmoist ###\n",
      "### (5/5) done with ahtdry ###\n",
      "/tiger/scratch/gpfs/GEOCLIM/bgb2/CMIPnht/CNRM-ESM2-1/mht_Amon_CNRM-ESM2-1_1pctCO2-rad_r1i1p1f2_zonal_195001-198912.nc\n",
      "/tiger/scratch/gpfs/GEOCLIM/bgb2/CMIPnht/CNRM-ESM2-1/aht_Amon_CNRM-ESM2-1_1pctCO2-rad_r1i1p1f2_zonal_195001-198912.nc\n",
      "/tiger/scratch/gpfs/GEOCLIM/bgb2/CMIPnht/CNRM-ESM2-1/oht_Amon_CNRM-ESM2-1_1pctCO2-rad_r1i1p1f2_zonal_195001-198912.nc\n",
      "/tiger/scratch/gpfs/GEOCLIM/bgb2/CMIPnht/CNRM-ESM2-1/ahtmoist_Amon_CNRM-ESM2-1_1pctCO2-rad_r1i1p1f2_zonal_195001-198912.nc\n",
      "/tiger/scratch/gpfs/GEOCLIM/bgb2/CMIPnht/CNRM-ESM2-1/ahtdry_Amon_CNRM-ESM2-1_1pctCO2-rad_r1i1p1f2_zonal_195001-198912.nc\n",
      "/tiger/scratch/gpfs/GEOCLIM/bgb2/CMIPnht/CNRM-ESM2-1/storage_Amon_CNRM-ESM2-1_1pctCO2-rad_r1i1p1f2_zonal_195001-198912.nc\n",
      "/tiger/scratch/gpfs/GEOCLIM/bgb2/CMIPnht/CNRM-ESM2-1/storagemoist_Amon_CNRM-ESM2-1_1pctCO2-rad_r1i1p1f2_zonal_195001-198912.nc\n",
      "EC-Earth3-CC\n",
      "   1pctCO2\n",
      "### (1/5) done with mht ###\n",
      "### (2/5) done with oht ###\n",
      "### (3/5) done with aht ###\n",
      "### (4/5) done with ahtmoist ###\n",
      "### (5/5) done with ahtdry ###\n",
      "/tiger/scratch/gpfs/GEOCLIM/bgb2/CMIPnht/EC-Earth3-CC/mht_Amon_EC-Earth3-CC_1pctCO2_r1i1p1f1_zonal_195001-198912.nc\n",
      "/tiger/scratch/gpfs/GEOCLIM/bgb2/CMIPnht/EC-Earth3-CC/aht_Amon_EC-Earth3-CC_1pctCO2_r1i1p1f1_zonal_195001-198912.nc\n",
      "/tiger/scratch/gpfs/GEOCLIM/bgb2/CMIPnht/EC-Earth3-CC/oht_Amon_EC-Earth3-CC_1pctCO2_r1i1p1f1_zonal_195001-198912.nc\n",
      "/tiger/scratch/gpfs/GEOCLIM/bgb2/CMIPnht/EC-Earth3-CC/ahtmoist_Amon_EC-Earth3-CC_1pctCO2_r1i1p1f1_zonal_195001-198912.nc\n",
      "/tiger/scratch/gpfs/GEOCLIM/bgb2/CMIPnht/EC-Earth3-CC/ahtdry_Amon_EC-Earth3-CC_1pctCO2_r1i1p1f1_zonal_195001-198912.nc\n",
      "/tiger/scratch/gpfs/GEOCLIM/bgb2/CMIPnht/EC-Earth3-CC/storage_Amon_EC-Earth3-CC_1pctCO2_r1i1p1f1_zonal_195001-198912.nc\n",
      "/tiger/scratch/gpfs/GEOCLIM/bgb2/CMIPnht/EC-Earth3-CC/storagemoist_Amon_EC-Earth3-CC_1pctCO2_r1i1p1f1_zonal_195001-198912.nc\n",
      "   1pctCO2-rad\n",
      "### (1/5) done with mht ###\n",
      "### (2/5) done with oht ###\n",
      "### (3/5) done with aht ###\n",
      "### (4/5) done with ahtmoist ###\n",
      "### (5/5) done with ahtdry ###\n",
      "/tiger/scratch/gpfs/GEOCLIM/bgb2/CMIPnht/EC-Earth3-CC/mht_Amon_EC-Earth3-CC_1pctCO2-rad_r1i1p1f1_zonal_195001-198912.nc\n",
      "/tiger/scratch/gpfs/GEOCLIM/bgb2/CMIPnht/EC-Earth3-CC/aht_Amon_EC-Earth3-CC_1pctCO2-rad_r1i1p1f1_zonal_195001-198912.nc\n",
      "/tiger/scratch/gpfs/GEOCLIM/bgb2/CMIPnht/EC-Earth3-CC/oht_Amon_EC-Earth3-CC_1pctCO2-rad_r1i1p1f1_zonal_195001-198912.nc\n",
      "/tiger/scratch/gpfs/GEOCLIM/bgb2/CMIPnht/EC-Earth3-CC/ahtmoist_Amon_EC-Earth3-CC_1pctCO2-rad_r1i1p1f1_zonal_195001-198912.nc\n",
      "/tiger/scratch/gpfs/GEOCLIM/bgb2/CMIPnht/EC-Earth3-CC/ahtdry_Amon_EC-Earth3-CC_1pctCO2-rad_r1i1p1f1_zonal_195001-198912.nc\n",
      "/tiger/scratch/gpfs/GEOCLIM/bgb2/CMIPnht/EC-Earth3-CC/storage_Amon_EC-Earth3-CC_1pctCO2-rad_r1i1p1f1_zonal_195001-198912.nc\n",
      "/tiger/scratch/gpfs/GEOCLIM/bgb2/CMIPnht/EC-Earth3-CC/storagemoist_Amon_EC-Earth3-CC_1pctCO2-rad_r1i1p1f1_zonal_195001-198912.nc\n",
      "GFDL-ESM4\n",
      "   1pctCO2\n",
      "### (1/5) done with mht ###\n",
      "### (2/5) done with oht ###\n",
      "### (3/5) done with aht ###\n",
      "### (4/5) done with ahtmoist ###\n",
      "### (5/5) done with ahtdry ###\n",
      "/tiger/scratch/gpfs/GEOCLIM/bgb2/CMIPnht/GFDL-ESM4/mht_Amon_GFDL-ESM4_1pctCO2_r1i1p1f1_zonal_010101-014012.nc\n",
      "/tiger/scratch/gpfs/GEOCLIM/bgb2/CMIPnht/GFDL-ESM4/aht_Amon_GFDL-ESM4_1pctCO2_r1i1p1f1_zonal_010101-014012.nc\n",
      "/tiger/scratch/gpfs/GEOCLIM/bgb2/CMIPnht/GFDL-ESM4/oht_Amon_GFDL-ESM4_1pctCO2_r1i1p1f1_zonal_010101-014012.nc\n",
      "/tiger/scratch/gpfs/GEOCLIM/bgb2/CMIPnht/GFDL-ESM4/ahtmoist_Amon_GFDL-ESM4_1pctCO2_r1i1p1f1_zonal_010101-014012.nc\n",
      "/tiger/scratch/gpfs/GEOCLIM/bgb2/CMIPnht/GFDL-ESM4/ahtdry_Amon_GFDL-ESM4_1pctCO2_r1i1p1f1_zonal_010101-014012.nc\n",
      "/tiger/scratch/gpfs/GEOCLIM/bgb2/CMIPnht/GFDL-ESM4/storage_Amon_GFDL-ESM4_1pctCO2_r1i1p1f1_zonal_010101-014012.nc\n",
      "/tiger/scratch/gpfs/GEOCLIM/bgb2/CMIPnht/GFDL-ESM4/storagemoist_Amon_GFDL-ESM4_1pctCO2_r1i1p1f1_zonal_010101-014012.nc\n",
      "   1pctCO2-rad\n",
      "### (1/5) done with mht ###\n",
      "### (2/5) done with oht ###\n",
      "### (3/5) done with aht ###\n",
      "### (4/5) done with ahtmoist ###\n",
      "### (5/5) done with ahtdry ###\n",
      "/tiger/scratch/gpfs/GEOCLIM/bgb2/CMIPnht/GFDL-ESM4/mht_Amon_GFDL-ESM4_1pctCO2-rad_r1i1p1f1_zonal_010101-014012.nc\n",
      "/tiger/scratch/gpfs/GEOCLIM/bgb2/CMIPnht/GFDL-ESM4/aht_Amon_GFDL-ESM4_1pctCO2-rad_r1i1p1f1_zonal_010101-014012.nc\n",
      "/tiger/scratch/gpfs/GEOCLIM/bgb2/CMIPnht/GFDL-ESM4/oht_Amon_GFDL-ESM4_1pctCO2-rad_r1i1p1f1_zonal_010101-014012.nc\n",
      "/tiger/scratch/gpfs/GEOCLIM/bgb2/CMIPnht/GFDL-ESM4/ahtmoist_Amon_GFDL-ESM4_1pctCO2-rad_r1i1p1f1_zonal_010101-014012.nc\n",
      "/tiger/scratch/gpfs/GEOCLIM/bgb2/CMIPnht/GFDL-ESM4/ahtdry_Amon_GFDL-ESM4_1pctCO2-rad_r1i1p1f1_zonal_010101-014012.nc\n",
      "/tiger/scratch/gpfs/GEOCLIM/bgb2/CMIPnht/GFDL-ESM4/storage_Amon_GFDL-ESM4_1pctCO2-rad_r1i1p1f1_zonal_010101-014012.nc\n",
      "/tiger/scratch/gpfs/GEOCLIM/bgb2/CMIPnht/GFDL-ESM4/storagemoist_Amon_GFDL-ESM4_1pctCO2-rad_r1i1p1f1_zonal_010101-014012.nc\n",
      "GISS-E2-1-G\n",
      "   1pctCO2\n",
      "### (1/5) done with mht ###\n",
      "### (2/5) done with oht ###\n",
      "### (3/5) done with aht ###\n",
      "### (4/5) done with ahtmoist ###\n",
      "### (5/5) done with ahtdry ###\n",
      "/tiger/scratch/gpfs/GEOCLIM/bgb2/CMIPnht/GISS-E2-1-G/mht_Amon_GISS-E2-1-G_1pctCO2_r101i1p1f1_zonal_195001-198912.nc\n",
      "/tiger/scratch/gpfs/GEOCLIM/bgb2/CMIPnht/GISS-E2-1-G/aht_Amon_GISS-E2-1-G_1pctCO2_r101i1p1f1_zonal_195001-198912.nc\n",
      "/tiger/scratch/gpfs/GEOCLIM/bgb2/CMIPnht/GISS-E2-1-G/oht_Amon_GISS-E2-1-G_1pctCO2_r101i1p1f1_zonal_195001-198912.nc\n",
      "/tiger/scratch/gpfs/GEOCLIM/bgb2/CMIPnht/GISS-E2-1-G/ahtmoist_Amon_GISS-E2-1-G_1pctCO2_r101i1p1f1_zonal_195001-198912.nc\n",
      "/tiger/scratch/gpfs/GEOCLIM/bgb2/CMIPnht/GISS-E2-1-G/ahtdry_Amon_GISS-E2-1-G_1pctCO2_r101i1p1f1_zonal_195001-198912.nc\n",
      "/tiger/scratch/gpfs/GEOCLIM/bgb2/CMIPnht/GISS-E2-1-G/storage_Amon_GISS-E2-1-G_1pctCO2_r101i1p1f1_zonal_195001-198912.nc\n",
      "/tiger/scratch/gpfs/GEOCLIM/bgb2/CMIPnht/GISS-E2-1-G/storagemoist_Amon_GISS-E2-1-G_1pctCO2_r101i1p1f1_zonal_195001-198912.nc\n",
      "   1pctCO2-rad\n",
      "### (1/5) done with mht ###\n",
      "### (2/5) done with oht ###\n",
      "### (3/5) done with aht ###\n",
      "### (4/5) done with ahtmoist ###\n",
      "### (5/5) done with ahtdry ###\n",
      "/tiger/scratch/gpfs/GEOCLIM/bgb2/CMIPnht/GISS-E2-1-G/mht_Amon_GISS-E2-1-G_1pctCO2-rad_r101i1p1f1_zonal_195001-198912.nc\n",
      "/tiger/scratch/gpfs/GEOCLIM/bgb2/CMIPnht/GISS-E2-1-G/aht_Amon_GISS-E2-1-G_1pctCO2-rad_r101i1p1f1_zonal_195001-198912.nc\n",
      "/tiger/scratch/gpfs/GEOCLIM/bgb2/CMIPnht/GISS-E2-1-G/oht_Amon_GISS-E2-1-G_1pctCO2-rad_r101i1p1f1_zonal_195001-198912.nc\n",
      "/tiger/scratch/gpfs/GEOCLIM/bgb2/CMIPnht/GISS-E2-1-G/ahtmoist_Amon_GISS-E2-1-G_1pctCO2-rad_r101i1p1f1_zonal_195001-198912.nc\n",
      "/tiger/scratch/gpfs/GEOCLIM/bgb2/CMIPnht/GISS-E2-1-G/ahtdry_Amon_GISS-E2-1-G_1pctCO2-rad_r101i1p1f1_zonal_195001-198912.nc\n",
      "/tiger/scratch/gpfs/GEOCLIM/bgb2/CMIPnht/GISS-E2-1-G/storage_Amon_GISS-E2-1-G_1pctCO2-rad_r101i1p1f1_zonal_195001-198912.nc\n",
      "/tiger/scratch/gpfs/GEOCLIM/bgb2/CMIPnht/GISS-E2-1-G/storagemoist_Amon_GISS-E2-1-G_1pctCO2-rad_r101i1p1f1_zonal_195001-198912.nc\n",
      "IPSL-CM6A-LR\n",
      "   1pctCO2\n",
      "### (1/5) done with mht ###\n",
      "### (2/5) done with oht ###\n",
      "### (3/5) done with aht ###\n",
      "### (4/5) done with ahtmoist ###\n",
      "### (5/5) done with ahtdry ###\n",
      "/tiger/scratch/gpfs/GEOCLIM/bgb2/CMIPnht/IPSL-CM6A-LR/mht_Amon_IPSL-CM6A-LR_1pctCO2_r1i1p1f1_zonal_195001-198912.nc\n",
      "/tiger/scratch/gpfs/GEOCLIM/bgb2/CMIPnht/IPSL-CM6A-LR/aht_Amon_IPSL-CM6A-LR_1pctCO2_r1i1p1f1_zonal_195001-198912.nc\n",
      "/tiger/scratch/gpfs/GEOCLIM/bgb2/CMIPnht/IPSL-CM6A-LR/oht_Amon_IPSL-CM6A-LR_1pctCO2_r1i1p1f1_zonal_195001-198912.nc\n",
      "/tiger/scratch/gpfs/GEOCLIM/bgb2/CMIPnht/IPSL-CM6A-LR/ahtmoist_Amon_IPSL-CM6A-LR_1pctCO2_r1i1p1f1_zonal_195001-198912.nc\n",
      "/tiger/scratch/gpfs/GEOCLIM/bgb2/CMIPnht/IPSL-CM6A-LR/ahtdry_Amon_IPSL-CM6A-LR_1pctCO2_r1i1p1f1_zonal_195001-198912.nc\n",
      "/tiger/scratch/gpfs/GEOCLIM/bgb2/CMIPnht/IPSL-CM6A-LR/storage_Amon_IPSL-CM6A-LR_1pctCO2_r1i1p1f1_zonal_195001-198912.nc\n",
      "/tiger/scratch/gpfs/GEOCLIM/bgb2/CMIPnht/IPSL-CM6A-LR/storagemoist_Amon_IPSL-CM6A-LR_1pctCO2_r1i1p1f1_zonal_195001-198912.nc\n",
      "   1pctCO2-rad\n",
      "### (1/5) done with mht ###\n",
      "### (2/5) done with oht ###\n",
      "### (3/5) done with aht ###\n",
      "### (4/5) done with ahtmoist ###\n",
      "### (5/5) done with ahtdry ###\n",
      "/tiger/scratch/gpfs/GEOCLIM/bgb2/CMIPnht/IPSL-CM6A-LR/mht_Amon_IPSL-CM6A-LR_1pctCO2-rad_r1i1p1f1_zonal_195001-198912.nc\n",
      "/tiger/scratch/gpfs/GEOCLIM/bgb2/CMIPnht/IPSL-CM6A-LR/aht_Amon_IPSL-CM6A-LR_1pctCO2-rad_r1i1p1f1_zonal_195001-198912.nc\n",
      "/tiger/scratch/gpfs/GEOCLIM/bgb2/CMIPnht/IPSL-CM6A-LR/oht_Amon_IPSL-CM6A-LR_1pctCO2-rad_r1i1p1f1_zonal_195001-198912.nc\n",
      "/tiger/scratch/gpfs/GEOCLIM/bgb2/CMIPnht/IPSL-CM6A-LR/ahtmoist_Amon_IPSL-CM6A-LR_1pctCO2-rad_r1i1p1f1_zonal_195001-198912.nc\n",
      "/tiger/scratch/gpfs/GEOCLIM/bgb2/CMIPnht/IPSL-CM6A-LR/ahtdry_Amon_IPSL-CM6A-LR_1pctCO2-rad_r1i1p1f1_zonal_195001-198912.nc\n",
      "/tiger/scratch/gpfs/GEOCLIM/bgb2/CMIPnht/IPSL-CM6A-LR/storage_Amon_IPSL-CM6A-LR_1pctCO2-rad_r1i1p1f1_zonal_195001-198912.nc\n",
      "/tiger/scratch/gpfs/GEOCLIM/bgb2/CMIPnht/IPSL-CM6A-LR/storagemoist_Amon_IPSL-CM6A-LR_1pctCO2-rad_r1i1p1f1_zonal_195001-198912.nc\n",
      "MIROC-ES2L\n",
      "   1pctCO2\n",
      "### (1/5) done with mht ###\n",
      "### (2/5) done with oht ###\n",
      "### (3/5) done with aht ###\n",
      "### (4/5) done with ahtmoist ###\n",
      "### (5/5) done with ahtdry ###\n",
      "/tiger/scratch/gpfs/GEOCLIM/bgb2/CMIPnht/MIROC-ES2L/mht_Amon_MIROC-ES2L_1pctCO2_r1i1p1f2_zonal_195001-198912.nc\n",
      "/tiger/scratch/gpfs/GEOCLIM/bgb2/CMIPnht/MIROC-ES2L/aht_Amon_MIROC-ES2L_1pctCO2_r1i1p1f2_zonal_195001-198912.nc\n",
      "/tiger/scratch/gpfs/GEOCLIM/bgb2/CMIPnht/MIROC-ES2L/oht_Amon_MIROC-ES2L_1pctCO2_r1i1p1f2_zonal_195001-198912.nc\n",
      "/tiger/scratch/gpfs/GEOCLIM/bgb2/CMIPnht/MIROC-ES2L/ahtmoist_Amon_MIROC-ES2L_1pctCO2_r1i1p1f2_zonal_195001-198912.nc\n",
      "/tiger/scratch/gpfs/GEOCLIM/bgb2/CMIPnht/MIROC-ES2L/ahtdry_Amon_MIROC-ES2L_1pctCO2_r1i1p1f2_zonal_195001-198912.nc\n",
      "/tiger/scratch/gpfs/GEOCLIM/bgb2/CMIPnht/MIROC-ES2L/storage_Amon_MIROC-ES2L_1pctCO2_r1i1p1f2_zonal_195001-198912.nc\n",
      "/tiger/scratch/gpfs/GEOCLIM/bgb2/CMIPnht/MIROC-ES2L/storagemoist_Amon_MIROC-ES2L_1pctCO2_r1i1p1f2_zonal_195001-198912.nc\n",
      "   1pctCO2-rad\n",
      "### (1/5) done with mht ###\n",
      "### (2/5) done with oht ###\n",
      "### (3/5) done with aht ###\n",
      "### (4/5) done with ahtmoist ###\n",
      "### (5/5) done with ahtdry ###\n",
      "/tiger/scratch/gpfs/GEOCLIM/bgb2/CMIPnht/MIROC-ES2L/mht_Amon_MIROC-ES2L_1pctCO2-rad_r1i1p1f2_zonal_195001-198912.nc\n",
      "/tiger/scratch/gpfs/GEOCLIM/bgb2/CMIPnht/MIROC-ES2L/aht_Amon_MIROC-ES2L_1pctCO2-rad_r1i1p1f2_zonal_195001-198912.nc\n",
      "/tiger/scratch/gpfs/GEOCLIM/bgb2/CMIPnht/MIROC-ES2L/oht_Amon_MIROC-ES2L_1pctCO2-rad_r1i1p1f2_zonal_195001-198912.nc\n",
      "/tiger/scratch/gpfs/GEOCLIM/bgb2/CMIPnht/MIROC-ES2L/ahtmoist_Amon_MIROC-ES2L_1pctCO2-rad_r1i1p1f2_zonal_195001-198912.nc\n",
      "/tiger/scratch/gpfs/GEOCLIM/bgb2/CMIPnht/MIROC-ES2L/ahtdry_Amon_MIROC-ES2L_1pctCO2-rad_r1i1p1f2_zonal_195001-198912.nc\n",
      "/tiger/scratch/gpfs/GEOCLIM/bgb2/CMIPnht/MIROC-ES2L/storage_Amon_MIROC-ES2L_1pctCO2-rad_r1i1p1f2_zonal_195001-198912.nc\n",
      "/tiger/scratch/gpfs/GEOCLIM/bgb2/CMIPnht/MIROC-ES2L/storagemoist_Amon_MIROC-ES2L_1pctCO2-rad_r1i1p1f2_zonal_195001-198912.nc\n",
      "MPI-ESM1-2-LR\n",
      "   1pctCO2\n",
      "### (1/5) done with mht ###\n",
      "### (2/5) done with oht ###\n",
      "### (3/5) done with aht ###\n",
      "### (4/5) done with ahtmoist ###\n",
      "### (5/5) done with ahtdry ###\n",
      "/tiger/scratch/gpfs/GEOCLIM/bgb2/CMIPnht/MPI-ESM1-2-LR/mht_Amon_MPI-ESM1-2-LR_1pctCO2_r1i1p1f1_zonal_195001-198912.nc\n",
      "/tiger/scratch/gpfs/GEOCLIM/bgb2/CMIPnht/MPI-ESM1-2-LR/aht_Amon_MPI-ESM1-2-LR_1pctCO2_r1i1p1f1_zonal_195001-198912.nc\n",
      "/tiger/scratch/gpfs/GEOCLIM/bgb2/CMIPnht/MPI-ESM1-2-LR/oht_Amon_MPI-ESM1-2-LR_1pctCO2_r1i1p1f1_zonal_195001-198912.nc\n",
      "/tiger/scratch/gpfs/GEOCLIM/bgb2/CMIPnht/MPI-ESM1-2-LR/ahtmoist_Amon_MPI-ESM1-2-LR_1pctCO2_r1i1p1f1_zonal_195001-198912.nc\n",
      "/tiger/scratch/gpfs/GEOCLIM/bgb2/CMIPnht/MPI-ESM1-2-LR/ahtdry_Amon_MPI-ESM1-2-LR_1pctCO2_r1i1p1f1_zonal_195001-198912.nc\n",
      "/tiger/scratch/gpfs/GEOCLIM/bgb2/CMIPnht/MPI-ESM1-2-LR/storage_Amon_MPI-ESM1-2-LR_1pctCO2_r1i1p1f1_zonal_195001-198912.nc\n",
      "/tiger/scratch/gpfs/GEOCLIM/bgb2/CMIPnht/MPI-ESM1-2-LR/storagemoist_Amon_MPI-ESM1-2-LR_1pctCO2_r1i1p1f1_zonal_195001-198912.nc\n",
      "   1pctCO2-rad\n",
      "### (1/5) done with mht ###\n",
      "### (2/5) done with oht ###\n",
      "### (3/5) done with aht ###\n",
      "### (4/5) done with ahtmoist ###\n",
      "### (5/5) done with ahtdry ###\n",
      "/tiger/scratch/gpfs/GEOCLIM/bgb2/CMIPnht/MPI-ESM1-2-LR/mht_Amon_MPI-ESM1-2-LR_1pctCO2-rad_r1i1p1f1_zonal_195001-198912.nc\n",
      "/tiger/scratch/gpfs/GEOCLIM/bgb2/CMIPnht/MPI-ESM1-2-LR/aht_Amon_MPI-ESM1-2-LR_1pctCO2-rad_r1i1p1f1_zonal_195001-198912.nc\n",
      "/tiger/scratch/gpfs/GEOCLIM/bgb2/CMIPnht/MPI-ESM1-2-LR/oht_Amon_MPI-ESM1-2-LR_1pctCO2-rad_r1i1p1f1_zonal_195001-198912.nc\n",
      "/tiger/scratch/gpfs/GEOCLIM/bgb2/CMIPnht/MPI-ESM1-2-LR/ahtmoist_Amon_MPI-ESM1-2-LR_1pctCO2-rad_r1i1p1f1_zonal_195001-198912.nc\n",
      "/tiger/scratch/gpfs/GEOCLIM/bgb2/CMIPnht/MPI-ESM1-2-LR/ahtdry_Amon_MPI-ESM1-2-LR_1pctCO2-rad_r1i1p1f1_zonal_195001-198912.nc\n",
      "/tiger/scratch/gpfs/GEOCLIM/bgb2/CMIPnht/MPI-ESM1-2-LR/storage_Amon_MPI-ESM1-2-LR_1pctCO2-rad_r1i1p1f1_zonal_195001-198912.nc\n",
      "/tiger/scratch/gpfs/GEOCLIM/bgb2/CMIPnht/MPI-ESM1-2-LR/storagemoist_Amon_MPI-ESM1-2-LR_1pctCO2-rad_r1i1p1f1_zonal_195001-198912.nc\n",
      "NorESM2-LM\n",
      "   1pctCO2\n",
      "### (1/5) done with mht ###\n",
      "### (2/5) done with oht ###\n",
      "### (3/5) done with aht ###\n",
      "### (4/5) done with ahtmoist ###\n",
      "### (5/5) done with ahtdry ###\n",
      "/tiger/scratch/gpfs/GEOCLIM/bgb2/CMIPnht/NorESM2-LM/mht_Amon_NorESM2-LM_1pctCO2_r1i1p1f1_zonal_010101-014012.nc\n",
      "/tiger/scratch/gpfs/GEOCLIM/bgb2/CMIPnht/NorESM2-LM/aht_Amon_NorESM2-LM_1pctCO2_r1i1p1f1_zonal_010101-014012.nc\n",
      "/tiger/scratch/gpfs/GEOCLIM/bgb2/CMIPnht/NorESM2-LM/oht_Amon_NorESM2-LM_1pctCO2_r1i1p1f1_zonal_010101-014012.nc\n",
      "/tiger/scratch/gpfs/GEOCLIM/bgb2/CMIPnht/NorESM2-LM/ahtmoist_Amon_NorESM2-LM_1pctCO2_r1i1p1f1_zonal_010101-014012.nc\n",
      "/tiger/scratch/gpfs/GEOCLIM/bgb2/CMIPnht/NorESM2-LM/ahtdry_Amon_NorESM2-LM_1pctCO2_r1i1p1f1_zonal_010101-014012.nc\n",
      "/tiger/scratch/gpfs/GEOCLIM/bgb2/CMIPnht/NorESM2-LM/storage_Amon_NorESM2-LM_1pctCO2_r1i1p1f1_zonal_010101-014012.nc\n",
      "/tiger/scratch/gpfs/GEOCLIM/bgb2/CMIPnht/NorESM2-LM/storagemoist_Amon_NorESM2-LM_1pctCO2_r1i1p1f1_zonal_010101-014012.nc\n",
      "   1pctCO2-rad\n",
      "### (1/5) done with mht ###\n",
      "### (2/5) done with oht ###\n",
      "### (3/5) done with aht ###\n",
      "### (4/5) done with ahtmoist ###\n",
      "### (5/5) done with ahtdry ###\n",
      "/tiger/scratch/gpfs/GEOCLIM/bgb2/CMIPnht/NorESM2-LM/mht_Amon_NorESM2-LM_1pctCO2-rad_r1i1p1f1_zonal_010101-014012.nc\n",
      "/tiger/scratch/gpfs/GEOCLIM/bgb2/CMIPnht/NorESM2-LM/aht_Amon_NorESM2-LM_1pctCO2-rad_r1i1p1f1_zonal_010101-014012.nc\n",
      "/tiger/scratch/gpfs/GEOCLIM/bgb2/CMIPnht/NorESM2-LM/oht_Amon_NorESM2-LM_1pctCO2-rad_r1i1p1f1_zonal_010101-014012.nc\n",
      "/tiger/scratch/gpfs/GEOCLIM/bgb2/CMIPnht/NorESM2-LM/ahtmoist_Amon_NorESM2-LM_1pctCO2-rad_r1i1p1f1_zonal_010101-014012.nc\n",
      "/tiger/scratch/gpfs/GEOCLIM/bgb2/CMIPnht/NorESM2-LM/ahtdry_Amon_NorESM2-LM_1pctCO2-rad_r1i1p1f1_zonal_010101-014012.nc\n",
      "/tiger/scratch/gpfs/GEOCLIM/bgb2/CMIPnht/NorESM2-LM/storage_Amon_NorESM2-LM_1pctCO2-rad_r1i1p1f1_zonal_010101-014012.nc\n",
      "/tiger/scratch/gpfs/GEOCLIM/bgb2/CMIPnht/NorESM2-LM/storagemoist_Amon_NorESM2-LM_1pctCO2-rad_r1i1p1f1_zonal_010101-014012.nc\n",
      "UKESM1-0-LL\n",
      "   1pctCO2\n",
      "### (1/5) done with mht ###\n",
      "### (2/5) done with oht ###\n",
      "### (3/5) done with aht ###\n",
      "### (4/5) done with ahtmoist ###\n",
      "### (5/5) done with ahtdry ###\n",
      "/tiger/scratch/gpfs/GEOCLIM/bgb2/CMIPnht/UKESM1-0-LL/mht_Amon_UKESM1-0-LL_1pctCO2_r1i1p1f2_zonal_195001-198912.nc\n",
      "/tiger/scratch/gpfs/GEOCLIM/bgb2/CMIPnht/UKESM1-0-LL/aht_Amon_UKESM1-0-LL_1pctCO2_r1i1p1f2_zonal_195001-198912.nc\n",
      "/tiger/scratch/gpfs/GEOCLIM/bgb2/CMIPnht/UKESM1-0-LL/oht_Amon_UKESM1-0-LL_1pctCO2_r1i1p1f2_zonal_195001-198912.nc\n",
      "/tiger/scratch/gpfs/GEOCLIM/bgb2/CMIPnht/UKESM1-0-LL/ahtmoist_Amon_UKESM1-0-LL_1pctCO2_r1i1p1f2_zonal_195001-198912.nc\n",
      "/tiger/scratch/gpfs/GEOCLIM/bgb2/CMIPnht/UKESM1-0-LL/ahtdry_Amon_UKESM1-0-LL_1pctCO2_r1i1p1f2_zonal_195001-198912.nc\n",
      "/tiger/scratch/gpfs/GEOCLIM/bgb2/CMIPnht/UKESM1-0-LL/storage_Amon_UKESM1-0-LL_1pctCO2_r1i1p1f2_zonal_195001-198912.nc\n",
      "/tiger/scratch/gpfs/GEOCLIM/bgb2/CMIPnht/UKESM1-0-LL/storagemoist_Amon_UKESM1-0-LL_1pctCO2_r1i1p1f2_zonal_195001-198912.nc\n",
      "   1pctCO2-rad\n",
      "### (1/5) done with mht ###\n",
      "### (2/5) done with oht ###\n",
      "### (3/5) done with aht ###\n",
      "### (4/5) done with ahtmoist ###\n",
      "### (5/5) done with ahtdry ###\n",
      "/tiger/scratch/gpfs/GEOCLIM/bgb2/CMIPnht/UKESM1-0-LL/mht_Amon_UKESM1-0-LL_1pctCO2-rad_r1i1p1f2_zonal_195001-198912.nc\n",
      "/tiger/scratch/gpfs/GEOCLIM/bgb2/CMIPnht/UKESM1-0-LL/aht_Amon_UKESM1-0-LL_1pctCO2-rad_r1i1p1f2_zonal_195001-198912.nc\n",
      "/tiger/scratch/gpfs/GEOCLIM/bgb2/CMIPnht/UKESM1-0-LL/oht_Amon_UKESM1-0-LL_1pctCO2-rad_r1i1p1f2_zonal_195001-198912.nc\n",
      "/tiger/scratch/gpfs/GEOCLIM/bgb2/CMIPnht/UKESM1-0-LL/ahtmoist_Amon_UKESM1-0-LL_1pctCO2-rad_r1i1p1f2_zonal_195001-198912.nc\n",
      "/tiger/scratch/gpfs/GEOCLIM/bgb2/CMIPnht/UKESM1-0-LL/ahtdry_Amon_UKESM1-0-LL_1pctCO2-rad_r1i1p1f2_zonal_195001-198912.nc\n",
      "/tiger/scratch/gpfs/GEOCLIM/bgb2/CMIPnht/UKESM1-0-LL/storage_Amon_UKESM1-0-LL_1pctCO2-rad_r1i1p1f2_zonal_195001-198912.nc\n",
      "/tiger/scratch/gpfs/GEOCLIM/bgb2/CMIPnht/UKESM1-0-LL/storagemoist_Amon_UKESM1-0-LL_1pctCO2-rad_r1i1p1f2_zonal_195001-198912.nc\n"
     ]
    }
   ],
   "source": [
    "for m in models:\n",
    "    print(m)\n",
    "    for c in cases_rad:\n",
    "        print('  ',c)\n",
    "        mf.get_heat_transports_seasonal(m, c, write=True)"
   ]
  },
  {
   "cell_type": "code",
   "execution_count": null,
   "id": "10ab4602-e50e-4ba4-8443-de817359dacf",
   "metadata": {},
   "outputs": [],
   "source": []
  }
 ],
 "metadata": {
  "kernelspec": {
   "display_name": "Python 3 (ipykernel)",
   "language": "python",
   "name": "python3"
  },
  "language_info": {
   "codemirror_mode": {
    "name": "ipython",
    "version": 3
   },
   "file_extension": ".py",
   "mimetype": "text/x-python",
   "name": "python",
   "nbconvert_exporter": "python",
   "pygments_lexer": "ipython3",
   "version": "3.11.0"
  },
  "toc-autonumbering": true
 },
 "nbformat": 4,
 "nbformat_minor": 5
}
