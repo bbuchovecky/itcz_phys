{
 "cells": [
  {
   "cell_type": "raw",
   "id": "0749d531-e541-468f-816f-5ab0c827af25",
   "metadata": {},
   "source": [
    "Filename:   01_file-management.ipynb\n",
    "Author:     Benjamin Buchovecky\n",
    "Project:    itcz_phys (Senior Thesis)\n",
    "Created on: 01/31/23"
   ]
  },
  {
   "cell_type": "markdown",
   "id": "218bf32a-beea-43d6-bf75-57e575f03934",
   "metadata": {},
   "source": [
    "# File management\n",
    "\n",
    "The goal here is to merge all variables for their respective case using ```cdo mergetime```."
   ]
  },
  {
   "cell_type": "markdown",
   "id": "7fe2093d-ed13-43bb-85c8-9fcd3e2c270f",
   "metadata": {},
   "source": [
    "# Setup"
   ]
  },
  {
   "cell_type": "code",
   "execution_count": 30,
   "id": "608428c2-c28c-41c8-aaf6-3a0bd257350c",
   "metadata": {},
   "outputs": [],
   "source": [
    "import os\n",
    "import shutil\n",
    "import glob\n",
    "import pandas as pd\n",
    "import numpy as np\n",
    "import xarray as xr\n",
    "import pickle as pkl\n",
    "\n",
    "import cartopy\n",
    "import cartopy.crs as ccrs\n",
    "import cartopy.mpl.ticker as cticker\n",
    "from cartopy.util import add_cyclic_point\n",
    "\n",
    "import matplotlib.pyplot as plt\n",
    "import matplotlib.ticker as mticker\n",
    "import matplotlib.path as mpath\n",
    "\n",
    "import cmocean.cm as cmo\n",
    "\n",
    "import warnings\n",
    "warnings.filterwarnings(\"ignore\", message=\"Unable to decode time axis into full numpy.datetime64 objects, continuing using cftime.datetime objects instead, reason: dates out of range\")\n",
    "warnings.filterwarnings(\"ignore\", message=\"Ambiguous reference date string: 101-01-01. The first value is assumed to be the year hence will be padded with zeros to remove the ambiguity (the padded reference date string is: 0101-01-01). To remove this message, remove the ambiguity by padding your reference date strings with zeros.\")"
   ]
  },
  {
   "cell_type": "code",
   "execution_count": 2,
   "id": "98e7c48c-d3b7-47ab-a180-867e834d5936",
   "metadata": {},
   "outputs": [],
   "source": [
    "## some magic to automatically reload my functions before running a new cell\n",
    "# %load_ext autoreload\n",
    "## %reload_ext autoreload\n",
    "# %autoreload 1\n",
    "# %aimport itcz_phys.cmiptools\n",
    "\n",
    "# import itcz_phys.cmiptools as cmip"
   ]
  },
  {
   "cell_type": "markdown",
   "id": "89ade726-3d11-45e2-acc5-576f80ecfe31",
   "metadata": {
    "tags": []
   },
   "source": [
    "## Figure settings"
   ]
  },
  {
   "cell_type": "code",
   "execution_count": 3,
   "id": "7dc6a55d-8561-4a31-bdd1-993e8b20ee64",
   "metadata": {},
   "outputs": [],
   "source": [
    "import matplotlib as mpl\n",
    "mpl.rcParams['figure.dpi'] = 120\n",
    "\n",
    "# %config InlineBackend.figure_formats = ['pdf']\n",
    "%config InlineBackend.figure_formats = ['png']"
   ]
  },
  {
   "cell_type": "markdown",
   "id": "fc5448d7-ee1b-4439-b561-5f9b3363bb10",
   "metadata": {
    "jp-MarkdownHeadingCollapsed": true,
    "tags": []
   },
   "source": [
    "## Create constants"
   ]
  },
  {
   "cell_type": "code",
   "execution_count": 4,
   "id": "d76b0d4e-aae2-4868-aa6b-d1d5bd5e0a50",
   "metadata": {},
   "outputs": [],
   "source": [
    "# Cases / experiments\n",
    "cases = ['piControl', '1pctCO2', '1pctCO2-rad', '1pctCO2-bgc']\n",
    "cases_rad = ['1pctCO2', '1pctCO2-rad']\n",
    "\n",
    "\n",
    "# Models with data in /tiger/scratch/gpfs/GEOCLIM/bgb2/CMIP/\n",
    "# --> removed MRI-ESM2-0 because 1pctCO2 and 1pctCO2-rad Amon variables are the same\n",
    "\n",
    "# --> models with HT, VEG for 1pctCO2 and 1pctCO2-rad (i.e., the max number of models used)\n",
    "models = ['ACCESS-ESM1-5', 'BCC-CSM2-MR', 'CESM2', 'CMCC-ESM2',\n",
    "          'CNRM-ESM2-1', 'EC-Earth3-CC', 'GFDL-ESM4', 'GISS-E2-1-G',\n",
    "          'IPSL-CM6A-LR', 'MIROC-ES2L', 'MPI-ESM1-2-LR', 'NorESM2-LM',\n",
    "          'UKESM1-0-LL']\n",
    "#  --> models with HT, VEG, SW for all cases\n",
    "models_all = ['ACCESS-ESM1-5', 'BCC-CSM2-MR', 'CMCC-ESM2',\n",
    "              'CNRM-ESM2-1', 'GISS-E2-1-G', 'IPSL-CM6A-LR', 'MIROC-ES2L',\n",
    "              'MPI-ESM1-2-LR', 'UKESM1-0-LL']\n",
    "# --> only models with HT, VEG, SW for 1pctCO2 and 1pctCO2-rad\n",
    "models_radsw = ['EC-Earth3-CC']\n",
    "# --> only models with HT, VEG for 1pctCO2 and 1pctCO2-rad\n",
    "models_rad = ['CESM2', 'GFDL-ESM4', 'NorESM2-LM']\n",
    "\n",
    "\n",
    "# Variables\n",
    "variables = ['evspsbl', 'hfls', 'hfss', 'lai', 'pr', 'prsn', 'ps', 'rlds', \n",
    "             'rlus', 'rlut', 'rsds', 'rsdt', 'rsus', 'rsut', 'ta', 'tas',\n",
    "             'uas', 'vas']\n",
    "variables_ht = ['hfls', 'hfss', 'pr', 'prsn', 'ps', 'rlds', 'rlus', 'rlut',\n",
    "                'rsds', 'rsdt', 'rsus', 'rsut', 'ta']\n",
    "variables_vegsw = ['evspsbl', 'lai', 'tas', 'uas', 'vas']\n",
    "variables_veg = ['evspsbl', 'lai', 'tas']\n",
    "\n",
    "\n",
    "# Table ID\n",
    "table_id = {\n",
    "    'evspsbl': 'Amon',\n",
    "    'hfls': 'Amon',\n",
    "    'hfss': 'Amon',\n",
    "    'lai': 'Lmon',\n",
    "    'pr': 'Amon',\n",
    "    'prsn': 'Amon',\n",
    "    'ps': 'Amon',\n",
    "    'rlds': 'Amon', \n",
    "    'rlus': 'Amon',\n",
    "    'rlut': 'Amon',\n",
    "    'rsds': 'Amon',\n",
    "    'rsdt': 'Amon',\n",
    "    'rsus': 'Amon',\n",
    "    'rsut': 'Amon',\n",
    "    'ta': 'Amon',\n",
    "    'tas': 'Amon',\n",
    "    'uas': 'Amon',\n",
    "    'vas': 'Amon'\n",
    "}\n",
    "\n",
    "\n",
    "# Grid label\n",
    "grid_label = {\n",
    "    'ACCESS-ESM1-5': 'gn',\n",
    "    'BCC-CSM2-MR': 'gn',\n",
    "    'CESM2': 'gn',\n",
    "    'CMCC-ESM2': 'gn',\n",
    "    'CNRM-ESM2-1': 'gr',\n",
    "    'EC-Earth3-CC': 'gr',\n",
    "    'GFDL-ESM4': 'gr1',\n",
    "    'GISS-E2-1-G': 'gn',\n",
    "    'IPSL-CM6A-LR': 'gr',\n",
    "    'MIROC-ES2L': 'gn',\n",
    "    'MPI-ESM1-2-LR': 'gn',\n",
    "    'MRI-ESM2-0': 'gn',\n",
    "    'NorESM2-LM': 'gn',\n",
    "    'UKESM1-0-LL': 'gn'\n",
    "}\n",
    "\n",
    "\n",
    "# Months\n",
    "months = ['Jan','Feb','Mar','Apr','May','Jun','Jul','Aug','Sep','Oct','Nov','Dec']\n",
    "months_abbr = ['J','F','M','A','M','J','J','A','S','O','N','D']\n",
    "\n",
    "\n",
    "# Directory where CMIP6 model output lives on tiger\n",
    "cmipdir = '/tiger/scratch/gpfs/GEOCLIM/bgb2/CMIP/'\n",
    "cmipmergedir = '/tiger/scratch/gpfs/GEOCLIM/bgb2/CMIPmerge/'"
   ]
  },
  {
   "cell_type": "markdown",
   "id": "b5f4a29d-a78e-4b7f-9749-d30765333b26",
   "metadata": {
    "tags": []
   },
   "source": [
    "## Get helper dictionaries"
   ]
  },
  {
   "cell_type": "markdown",
   "id": "f7a75354-2773-4f85-8ed2-d5e3db154d96",
   "metadata": {
    "tags": []
   },
   "source": [
    "### Create dictionaries"
   ]
  },
  {
   "cell_type": "markdown",
   "id": "5c1ba5a9-63de-44fa-bb5c-eb5e1ca0d19f",
   "metadata": {
    "jp-MarkdownHeadingCollapsed": true,
    "tags": []
   },
   "source": [
    "#### Variant ID"
   ]
  },
  {
   "cell_type": "code",
   "execution_count": 6,
   "id": "8e2bfa0e-25dd-4d14-9d28-694ea3d9aff2",
   "metadata": {},
   "outputs": [],
   "source": [
    "variant_id = {\n",
    "    'ACCESS-ESM1-5': 'r1i1p1f1',\n",
    "    'BCC-CSM2-MR': 'r1i1p1f1',\n",
    "    'CanESM5': 'r1i1p1f1',\n",
    "    'CESM2': 'r1i1p1f1',\n",
    "    'CMCC-ESM2': 'r1i1p1f1',\n",
    "    'CNRM-ESM2-1': 'r1i1p1f2',\n",
    "    'EC-Earth3-CC': 'r1i1p1f1',\n",
    "    'GFDL-ESM4': 'r1i1p1f1',\n",
    "    'GISS-E2-1-G': 'r101i1p1f1',\n",
    "    'IPSL-CM6A-LR': 'r1i1p1f1',\n",
    "    'MIROC-ES2L': 'r1i1p1f2',\n",
    "    'MPI-ESM1-2-LR': 'r1i1p1f1',\n",
    "    'MRI-ESM2-0': 'r1i2p1f1',\n",
    "    'NorESM2-LM': 'r1i1p1f1',\n",
    "    'UKESM1-0-LL': 'r1i1p1f2'\n",
    "}\n",
    "\n",
    "# with open('../pkl_files/variant_id.pkl', 'wb') as file:\n",
    "#     pkl.dump(variant_id, file, pkl.HIGHEST_PROTOCOL)"
   ]
  },
  {
   "cell_type": "markdown",
   "id": "e389c68b-4c2c-4012-be60-24361d3af5f5",
   "metadata": {
    "jp-MarkdownHeadingCollapsed": true,
    "tags": []
   },
   "source": [
    "#### Branch times in PI"
   ]
  },
  {
   "cell_type": "code",
   "execution_count": 7,
   "id": "c40ee4b0-4058-4848-bd1b-0a3b2cf10c40",
   "metadata": {},
   "outputs": [],
   "source": [
    "# Originally from an NCL file created by Lily Hahn\n",
    "# for GISS-ES2-1-G with variant_id=r101i1p1f1 --> branch time is 185001-201412 (originally 415001-430012 in Lily's file)\n",
    "branch_times_in_pi = {\n",
    "  'ACCESS-CM2': '095001-144912', 'ACCESS-ESM1-5': '010101-060012', 'AWI-CM-1-1-MR': '265001-280012', 'BCC-CSM2-MR': '185001-244912', 'BCC-ESM1': '185001-230012',\n",
    "  'CAMS-CSM1-0': '303001-339912', 'CESM2': '050101-069912', 'CESM2-FV2': '032101-050012', 'CESM2-WACCM': '007001-029912', 'CESM2-WACCM-FV2': '030101-049912',\n",
    "  'CMCC-CM2-SR5': '185001-209912', 'CMCC-ESM2': '185001-209912', 'CNRM-CM6-1': '185001-234912', 'CNRM-CM6-1-HR': '185001-214912', 'CNRM-ESM2-1': '185001-234912',\n",
    "  'CanESM5': '520101-540012', 'E3SM-1-0': '010101-025012', 'EC-Earth3': '254001-270012', 'EC-Earth3-AerChem': '185001-199912', 'EC-Earth3-Veg': '185001-200012',\n",
    "  'FGOALS-f3-L': '060001-116012', 'FGOALS-g3': '046301-061912', 'GFDL-CM4': '025101-045012', 'GFDL-ESM4': '010101-030012', 'GISS-E2-1-G': '185001-201412',\n",
    "  'GISS-E2-1-H': '318001-333012', 'GISS-E2-2-G': '200001-215012', 'HadGEM3-GC31-LL': '185001-204912', 'HadGEM3-GC31-MM': '185001-200912', 'IITM-ESM': '192601-212512',\n",
    "  'INM-CM4-8': '194701-214912', 'INM-CM5-0': '209901-226812', 'IPSL-CM6A-LR': '187001-234912', 'MIROC-ES2L': '185001-204912', 'MIROC6': '320001-339912',\n",
    "  'MPI-ESM-1-2-HAM': '195001-210912', 'MPI-ESM1-2-HR': '185001-199912', 'MPI-ESM1-2-LR': '185001-200912', 'MRI-ESM2-0': '185001-255012', 'NorCPM1': '025101-050012',\n",
    "  'NorESM2-LM': '160001-210012', 'NorESM2-MM': '120001-134912', 'SAM0-UNICON': '027401-043012', 'TaiESM1': '020101-040012', 'UKESM1-0-LL': '196001-214912'\n",
    "}\n",
    "\n",
    "branch_start_year_in_pi = {}\n",
    "for m in branch_times_in_pi.keys():\n",
    "    raw_date = branch_times_in_pi[m][:6]\n",
    "    branch_start_year_in_pi[m] = raw_date[:4]+'-'+raw_date[4:]\n",
    "\n",
    "# l40 = last 40 years of 150 year 1% CO2 increase period\n",
    "# start year\n",
    "period_l40_start_year_in_pi = {}\n",
    "for m in branch_times_in_pi.keys():\n",
    "    raw_date = branch_times_in_pi[m][:6]\n",
    "    len_date = len(raw_date)\n",
    "    end_year = int(raw_date[:len_date-2])+100\n",
    "    period_l40_start_year_in_pi[m] = str(end_year).zfill(4)+'01'\n",
    "    \n",
    "# end year\n",
    "period_l40_end_year_in_pi = {}\n",
    "for m in branch_times_in_pi.keys():\n",
    "    raw_date = branch_times_in_pi[m][:6]\n",
    "    len_date = len(raw_date)\n",
    "    end_year = int(raw_date[:len_date-2])+139\n",
    "    period_l40_end_year_in_pi[m] = str(end_year).zfill(4)+'12'\n",
    "\n",
    "# slice\n",
    "period_l40_slice_in_pi = {}\n",
    "for m in branch_times_in_pi.keys():\n",
    "    period_l40_slice_in_pi[m] = slice(period_l40_start_year_in_pi[m], period_l40_end_year_in_pi[m])\n",
    "\n",
    "    \n",
    "# with open('../pkl_files/branch_start_year_in_pi.pkl', 'wb') as file:\n",
    "#     pkl.dump(branch_start_year_in_pi, file, pkl.HIGHEST_PROTOCOL)\n",
    "# with open('../pkl_files/period_l40_slice_in_pi.pkl', 'wb') as file:\n",
    "#     pkl.dump(period_l40_slice_in_pi, file, pkl.HIGHEST_PROTOCOL)\n",
    "# with open('../pkl_files/period_l40_start_year_in_pi.pkl', 'wb') as file:\n",
    "#     pkl.dump(period_l40_start_year_in_pi, file, pkl.HIGHEST_PROTOCOL)\n",
    "# with open('../pkl_files/period_l40_end_year_in_pi.pkl', 'wb') as file:\n",
    "#     pkl.dump(period_l40_end_year_in_pi, file, pkl.HIGHEST_PROTOCOL)"
   ]
  },
  {
   "cell_type": "markdown",
   "id": "56c8ee32-1f30-440d-8e76-37430c4717fd",
   "metadata": {
    "jp-MarkdownHeadingCollapsed": true,
    "tags": []
   },
   "source": [
    "#### Times in CO2"
   ]
  },
  {
   "cell_type": "code",
   "execution_count": 10,
   "id": "675a88fc-2b8d-4143-9e3a-557caea63a95",
   "metadata": {
    "scrolled": true,
    "tags": []
   },
   "outputs": [
    {
     "name": "stdout",
     "output_type": "stream",
     "text": [
      "ACCESS-ESM1-5\n",
      "   piControl\n",
      "     0101-01-16 12:00:00\n",
      "     1100-12-16 12:00:00\n",
      "   1pctCO2\n",
      "     0101-01-16 12:00:00\n",
      "     0250-12-16 12:00:00\n",
      "   1pctCO2-rad\n",
      "     0101-01-16 12:00:00\n",
      "     0250-12-16 12:00:00\n",
      "   1pctCO2-bgc\n",
      "     0101-01-16 12:00:00\n",
      "     0250-12-16 12:00:00\n",
      "BCC-CSM2-MR\n",
      "   piControl\n",
      "     ###\n",
      "   1pctCO2\n",
      "     ###\n",
      "   1pctCO2-rad\n",
      "     ###\n",
      "   1pctCO2-bgc\n",
      "     ###\n",
      "CESM2\n",
      "   piControl\n",
      "     ###\n",
      "   1pctCO2\n",
      "     0001-01-15 12:00:00\n",
      "     0150-12-15 12:00:00\n",
      "   1pctCO2-rad\n",
      "     0001-01-15 12:00:00\n",
      "     0150-12-15 12:00:00\n",
      "   1pctCO2-bgc\n",
      "     ###\n",
      "CMCC-ESM2\n",
      "   piControl\n",
      "     1850-01-16 12:00:00\n",
      "     2349-12-16 12:00:00\n",
      "   1pctCO2\n",
      "     1850-01-16 12:00:00\n",
      "     2014-12-16 12:00:00\n",
      "   1pctCO2-rad\n"
     ]
    },
    {
     "name": "stderr",
     "output_type": "stream",
     "text": [
      "/home/bgb2/miniconda3/envs/itcz_phys/lib/python3.11/site-packages/xarray/coding/times.py:152: SerializationWarning: Ambiguous reference date string: 101-01-01. The first value is assumed to be the year hence will be padded with zeros to remove the ambiguity (the padded reference date string is: 0101-01-01). To remove this message, remove the ambiguity by padding your reference date strings with zeros.\n",
      "  warnings.warn(warning_msg, SerializationWarning)\n",
      "/home/bgb2/miniconda3/envs/itcz_phys/lib/python3.11/site-packages/xarray/coding/times.py:152: SerializationWarning: Ambiguous reference date string: 101-01-01. The first value is assumed to be the year hence will be padded with zeros to remove the ambiguity (the padded reference date string is: 0101-01-01). To remove this message, remove the ambiguity by padding your reference date strings with zeros.\n",
      "  warnings.warn(warning_msg, SerializationWarning)\n",
      "/home/bgb2/miniconda3/envs/itcz_phys/lib/python3.11/site-packages/xarray/coding/times.py:152: SerializationWarning: Ambiguous reference date string: 101-01-01. The first value is assumed to be the year hence will be padded with zeros to remove the ambiguity (the padded reference date string is: 0101-01-01). To remove this message, remove the ambiguity by padding your reference date strings with zeros.\n",
      "  warnings.warn(warning_msg, SerializationWarning)\n",
      "/home/bgb2/miniconda3/envs/itcz_phys/lib/python3.11/site-packages/xarray/coding/times.py:152: SerializationWarning: Ambiguous reference date string: 101-01-01. The first value is assumed to be the year hence will be padded with zeros to remove the ambiguity (the padded reference date string is: 0101-01-01). To remove this message, remove the ambiguity by padding your reference date strings with zeros.\n",
      "  warnings.warn(warning_msg, SerializationWarning)\n"
     ]
    },
    {
     "name": "stdout",
     "output_type": "stream",
     "text": [
      "     1850-01-16 12:00:00\n",
      "     2014-12-16 12:00:00\n",
      "   1pctCO2-bgc\n",
      "     1850-01-16 12:00:00\n",
      "     2014-12-16 12:00:00\n",
      "CNRM-ESM2-1\n",
      "   piControl\n",
      "     1850-01-16 12:00:00\n",
      "     2349-12-16 12:00:00\n",
      "   1pctCO2\n",
      "     1850-01-16T12:00:00.000000000\n",
      "     1999-12-16T12:00:00.000000000\n",
      "   1pctCO2-rad\n",
      "     1850-01-16T12:00:00.000000000\n",
      "     1989-12-16T12:00:00.000000000\n",
      "   1pctCO2-bgc\n",
      "     1850-01-16T12:00:00.000000000\n",
      "     1989-12-16T12:00:00.000000000\n",
      "EC-Earth3-CC\n",
      "   piControl\n",
      "     ###\n",
      "   1pctCO2\n",
      "     1850-01-16T12:00:00.000000000\n",
      "     2014-12-16T12:00:00.000000000\n",
      "   1pctCO2-rad\n",
      "     1850-01-16T12:00:00.000000000\n",
      "     2014-12-16T12:00:00.000000000\n",
      "   1pctCO2-bgc\n",
      "     ###\n",
      "GFDL-ESM4\n",
      "   piControl\n",
      "     ###\n",
      "   1pctCO2\n",
      "     0001-01-16 12:00:00\n",
      "     0150-12-16 12:00:00\n",
      "   1pctCO2-rad\n",
      "     0001-01-16 12:00:00\n",
      "     0150-12-16 12:00:00\n",
      "   1pctCO2-bgc\n",
      "     ###\n",
      "GISS-E2-1-G\n",
      "   piControl\n",
      "     1850-01-16 12:00:00\n",
      "     2014-12-16 12:00:00\n",
      "   1pctCO2\n",
      "     1850-01-16 12:00:00\n",
      "     2019-12-16 12:00:00\n",
      "   1pctCO2-rad\n",
      "     1850-01-16 12:00:00\n",
      "     2000-12-16 12:00:00\n",
      "   1pctCO2-bgc\n",
      "     1850-01-16 12:00:00\n",
      "     2000-12-16 12:00:00\n",
      "IPSL-CM6A-LR\n",
      "   piControl\n",
      "     1850-01-16 12:00:00\n",
      "     3849-12-16 12:00:00\n",
      "   1pctCO2\n",
      "     1850-01-16T12:00:00.000000000\n",
      "     1999-12-16T12:00:00.000000000\n",
      "   1pctCO2-rad\n",
      "     1850-01-16T12:00:00.000000000\n",
      "     1999-12-16T12:00:00.000000000\n",
      "   1pctCO2-bgc\n",
      "     1850-01-16T12:00:00.000000000\n",
      "     1999-12-16T12:00:00.000000000\n",
      "MIROC-ES2L\n",
      "   piControl\n",
      "     1850-01-16 12:00:00\n",
      "     2349-12-16 12:00:00\n",
      "   1pctCO2\n",
      "     1850-01-16T12:00:00.000000000\n",
      "     1999-12-16T12:00:00.000000000\n",
      "   1pctCO2-rad\n",
      "     1850-01-16T12:00:00.000000000\n",
      "     1999-12-16T12:00:00.000000000\n",
      "   1pctCO2-bgc\n",
      "     1850-01-16T12:00:00.000000000\n",
      "     1999-12-16T12:00:00.000000000\n",
      "MPI-ESM1-2-LR\n",
      "   piControl\n",
      "     1850-01-16 12:00:00\n",
      "     2849-12-16 12:00:00\n",
      "   1pctCO2\n",
      "     1850-01-16T12:00:00.000000000\n",
      "     2014-12-16T12:00:00.000000000\n",
      "   1pctCO2-rad\n",
      "     1850-01-16T12:00:00.000000000\n",
      "     1989-12-16T12:00:00.000000000\n",
      "   1pctCO2-bgc\n",
      "     1850-01-16T12:00:00.000000000\n",
      "     1989-12-16T12:00:00.000000000\n",
      "NorESM2-LM\n",
      "   piControl\n",
      "     ###\n",
      "   1pctCO2\n",
      "     0001-01-16 12:00:00\n",
      "     0150-12-16 12:00:00\n",
      "   1pctCO2-rad\n",
      "     0001-01-16 12:00:00\n",
      "     0140-12-16 12:00:00\n",
      "   1pctCO2-bgc\n",
      "     ###\n",
      "UKESM1-0-LL\n",
      "   piControl\n",
      "     1960-01-16 00:00:00\n",
      "     3839-12-16 00:00:00\n",
      "   1pctCO2\n",
      "     1850-01-16 00:00:00\n",
      "     1999-12-16 00:00:00\n",
      "   1pctCO2-rad\n",
      "     1850-01-16 00:00:00\n",
      "     1999-12-16 00:00:00\n",
      "   1pctCO2-bgc\n",
      "     1850-01-16 00:00:00\n",
      "     1999-12-16 00:00:00\n"
     ]
    }
   ],
   "source": [
    "# Get last 40 years of 1% CO2 period\n",
    "period_l40_start_year_in_co2 = {}\n",
    "period_l40_end_year_in_co2 = {}\n",
    "period_l40_slice_in_co2 = {}\n",
    "\n",
    "v = 'evspsbl'\n",
    "for m in models:\n",
    "    print(m)\n",
    "    # for c in ['1pctCO2','1pctCO2-rad','1pctCO2-bgc']:\n",
    "    for c in cases:\n",
    "        print('  ',c)\n",
    "        try:\n",
    "            data = xr.open_dataset(cmipmergedir+m+'/'+v+'_'+table_id[v]+'_'+m+'_'+c+'_'+variant_id[m]+'_'+grid_label[m]+'.nc')\n",
    "\n",
    "            # period_l40_start_year_in_co2[m] = str(data['time'].isel(time=0).values)[:4]\n",
    "            # period_l40_start_year_in_co2[m] = str(int(period_l40_start_year_in_co2[m])+100).zfill(4)+'01'\n",
    "            # period_l40_end_year_in_co2[m] = str(data['time'].isel(time=0).values)[:4]\n",
    "            # period_l40_end_year_in_co2[m] = str(int(period_l40_end_year_in_co2[m])+139).zfill(4)+'12'\n",
    "            # period_l40_slice_in_co2[m] = slice(period_l40_start_year_in_co2[m], period_l40_end_year_in_co2[m])\n",
    "\n",
    "            print('    ',data['time'][0].values)\n",
    "            print('    ',data['time'][-1].values)\n",
    "            # print('    ',period_l40_start_year_in_co2[m])\n",
    "            # print('    ',period_l40_end_year_in_co2[m])          \n",
    "\n",
    "        except OSError:\n",
    "            print('     ###')\n",
    "    \n",
    "# with open('../pkl_files/period_l40_slice_in_co2.pkl', 'wb') as file:\n",
    "#     pkl.dump(period_l40_slice_in_co2, file, pkl.HIGHEST_PROTOCOL)\n",
    "# with open('../pkl_files/period_l40_start_year_in_co2.pkl', 'wb') as file:\n",
    "#     pkl.dump(period_l40_start_year_in_co2, file, pkl.HIGHEST_PROTOCOL)\n",
    "# with open('../pkl_files/period_l40_end_year_in_co2.pkl', 'wb') as file:\n",
    "#     pkl.dump(period_l40_end_year_in_co2, file, pkl.HIGHEST_PROTOCOL)"
   ]
  },
  {
   "cell_type": "markdown",
   "id": "fe305f02-3d89-4326-a0c4-aa03f737f792",
   "metadata": {
    "jp-MarkdownHeadingCollapsed": true,
    "tags": []
   },
   "source": [
    "### Load dictionaries"
   ]
  },
  {
   "cell_type": "code",
   "execution_count": 5,
   "id": "71ca99d7-b0f7-47a9-92f6-319da6858f33",
   "metadata": {},
   "outputs": [],
   "source": [
    "# Get the last 40 years of the 1% CO2 runs and the corresponding time period in piControl\n",
    "with open('../pkl_files/period_l40_slice_in_pi.pkl', 'rb') as file:\n",
    "    period_l40_slice_in_pi = pkl.load(file)\n",
    "with open('../pkl_files/period_l40_start_year_in_pi.pkl', 'rb') as file:\n",
    "    period_l40_start_year_in_pi = pkl.load(file)\n",
    "with open('../pkl_files/period_l40_end_year_in_pi.pkl', 'rb') as file:\n",
    "    period_l40_end_year_in_pi = pkl.load(file)\n",
    "\n",
    "with open('../pkl_files/period_l40_slice_in_co2.pkl', 'rb') as file:\n",
    "    period_l40_slice_in_co2 = pkl.load(file)\n",
    "with open('../pkl_files/period_l40_start_year_in_co2.pkl', 'rb') as file:\n",
    "    period_l40_start_year_in_co2 = pkl.load(file)\n",
    "with open('../pkl_files/period_l40_end_year_in_co2.pkl', 'rb') as file:\n",
    "    period_l40_end_year_in_co2 = pkl.load(file)\n",
    "\n",
    "    \n",
    "# Get each model's variant_id\n",
    "with open('../pkl_files/variant_id.pkl', 'rb') as file:\n",
    "    variant_id = pkl.load(file)"
   ]
  },
  {
   "cell_type": "markdown",
   "id": "72d8b947-fc95-4fcd-9d67-ddbb31e894ad",
   "metadata": {
    "tags": []
   },
   "source": [
    "# Merge files"
   ]
  },
  {
   "cell_type": "markdown",
   "id": "1b7754c2-c11e-401a-8155-7188c3122088",
   "metadata": {},
   "source": [
    "```var_table-id_model_case_variant-id_grid_time.nc```"
   ]
  },
  {
   "cell_type": "markdown",
   "id": "b0c8fa97-71a5-47d6-8178-533d4c19a1f1",
   "metadata": {
    "jp-MarkdownHeadingCollapsed": true,
    "tags": []
   },
   "source": [
    "## Helper functions"
   ]
  },
  {
   "cell_type": "code",
   "execution_count": 6,
   "id": "028b735d-5b24-45fc-8b3c-b5573ee328e4",
   "metadata": {},
   "outputs": [],
   "source": [
    "def writeMergePaths(theseModels, theseCases, theseVariables, tag, toMerge=None):\n",
    "    if toMerge == True and type(toMerge) == bool:\n",
    "        filename = 'paths-m'+str(tag)+'.txt'\n",
    "    if toMerge == False and type(toMerge) == bool:\n",
    "        filename = 'paths-c'+str(tag)+'.txt'\n",
    "        \n",
    "    if type(theseVariables[0]) == list:\n",
    "        tmp_vars = []\n",
    "        for item in theseVariables:\n",
    "            tmp_vars += item\n",
    "        theseVariables = tmp_vars\n",
    "    \n",
    "    outfile = []\n",
    "    for m in theseModels:\n",
    "        for c in theseCases:\n",
    "            for v in theseVariables:\n",
    "                out = mergetime(m, c, v, toFile=True, toMerge=toMerge, toDelete=False, toPrint=False)\n",
    "                if type(out) == str:\n",
    "                    outfile.append(out)\n",
    "    \n",
    "    if len(outfile) > 0:\n",
    "        with open('../bash_scripts/'+filename, 'w') as f:\n",
    "            f.writelines(outfile)\n",
    "        print(filename)\n",
    "    else:\n",
    "        print('no files')"
   ]
  },
  {
   "cell_type": "code",
   "execution_count": 9,
   "id": "b6844de9-0749-429b-87e3-24c91e1b83fe",
   "metadata": {},
   "outputs": [],
   "source": [
    "def mergetime(thisM, thisC, thisV, toPrint=True, toFile=False, toMerge=None, toDelete=False):\n",
    "    cmipdir = '/tiger/scratch/gpfs/GEOCLIM/bgb2/CMIP/'\n",
    "    cmipmergedir = '/tiger/scratch/gpfs/GEOCLIM/bgb2/CMIPmerge/'\n",
    "    \n",
    "    fsearch = cmipdir+thisM+'/'+thisV+'_'+table_id[thisV]+'_'+thisM+'_'+thisC+'_'+variant_id[thisM]+'_'+grid_label[thisM]+'_*.nc'\n",
    "    \n",
    "    files = glob.glob(fsearch)    \n",
    "    stimes = []\n",
    "    etimes = []\n",
    "    for f in files:\n",
    "        stimes.append(int(f.split('/')[-1].split('_')[-1].split('.')[0].split('-')[0][:4]))\n",
    "        etimes.append(int(f.split('/')[-1].split('_')[-1].split('.')[0].split('-')[1][:4]))\n",
    "    \n",
    "    fname = thisV+'_'+table_id[thisV]+'_'+thisM+'_'+thisC+'_'+variant_id[thisM]+'_'+grid_label[thisM]+'_%s-%s.nc' % (str(min(stimes)).zfill(4)+'01', str(max(etimes)).zfill(4)+'12')\n",
    "    fdir = cmipmergedir+thisM+'/'+fname\n",
    "    \n",
    "    if toPrint:\n",
    "        print('    ','/'.join(fsearch.split('/')[-2:]))\n",
    "        if len(stimes) > 1 and len(etimes) > 1:\n",
    "            print('     - ',fdir)\n",
    "    \n",
    "    if toFile and toMerge and type(toMerge) == bool:\n",
    "        if len(stimes) > 1 and len(etimes) > 1:\n",
    "            return fsearch+':'+fdir+'\\n'\n",
    "        \n",
    "    if toFile and not toMerge and type(toMerge) == bool:\n",
    "        if len(stimes) == 1 and len(etimes) == 1:\n",
    "            test_fname = fsearch.split('/')[-1][:-4]+'%s-%s.nc' % (str(min(stimes)).zfill(4)+'01', str(max(etimes)).zfill(4)+'12')\n",
    "            \n",
    "            if os.path.isfile(cmipdir+thisM+'/'+test_fname) and fname == test_fname:\n",
    "                return cmipdir+thisM+'/'+fname+':'+cmipmergedir+thisM+'/'+fname+'\\n'\n",
    "            \n",
    "            else:\n",
    "                print('ERROR')\n",
    "                print(fname)\n",
    "                print(tmp_fname)\n",
    "                print(cmipdir+thisM+'/'+tmp_fname)\n",
    "                       \n",
    "    if toDelete:\n",
    "        if len(stimes) > 1 and len(etimes) > 1:\n",
    "            print('----',fdir.split('/')[-1])\n",
    "            ## os.popen('rm %s' % fdir)"
   ]
  },
  {
   "cell_type": "markdown",
   "id": "592a7ecc-a2a3-4916-a3a8-1bff632f944d",
   "metadata": {
    "jp-MarkdownHeadingCollapsed": true,
    "tags": []
   },
   "source": [
    "## Create text files with merge/copy paths"
   ]
  },
  {
   "cell_type": "code",
   "execution_count": 11,
   "id": "67ec7a2a-de24-49d6-9da0-dcf009836383",
   "metadata": {},
   "outputs": [],
   "source": [
    "## All models with HT + VEG + SW for all cases\n",
    "# writeMergePaths(models_all, cases, variables, '1', toMerge=True)\n",
    "# writeMergePaths(models_all, cases, variables, '1', toMerge=False)\n",
    "\n",
    "## Models with HT + VEG for FULL (1pctCO2) and RAD (1pctCO2-rad)\n",
    "# writeMergePaths(models_rad, cases_rad, [variables_ht, variables_veg], '2', toMerge=True)\n",
    "# writeMergePaths(models_rad, cases_rad, [variables_ht, variables_veg], '2', toMerge=False)\n",
    "\n",
    "## Models with HT + VEG + SW for FULL (1pctCO2) and RAD (1pctCO2-rad)\n",
    "# writeMergePaths(models_radsw, cases_rad, variables, '3', toMerge=True)\n",
    "# writeMergePaths(models_radsw, cases_rad, variables, '3', toMerge=False)\n",
    "\n",
    "## Redo BCC-CSM2-MR\n",
    "# writeMergePaths(['BCC-CSM2-MR'], cases, variables, '-bcc', toMerge=True)\n",
    "# writeMergePaths(['BCC-CSM2-MR'], cases, variables, '-bcc', toMerge=False)"
   ]
  },
  {
   "cell_type": "markdown",
   "id": "d8c05475-4e93-4cfb-b714-99ce17aac644",
   "metadata": {},
   "source": [
    "**At this point, run the bash scripts ```mergenetcdf.sh paths-mx.txt``` and ```copynetcdf.sh paths-cx.txt```**"
   ]
  },
  {
   "cell_type": "markdown",
   "id": "8067b266-179d-4c58-9030-38ae26168a8d",
   "metadata": {
    "jp-MarkdownHeadingCollapsed": true,
    "tags": []
   },
   "source": [
    "## Remove date at end of file name"
   ]
  },
  {
   "cell_type": "markdown",
   "id": "61a21436-0d75-4e3d-97c5-f8ed48cc21f7",
   "metadata": {},
   "source": [
    "```var_table-id_model_case_variant-id_grid_time.nc```"
   ]
  },
  {
   "cell_type": "code",
   "execution_count": 21,
   "id": "db781fe6-1467-4198-8095-5c8aa676e83e",
   "metadata": {
    "scrolled": true,
    "tags": []
   },
   "outputs": [
    {
     "name": "stdout",
     "output_type": "stream",
     "text": [
      "ACCESS-ESM1-5\n",
      "BCC-CSM2-MR\n",
      "CESM2\n",
      "CMCC-ESM2\n",
      "CNRM-ESM2-1\n",
      "CanESM5\n",
      "EC-Earth3-CC\n",
      "GFDL-ESM4\n",
      "GISS-E2-1-G\n",
      "IPSL-CM6A-LR\n",
      "MIROC-ES2L\n",
      "MPI-ESM1-2-LR\n",
      "MRI-ESM2-0\n",
      "NorESM2-LM\n",
      "UKESM1-0-LL\n"
     ]
    }
   ],
   "source": [
    "mergedtimes = {}\n",
    "\n",
    "cmipdir = '/tiger/scratch/gpfs/GEOCLIM/bgb2/CMIP/'\n",
    "cmipmergedir = '/tiger/scratch/gpfs/GEOCLIM/bgb2/CMIPmerge/'\n",
    "\n",
    "for d in sorted(os.listdir(cmipmergedir)):\n",
    "    print(d)\n",
    "    files = sorted(os.listdir(cmipmergedir+d))\n",
    "    if len(files) > 0:\n",
    "        for f in files:\n",
    "            newname = '_'.join(f.split('_')[:-1])+'.nc'\n",
    "            # print(newname)\n",
    "            # print('  ',cmipmergedir+d+'/'+f)\n",
    "            # print('  ',cmipmergedir+d+'/'+newname)\n",
    "            ## mergedtimes[newname] = f\n",
    "            ## os.rename(cmipmergedir+d+'/'+f, cmipmergedir+d+'/'+newname)\n",
    "\n",
    "## with open('../pkl_files/mergedtimes.pkl', 'wb') as file:\n",
    "##     pkl.dump(mergedtimes, file, pkl.HIGHEST_PROTOCOL)"
   ]
  },
  {
   "cell_type": "markdown",
   "id": "b40da47e-1ba8-4b20-9bac-c1c5a1e4a3d5",
   "metadata": {},
   "source": [
    "# Create branch time files"
   ]
  },
  {
   "cell_type": "code",
   "execution_count": null,
   "id": "0d07ecee-86fa-49e3-97b8-a1605c5de512",
   "metadata": {},
   "outputs": [
    {
     "data": {
      "text/plain": [
       "{'ACCESS-ESM1-5': 'r1i1p1f1',\n",
       " 'BCC-CSM2-MR': 'r1i1p1f1',\n",
       " 'CanESM5': 'r1i1p1f1',\n",
       " 'CESM2': 'r1i1p1f1',\n",
       " 'CMCC-ESM2': 'r1i1p1f1',\n",
       " 'CNRM-ESM2-1': 'r1i1p1f2',\n",
       " 'EC-Earth3-CC': 'r1i1p1f1',\n",
       " 'GFDL-ESM4': 'r1i1p1f1',\n",
       " 'GISS-E2-1-G': 'r101i1p1f1',\n",
       " 'IPSL-CM6A-LR': 'r1i1p1f1',\n",
       " 'MIROC-ES2L': 'r1i1p1f2',\n",
       " 'MPI-ESM1-2-LR': 'r1i1p1f1',\n",
       " 'MRI-ESM2-0': 'r1i2p1f1',\n",
       " 'NorESM2-LM': 'r1i1p1f1',\n",
       " 'UKESM1-0-LL': 'r1i1p1f2'}"
      ]
     },
     "execution_count": 22,
     "metadata": {},
     "output_type": "execute_result"
    }
   ],
   "source": [
    "variant_id"
   ]
  },
  {
   "cell_type": "markdown",
   "id": "593146bd-6848-49ea-a2d7-8f85240df113",
   "metadata": {},
   "source": [
    "# Check merged/copied files"
   ]
  },
  {
   "cell_type": "code",
   "execution_count": 37,
   "id": "74721548-f4c9-4ef0-b12d-2f67f8f2234e",
   "metadata": {},
   "outputs": [
    {
     "name": "stdout",
     "output_type": "stream",
     "text": [
      "CMCC-ESM2\n",
      "/tiger/scratch/gpfs/GEOCLIM/bgb2/CMIP/CMCC-ESM2/hus_Amon_CMCC-ESM2_1pctCO2-bgc_r1i1p1f1_gn_185001-187412.nc\n",
      "UKESM1-0-LL\n",
      "/tiger/scratch/gpfs/GEOCLIM/bgb2/CMIP/UKESM1-0-LL/hus_Amon_UKESM1-0-LL_1pctCO2-bgc_r1i1p1f2_gn_185001-194912.nc\n",
      "UKESM1-0-LL\n",
      "/tiger/scratch/gpfs/GEOCLIM/bgb2/CMIP/UKESM1-0-LL/hus_Amon_UKESM1-0-LL_1pctCO2-bgc_r1i1p1f2_gn_195001-199912.nc\n",
      "UKESM1-0-LL\n",
      "/tiger/scratch/gpfs/GEOCLIM/bgb2/CMIP/UKESM1-0-LL/hus_Amon_UKESM1-0-LL_1pctCO2-rad_r1i1p1f2_gn_185001-194912.nc\n",
      "UKESM1-0-LL\n",
      "/tiger/scratch/gpfs/GEOCLIM/bgb2/CMIP/UKESM1-0-LL/hus_Amon_UKESM1-0-LL_1pctCO2-rad_r1i1p1f2_gn_195001-199912.nc\n",
      "UKESM1-0-LL\n",
      "/tiger/scratch/gpfs/GEOCLIM/bgb2/CMIP/UKESM1-0-LL/hus_Amon_UKESM1-0-LL_1pctCO2_r1i1p1f2_gn_185001-194912.nc\n",
      "UKESM1-0-LL\n",
      "/tiger/scratch/gpfs/GEOCLIM/bgb2/CMIP/UKESM1-0-LL/hus_Amon_UKESM1-0-LL_1pctCO2_r1i1p1f2_gn_195001-199912.nc\n",
      "UKESM1-0-LL\n",
      "/tiger/scratch/gpfs/GEOCLIM/bgb2/CMIP/UKESM1-0-LL/hus_Amon_UKESM1-0-LL_piControl_r1i1p1f2_gn_196001-204912.nc\n",
      "UKESM1-0-LL\n",
      "/tiger/scratch/gpfs/GEOCLIM/bgb2/CMIP/UKESM1-0-LL/hus_Amon_UKESM1-0-LL_piControl_r1i1p1f2_gn_205001-214912.nc\n",
      "UKESM1-0-LL\n",
      "/tiger/scratch/gpfs/GEOCLIM/bgb2/CMIP/UKESM1-0-LL/hus_Amon_UKESM1-0-LL_piControl_r1i1p1f2_gn_215001-224912.nc\n",
      "UKESM1-0-LL\n",
      "/tiger/scratch/gpfs/GEOCLIM/bgb2/CMIP/UKESM1-0-LL/hus_Amon_UKESM1-0-LL_piControl_r1i1p1f2_gn_225001-234912.nc\n",
      "UKESM1-0-LL\n",
      "/tiger/scratch/gpfs/GEOCLIM/bgb2/CMIP/UKESM1-0-LL/hus_Amon_UKESM1-0-LL_piControl_r1i1p1f2_gn_235001-244912.nc\n",
      "UKESM1-0-LL\n",
      "/tiger/scratch/gpfs/GEOCLIM/bgb2/CMIP/UKESM1-0-LL/hus_Amon_UKESM1-0-LL_piControl_r1i1p1f2_gn_245001-254912.nc\n",
      "UKESM1-0-LL\n",
      "/tiger/scratch/gpfs/GEOCLIM/bgb2/CMIP/UKESM1-0-LL/hus_Amon_UKESM1-0-LL_piControl_r1i1p1f2_gn_255001-264912.nc\n",
      "UKESM1-0-LL\n",
      "/tiger/scratch/gpfs/GEOCLIM/bgb2/CMIP/UKESM1-0-LL/hus_Amon_UKESM1-0-LL_piControl_r1i1p1f2_gn_265001-270912.nc\n",
      "UKESM1-0-LL\n",
      "/tiger/scratch/gpfs/GEOCLIM/bgb2/CMIP/UKESM1-0-LL/hus_Amon_UKESM1-0-LL_piControl_r1i1p1f2_gn_271001-274912.nc\n",
      "UKESM1-0-LL\n",
      "/tiger/scratch/gpfs/GEOCLIM/bgb2/CMIP/UKESM1-0-LL/hus_Amon_UKESM1-0-LL_piControl_r1i1p1f2_gn_275001-284912.nc\n",
      "UKESM1-0-LL\n",
      "/tiger/scratch/gpfs/GEOCLIM/bgb2/CMIP/UKESM1-0-LL/hus_Amon_UKESM1-0-LL_piControl_r1i1p1f2_gn_285001-294912.nc\n",
      "UKESM1-0-LL\n",
      "/tiger/scratch/gpfs/GEOCLIM/bgb2/CMIP/UKESM1-0-LL/hus_Amon_UKESM1-0-LL_piControl_r1i1p1f2_gn_295001-304912.nc\n",
      "UKESM1-0-LL\n",
      "/tiger/scratch/gpfs/GEOCLIM/bgb2/CMIP/UKESM1-0-LL/hus_Amon_UKESM1-0-LL_piControl_r1i1p1f2_gn_305001-305912.nc\n",
      "UKESM1-0-LL\n",
      "/tiger/scratch/gpfs/GEOCLIM/bgb2/CMIP/UKESM1-0-LL/hus_Amon_UKESM1-0-LL_piControl_r1i1p1f2_gn_306001-314912.nc\n",
      "UKESM1-0-LL\n",
      "/tiger/scratch/gpfs/GEOCLIM/bgb2/CMIP/UKESM1-0-LL/hus_Amon_UKESM1-0-LL_piControl_r1i1p1f2_gn_315001-324912.nc\n",
      "UKESM1-0-LL\n",
      "/tiger/scratch/gpfs/GEOCLIM/bgb2/CMIP/UKESM1-0-LL/hus_Amon_UKESM1-0-LL_piControl_r1i1p1f2_gn_325001-334912.nc\n",
      "UKESM1-0-LL\n",
      "/tiger/scratch/gpfs/GEOCLIM/bgb2/CMIP/UKESM1-0-LL/hus_Amon_UKESM1-0-LL_piControl_r1i1p1f2_gn_335001-344912.nc\n",
      "UKESM1-0-LL\n",
      "/tiger/scratch/gpfs/GEOCLIM/bgb2/CMIP/UKESM1-0-LL/hus_Amon_UKESM1-0-LL_piControl_r1i1p1f2_gn_345001-354912.nc\n",
      "UKESM1-0-LL\n",
      "/tiger/scratch/gpfs/GEOCLIM/bgb2/CMIP/UKESM1-0-LL/hus_Amon_UKESM1-0-LL_piControl_r1i1p1f2_gn_355001-364912.nc\n",
      "UKESM1-0-LL\n",
      "/tiger/scratch/gpfs/GEOCLIM/bgb2/CMIP/UKESM1-0-LL/hus_Amon_UKESM1-0-LL_piControl_r1i1p1f2_gn_365001-374912.nc\n",
      "UKESM1-0-LL\n",
      "/tiger/scratch/gpfs/GEOCLIM/bgb2/CMIP/UKESM1-0-LL/hus_Amon_UKESM1-0-LL_piControl_r1i1p1f2_gn_375001-383912.nc\n"
     ]
    }
   ],
   "source": [
    "cmiptemp = '/tiger/scratch/gpfs/GEOCLIM/bgb2/CMIPtemp/'\n",
    "cmip = '/tiger/scratch/gpfs/GEOCLIM/bgb2/CMIP/'\n",
    "\n",
    "for f in sorted(glob.glob(direct+'*.nc')):\n",
    "    ncfile = f.split('/')[-1]\n",
    "    m = ncfile.split('_')[2]\n",
    "    \n",
    "    print(m)\n",
    "    print(cmip+m+'/'+ncfile)\n",
    "    \n",
    "    # shutil.move(f, cmip+m+'/'+ncfile)"
   ]
  },
  {
   "cell_type": "code",
   "execution_count": null,
   "id": "0edab574-0a68-4582-956a-852c75e76e1f",
   "metadata": {},
   "outputs": [],
   "source": []
  }
 ],
 "metadata": {
  "kernelspec": {
   "display_name": "Python 3 (ipykernel)",
   "language": "python",
   "name": "python3"
  },
  "language_info": {
   "codemirror_mode": {
    "name": "ipython",
    "version": 3
   },
   "file_extension": ".py",
   "mimetype": "text/x-python",
   "name": "python",
   "nbconvert_exporter": "python",
   "pygments_lexer": "ipython3",
   "version": "3.11.0"
  },
  "toc-autonumbering": true
 },
 "nbformat": 4,
 "nbformat_minor": 5
}
