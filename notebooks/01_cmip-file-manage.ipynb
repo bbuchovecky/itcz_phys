{
 "cells": [
  {
   "cell_type": "raw",
   "id": "0749d531-e541-468f-816f-5ab0c827af25",
   "metadata": {},
   "source": [
    "Filename:   01_cmip-file-manage.ipynb\n",
    "Author:     Benjamin Buchovecky\n",
    "Project:    itcz_phys (Senior Thesis)\n",
    "Created on: 01/31/23"
   ]
  },
  {
   "cell_type": "markdown",
   "id": "218bf32a-beea-43d6-bf75-57e575f03934",
   "metadata": {},
   "source": [
    "# File management\n",
    "\n",
    "The goal here is to merge all variables for their respective case using ```cdo mergetime```."
   ]
  },
  {
   "cell_type": "markdown",
   "id": "7fe2093d-ed13-43bb-85c8-9fcd3e2c270f",
   "metadata": {},
   "source": [
    "# Setup"
   ]
  },
  {
   "cell_type": "code",
   "execution_count": 26,
   "id": "608428c2-c28c-41c8-aaf6-3a0bd257350c",
   "metadata": {},
   "outputs": [],
   "source": [
    "import os\n",
    "import shutil\n",
    "import glob\n",
    "import pandas as pd\n",
    "import numpy as np\n",
    "import xarray as xr\n",
    "import pickle as pkl\n",
    "\n",
    "import cartopy\n",
    "import cartopy.crs as ccrs\n",
    "import cartopy.mpl.ticker as cticker\n",
    "from cartopy.util import add_cyclic_point\n",
    "\n",
    "import matplotlib.pyplot as plt\n",
    "import matplotlib.ticker as mticker\n",
    "import matplotlib.path as mpath\n",
    "\n",
    "import cmocean.cm as cmo\n",
    "\n",
    "import warnings\n",
    "warnings.filterwarnings(\"ignore\", message=\"Unable to decode time axis into full numpy.datetime64 objects, continuing using cftime.datetime objects instead, reason: dates out of range\")\n",
    "warnings.filterwarnings(\"ignore\", message=\"Ambiguous reference date string: 101-01-01. The first value is assumed to be the year hence will be padded with zeros to remove the ambiguity (the padded reference date string is: 0101-01-01). To remove this message, remove the ambiguity by padding your reference date strings with zeros.\")"
   ]
  },
  {
   "cell_type": "code",
   "execution_count": 3,
   "id": "98e7c48c-d3b7-47ab-a180-867e834d5936",
   "metadata": {},
   "outputs": [],
   "source": [
    "## some magic to automatically reload my functions before running a new cell\n",
    "# %load_ext autoreload\n",
    "## %reload_ext autoreload\n",
    "# %autoreload 1\n",
    "# %aimport itcz_phys.cmiptools\n",
    "\n",
    "# import itcz_phys.cmiptools as cmip"
   ]
  },
  {
   "cell_type": "markdown",
   "id": "89ade726-3d11-45e2-acc5-576f80ecfe31",
   "metadata": {
    "tags": []
   },
   "source": [
    "## Figure settings"
   ]
  },
  {
   "cell_type": "code",
   "execution_count": 4,
   "id": "7dc6a55d-8561-4a31-bdd1-993e8b20ee64",
   "metadata": {},
   "outputs": [],
   "source": [
    "import matplotlib as mpl\n",
    "mpl.rcParams['figure.dpi'] = 120\n",
    "\n",
    "# %config InlineBackend.figure_formats = ['pdf']\n",
    "%config InlineBackend.figure_formats = ['png']"
   ]
  },
  {
   "cell_type": "markdown",
   "id": "fc5448d7-ee1b-4439-b561-5f9b3363bb10",
   "metadata": {
    "tags": []
   },
   "source": [
    "## Create constants"
   ]
  },
  {
   "cell_type": "code",
   "execution_count": 5,
   "id": "d76b0d4e-aae2-4868-aa6b-d1d5bd5e0a50",
   "metadata": {},
   "outputs": [],
   "source": [
    "# Cases / experiments\n",
    "cases = ['piControl', '1pctCO2', '1pctCO2-rad', '1pctCO2-bgc']\n",
    "cases_rad = ['1pctCO2', '1pctCO2-rad']\n",
    "\n",
    "\n",
    "# Models with data in /tiger/scratch/gpfs/GEOCLIM/bgb2/CMIP/\n",
    "# --> removed MRI-ESM2-0 because 1pctCO2 and 1pctCO2-rad Amon variables are the same\n",
    "\n",
    "# --> models with HT, VEG for 1pctCO2 and 1pctCO2-rad (i.e., the max number of models used)\n",
    "models = ['ACCESS-ESM1-5', 'BCC-CSM2-MR', 'CESM2', 'CMCC-ESM2',\n",
    "          'CNRM-ESM2-1', 'EC-Earth3-CC', 'GFDL-ESM4', 'GISS-E2-1-G',\n",
    "          'IPSL-CM6A-LR', 'MIROC-ES2L', 'MPI-ESM1-2-LR', 'NorESM2-LM',\n",
    "          'UKESM1-0-LL']\n",
    "#  --> models with HT, VEG, SW for all cases\n",
    "models_all = ['ACCESS-ESM1-5', 'BCC-CSM2-MR', 'CMCC-ESM2',\n",
    "              'CNRM-ESM2-1', 'GISS-E2-1-G', 'IPSL-CM6A-LR', 'MIROC-ES2L',\n",
    "              'MPI-ESM1-2-LR', 'UKESM1-0-LL']\n",
    "# --> only models with HT, VEG, SW for 1pctCO2 and 1pctCO2-rad\n",
    "models_radsw = ['EC-Earth3-CC']\n",
    "# --> only models with HT, VEG for 1pctCO2 and 1pctCO2-rad\n",
    "models_rad = ['CESM2', 'EC-Earth3-CC', 'GFDL-ESM4', 'NorESM2-LM']\n",
    "\n",
    "\n",
    "# Variables\n",
    "variables = ['evspsbl', 'hfls', 'hfss', 'hus', 'lai', 'pr', 'prsn', 'ps',\n",
    "             'rlds', 'rlus', 'rlut', 'rsds', 'rsdt', 'rsus', 'rsut', 'ta',\n",
    "             'tas', 'uas', 'vas']\n",
    "variables_ht = ['hfls', 'hfss', 'hus', 'pr', 'prsn', 'ps', 'rlds', 'rlus',\n",
    "                'rlut', 'rsds', 'rsdt', 'rsus', 'rsut', 'ta']\n",
    "variables_vegsw = ['evspsbl', 'lai', 'tas', 'uas', 'vas']\n",
    "variables_veg = ['evspsbl', 'lai', 'tas']\n",
    "\n",
    "\n",
    "# Table ID\n",
    "table_id = {\n",
    "    'evspsbl': 'Amon',\n",
    "    'hfls': 'Amon',\n",
    "    'hfss': 'Amon',\n",
    "    'hus': 'Amon',\n",
    "    'lai': 'Lmon',\n",
    "    'pr': 'Amon',\n",
    "    'prsn': 'Amon',\n",
    "    'ps': 'Amon',\n",
    "    'rlds': 'Amon', \n",
    "    'rlus': 'Amon',\n",
    "    'rlut': 'Amon',\n",
    "    'rsds': 'Amon',\n",
    "    'rsdt': 'Amon',\n",
    "    'rsus': 'Amon',\n",
    "    'rsut': 'Amon',\n",
    "    'ta': 'Amon',\n",
    "    'tas': 'Amon',\n",
    "    'uas': 'Amon',\n",
    "    'vas': 'Amon'\n",
    "}\n",
    "\n",
    "\n",
    "# Grid label\n",
    "grid_label = {\n",
    "    'ACCESS-ESM1-5': 'gn',\n",
    "    'BCC-CSM2-MR': 'gn',\n",
    "    'CESM2': 'gn',\n",
    "    'CMCC-ESM2': 'gn',\n",
    "    'CNRM-ESM2-1': 'gr',\n",
    "    'EC-Earth3-CC': 'gr',\n",
    "    'GFDL-ESM4': 'gr1',\n",
    "    'GISS-E2-1-G': 'gn',\n",
    "    'IPSL-CM6A-LR': 'gr',\n",
    "    'MIROC-ES2L': 'gn',\n",
    "    'MPI-ESM1-2-LR': 'gn',\n",
    "    'MRI-ESM2-0': 'gn',\n",
    "    'NorESM2-LM': 'gn',\n",
    "    'UKESM1-0-LL': 'gn'\n",
    "}\n",
    "\n",
    "\n",
    "# Months\n",
    "months = ['Jan','Feb','Mar','Apr','May','Jun','Jul','Aug','Sep','Oct','Nov','Dec']\n",
    "months_abbr = ['J','F','M','A','M','J','J','A','S','O','N','D']\n",
    "\n",
    "\n",
    "# Directory where CMIP6 model output lives on tiger\n",
    "cmipdir = '/tiger/scratch/gpfs/GEOCLIM/bgb2/CMIP/'\n",
    "cmipmergedir = '/tiger/scratch/gpfs/GEOCLIM/bgb2/CMIPmerge/'"
   ]
  },
  {
   "cell_type": "markdown",
   "id": "b5f4a29d-a78e-4b7f-9749-d30765333b26",
   "metadata": {
    "tags": []
   },
   "source": [
    "## Create helper dictionaries"
   ]
  },
  {
   "cell_type": "markdown",
   "id": "f7a75354-2773-4f85-8ed2-d5e3db154d96",
   "metadata": {
    "tags": []
   },
   "source": [
    "### Create dictionaries"
   ]
  },
  {
   "cell_type": "markdown",
   "id": "ac2678b2-9380-468b-80a7-5e11c3891ad6",
   "metadata": {
    "tags": []
   },
   "source": [
    "#### Table ID"
   ]
  },
  {
   "cell_type": "code",
   "execution_count": 15,
   "id": "d7ace9f7-168f-44c7-94c9-e03155162364",
   "metadata": {},
   "outputs": [],
   "source": [
    "table_id = {\n",
    "    'areacella': 'fx',\n",
    "    'evspsbl': 'Amon',\n",
    "    'hfls': 'Amon',\n",
    "    'hfss': 'Amon',\n",
    "    'hus': 'Amon',\n",
    "    'lai': 'Lmon',\n",
    "    'pr': 'Amon',\n",
    "    'prsn': 'Amon',\n",
    "    'ps': 'Amon',\n",
    "    'rlds': 'Amon', \n",
    "    'rlus': 'Amon',\n",
    "    'rlut': 'Amon',\n",
    "    'rsds': 'Amon',\n",
    "    'rsdt': 'Amon',\n",
    "    'rsus': 'Amon',\n",
    "    'rsut': 'Amon',\n",
    "    'sftlf': 'fx',\n",
    "    'ta': 'Amon',\n",
    "    'tas': 'Amon',\n",
    "    'uas': 'Amon',\n",
    "    'vas': 'Amon'\n",
    "}\n",
    "\n",
    "# with open('../pkl_files/table_id.pkl', 'wb') as file:\n",
    "#     pkl.dump(table_id, file, pkl.HIGHEST_PROTOCOL)"
   ]
  },
  {
   "cell_type": "markdown",
   "id": "6521622b-d927-4257-836f-db24e5634ef7",
   "metadata": {
    "tags": []
   },
   "source": [
    "#### Grid label"
   ]
  },
  {
   "cell_type": "code",
   "execution_count": 16,
   "id": "5dff0b62-193b-49b0-bb61-c84c8c0fdd2e",
   "metadata": {},
   "outputs": [],
   "source": [
    "grid_label = {\n",
    "    'ACCESS-ESM1-5': 'gn',\n",
    "    'BCC-CSM2-MR': 'gn',\n",
    "    'CESM2': 'gn',\n",
    "    'CMCC-ESM2': 'gn',\n",
    "    'CNRM-ESM2-1': 'gr',\n",
    "    'EC-Earth3-CC': 'gr',\n",
    "    'GFDL-ESM4': 'gr1',\n",
    "    'GISS-E2-1-G': 'gn',\n",
    "    'IPSL-CM6A-LR': 'gr',\n",
    "    'MIROC-ES2L': 'gn',\n",
    "    'MPI-ESM1-2-LR': 'gn',\n",
    "    'MRI-ESM2-0': 'gn',\n",
    "    'NorESM2-LM': 'gn',\n",
    "    'UKESM1-0-LL': 'gn'\n",
    "}\n",
    "\n",
    "# with open('../pkl_files/grid_label.pkl', 'wb') as file:\n",
    "#     pkl.dump(grid_label, file, pkl.HIGHEST_PROTOCOL)"
   ]
  },
  {
   "cell_type": "markdown",
   "id": "5c1ba5a9-63de-44fa-bb5c-eb5e1ca0d19f",
   "metadata": {
    "tags": []
   },
   "source": [
    "#### Variant ID"
   ]
  },
  {
   "cell_type": "code",
   "execution_count": 17,
   "id": "8e2bfa0e-25dd-4d14-9d28-694ea3d9aff2",
   "metadata": {},
   "outputs": [],
   "source": [
    "variant_id = {\n",
    "    'ACCESS-ESM1-5': 'r1i1p1f1',\n",
    "    'BCC-CSM2-MR': 'r1i1p1f1',\n",
    "    'CanESM5': 'r1i1p1f1',\n",
    "    'CESM2': 'r1i1p1f1',\n",
    "    'CMCC-ESM2': 'r1i1p1f1',\n",
    "    'CNRM-ESM2-1': 'r1i1p1f2',\n",
    "    'EC-Earth3-CC': 'r1i1p1f1',\n",
    "    'GFDL-ESM4': 'r1i1p1f1',\n",
    "    'GISS-E2-1-G': 'r101i1p1f1',\n",
    "    'IPSL-CM6A-LR': 'r1i1p1f1',\n",
    "    'MIROC-ES2L': 'r1i1p1f2',\n",
    "    'MPI-ESM1-2-LR': 'r1i1p1f1',\n",
    "    'MRI-ESM2-0': 'r1i2p1f1',\n",
    "    'NorESM2-LM': 'r1i1p1f1',\n",
    "    'UKESM1-0-LL': 'r1i1p1f2'\n",
    "}\n",
    "\n",
    "# with open('../pkl_files/variant_id.pkl', 'wb') as file:\n",
    "#     pkl.dump(variant_id, file, pkl.HIGHEST_PROTOCOL)"
   ]
  },
  {
   "cell_type": "markdown",
   "id": "35af1027-22e6-4f35-b1d3-24907c3a10e1",
   "metadata": {},
   "source": [
    "#### Start times in PI"
   ]
  },
  {
   "cell_type": "code",
   "execution_count": 24,
   "id": "77fe49bc-8110-4abc-beb6-34ee9e5547c9",
   "metadata": {},
   "outputs": [],
   "source": [
    "for m in models:\n",
    "    print(m)\n",
    "    for f in sorted(os.listdir(cmipmergedir+m)):\n",
    "        # if f.split('_')[3] == ('1pctCO2' or '1pctCO2-rad'):\n",
    "        if f.split('_')[3] == ('piControl'):\n",
    "            print(f)\n",
    "            st = xr.open_dataset(cmipmergedir+m+'/'+f).time.isel(time=0).values\n",
    "            print('  ',st)"
   ]
  },
  {
   "cell_type": "code",
   "execution_count": 22,
   "id": "81086fe5-0951-4413-9974-d91111085fc3",
   "metadata": {},
   "outputs": [],
   "source": [
    "start_year_in_pi = {\n",
    "    'ACCESS-ESM1-5': '0101-01',\n",
    "    'BCC-CSM2-MR': '1850-01',\n",
    "    'CESM2': '',\n",
    "    'CMCC-ESM2': '1850-01',\n",
    "    'CNRM-ESM2-1': '1850-01',\n",
    "    'EC-Earth3-CC': '',\n",
    "    'GFDL-ESM4': '',\n",
    "    'GISS-E2-1-G': '1850-01',\n",
    "    'IPSL-CM6A-LR': '1850-01',\n",
    "    'MIROC-ES2L': '1850-01',\n",
    "    'MPI-ESM1-2-LR': '1850-01',\n",
    "    'NorESM2-LM': '',\n",
    "    'UKESM1-0-LL': '1960-01'\n",
    "}\n",
    "\n",
    "# with open('../pkl_files/start_year_in_pi.pkl', 'wb') as file:\n",
    "#     pkl.dump(start_year_in_pi, file, pkl.HIGHEST_PROTOCOL)"
   ]
  },
  {
   "cell_type": "markdown",
   "id": "53209fa8-e5f0-4f93-a3e0-e20251e25666",
   "metadata": {
    "tags": []
   },
   "source": [
    "#### Start times in CO2"
   ]
  },
  {
   "cell_type": "code",
   "execution_count": 25,
   "id": "ebc43f96-3c82-4499-88dc-c2d4f5459ae1",
   "metadata": {},
   "outputs": [],
   "source": [
    "for m in models:\n",
    "    print(m)\n",
    "    for f in sorted(os.listdir(cmipmergedir+m)):\n",
    "        if f.split('_')[3] == ('1pctCO2' or '1pctCO2-rad'):\n",
    "            print(f)\n",
    "            st = xr.open_dataset(cmipmergedir+m+'/'+f).time.isel(time=0).values\n",
    "            print('  ',st)"
   ]
  },
  {
   "cell_type": "code",
   "execution_count": 18,
   "id": "57e848d4-2226-44e8-931c-5bc5650f93a8",
   "metadata": {},
   "outputs": [],
   "source": [
    "start_year_in_co2 = {\n",
    "    'ACCESS-ESM1-5': '0101-01',\n",
    "    'BCC-CSM2-MR': '1850-01',\n",
    "    'CESM2': '0001-01',\n",
    "    'CMCC-ESM2': '1850-01',\n",
    "    'CNRM-ESM2-1': '1850-01',\n",
    "    'EC-Earth3-CC': '1850-01',\n",
    "    'GFDL-ESM4': '0001-01',\n",
    "    'GISS-E2-1-G': '1850-01',\n",
    "    'IPSL-CM6A-LR': '1850-01',\n",
    "    'MIROC-ES2L': '1850-01',\n",
    "    'MPI-ESM1-2-LR': '1850-01',\n",
    "    'NorESM2-LM': '0001-01',\n",
    "    'UKESM1-0-LL': '1850-01'\n",
    "}\n",
    "\n",
    "# with open('../pkl_files/start_year_in_co2.pkl', 'wb') as file:\n",
    "#     pkl.dump(start_year_in_co2, file, pkl.HIGHEST_PROTOCOL)"
   ]
  },
  {
   "cell_type": "markdown",
   "id": "e389c68b-4c2c-4012-be60-24361d3af5f5",
   "metadata": {
    "tags": []
   },
   "source": [
    "#### Branch times in PI"
   ]
  },
  {
   "cell_type": "code",
   "execution_count": 19,
   "id": "c40ee4b0-4058-4848-bd1b-0a3b2cf10c40",
   "metadata": {},
   "outputs": [],
   "source": [
    "# Originally from an NCL file created by Lily Hahn\n",
    "# for GISS-ES2-1-G with variant_id=r101i1p1f1 --> branch time is 185001-201412 (originally 415001-430012 in Lily's file)\n",
    "branch_times_in_pi = {\n",
    "  'ACCESS-CM2': '095001-144912', 'ACCESS-ESM1-5': '010101-060012', 'AWI-CM-1-1-MR': '265001-280012', 'BCC-CSM2-MR': '185001-244912', 'BCC-ESM1': '185001-230012',\n",
    "  'CAMS-CSM1-0': '303001-339912', 'CESM2': '050101-069912', 'CESM2-FV2': '032101-050012', 'CESM2-WACCM': '007001-029912', 'CESM2-WACCM-FV2': '030101-049912',\n",
    "  'CMCC-CM2-SR5': '185001-209912', 'CMCC-ESM2': '185001-209912', 'CNRM-CM6-1': '185001-234912', 'CNRM-CM6-1-HR': '185001-214912', 'CNRM-ESM2-1': '185001-234912',\n",
    "  'CanESM5': '520101-540012', 'E3SM-1-0': '010101-025012', 'EC-Earth3': '254001-270012', 'EC-Earth3-AerChem': '185001-199912', 'EC-Earth3-Veg': '185001-200012',\n",
    "  'FGOALS-f3-L': '060001-116012', 'FGOALS-g3': '046301-061912', 'GFDL-CM4': '025101-045012', 'GFDL-ESM4': '010101-030012', 'GISS-E2-1-G': '185001-201412',\n",
    "  'GISS-E2-1-H': '318001-333012', 'GISS-E2-2-G': '200001-215012', 'HadGEM3-GC31-LL': '185001-204912', 'HadGEM3-GC31-MM': '185001-200912', 'IITM-ESM': '192601-212512',\n",
    "  'INM-CM4-8': '194701-214912', 'INM-CM5-0': '209901-226812', 'IPSL-CM6A-LR': '187001-234912', 'MIROC-ES2L': '185001-204912', 'MIROC6': '320001-339912',\n",
    "  'MPI-ESM-1-2-HAM': '195001-210912', 'MPI-ESM1-2-HR': '185001-199912', 'MPI-ESM1-2-LR': '185001-200912', 'MRI-ESM2-0': '185001-255012', 'NorCPM1': '025101-050012',\n",
    "  'NorESM2-LM': '160001-210012', 'NorESM2-MM': '120001-134912', 'SAM0-UNICON': '027401-043012', 'TaiESM1': '020101-040012', 'UKESM1-0-LL': '196001-214912'\n",
    "}\n",
    "\n",
    "branch_start_year_in_pi = {}\n",
    "for m in branch_times_in_pi.keys():\n",
    "    raw_date = branch_times_in_pi[m][:6]\n",
    "    branch_start_year_in_pi[m] = raw_date[:4]+'-'+raw_date[4:]\n",
    "\n",
    "# l40 = last 40 years of 150 year 1% CO2 increase period\n",
    "# start year\n",
    "period_l40_start_year_in_pi = {}\n",
    "for m in branch_times_in_pi.keys():\n",
    "    raw_date = branch_times_in_pi[m][:6]\n",
    "    len_date = len(raw_date)\n",
    "    end_year = int(raw_date[:len_date-2])+100\n",
    "    period_l40_start_year_in_pi[m] = str(end_year).zfill(4)+'01'\n",
    "    \n",
    "# end year\n",
    "period_l40_end_year_in_pi = {}\n",
    "for m in branch_times_in_pi.keys():\n",
    "    raw_date = branch_times_in_pi[m][:6]\n",
    "    len_date = len(raw_date)\n",
    "    end_year = int(raw_date[:len_date-2])+139\n",
    "    period_l40_end_year_in_pi[m] = str(end_year).zfill(4)+'12'\n",
    "\n",
    "# slice\n",
    "period_l40_slice_in_pi = {}\n",
    "for m in branch_times_in_pi.keys():\n",
    "    period_l40_slice_in_pi[m] = slice(period_l40_start_year_in_pi[m], period_l40_end_year_in_pi[m])\n",
    "\n",
    "    \n",
    "# with open('../pkl_files/branch_start_year_in_pi.pkl', 'wb') as file:\n",
    "#     pkl.dump(branch_start_year_in_pi, file, pkl.HIGHEST_PROTOCOL)\n",
    "# with open('../pkl_files/period_l40_slice_in_pi.pkl', 'wb') as file:\n",
    "#     pkl.dump(period_l40_slice_in_pi, file, pkl.HIGHEST_PROTOCOL)\n",
    "# with open('../pkl_files/period_l40_start_year_in_pi.pkl', 'wb') as file:\n",
    "#     pkl.dump(period_l40_start_year_in_pi, file, pkl.HIGHEST_PROTOCOL)\n",
    "# with open('../pkl_files/period_l40_end_year_in_pi.pkl', 'wb') as file:\n",
    "#     pkl.dump(period_l40_end_year_in_pi, file, pkl.HIGHEST_PROTOCOL)"
   ]
  },
  {
   "cell_type": "markdown",
   "id": "56c8ee32-1f30-440d-8e76-37430c4717fd",
   "metadata": {
    "tags": []
   },
   "source": [
    "#### Times in CO2"
   ]
  },
  {
   "cell_type": "code",
   "execution_count": 20,
   "id": "675a88fc-2b8d-4143-9e3a-557caea63a95",
   "metadata": {
    "collapsed": true,
    "jupyter": {
     "outputs_hidden": true
    },
    "scrolled": true,
    "tags": []
   },
   "outputs": [
    {
     "name": "stdout",
     "output_type": "stream",
     "text": [
      "ACCESS-ESM1-5\n",
      "   piControl\n"
     ]
    },
    {
     "name": "stderr",
     "output_type": "stream",
     "text": [
      "/home/bgb2/miniconda3/envs/itcz_phys/lib/python3.11/site-packages/xarray/coding/times.py:152: SerializationWarning: Ambiguous reference date string: 101-01-01. The first value is assumed to be the year hence will be padded with zeros to remove the ambiguity (the padded reference date string is: 0101-01-01). To remove this message, remove the ambiguity by padding your reference date strings with zeros.\n",
      "  warnings.warn(warning_msg, SerializationWarning)\n"
     ]
    },
    {
     "name": "stdout",
     "output_type": "stream",
     "text": [
      "     0101-01-16 12:00:00\n",
      "     1100-12-16 12:00:00\n",
      "     0201-01\n",
      "     0240-12\n",
      "   1pctCO2\n"
     ]
    },
    {
     "name": "stderr",
     "output_type": "stream",
     "text": [
      "/home/bgb2/miniconda3/envs/itcz_phys/lib/python3.11/site-packages/xarray/coding/times.py:152: SerializationWarning: Ambiguous reference date string: 101-01-01. The first value is assumed to be the year hence will be padded with zeros to remove the ambiguity (the padded reference date string is: 0101-01-01). To remove this message, remove the ambiguity by padding your reference date strings with zeros.\n",
      "  warnings.warn(warning_msg, SerializationWarning)\n"
     ]
    },
    {
     "name": "stdout",
     "output_type": "stream",
     "text": [
      "     0101-01-16 12:00:00\n",
      "     0250-12-16 12:00:00\n",
      "     0201-01\n",
      "     0240-12\n",
      "   1pctCO2-rad\n",
      "     0101-01-16 12:00:00\n",
      "     0250-12-16 12:00:00\n",
      "     0201-01\n",
      "     0240-12\n",
      "   1pctCO2-bgc\n"
     ]
    },
    {
     "name": "stderr",
     "output_type": "stream",
     "text": [
      "/home/bgb2/miniconda3/envs/itcz_phys/lib/python3.11/site-packages/xarray/coding/times.py:152: SerializationWarning: Ambiguous reference date string: 101-01-01. The first value is assumed to be the year hence will be padded with zeros to remove the ambiguity (the padded reference date string is: 0101-01-01). To remove this message, remove the ambiguity by padding your reference date strings with zeros.\n",
      "  warnings.warn(warning_msg, SerializationWarning)\n",
      "/home/bgb2/miniconda3/envs/itcz_phys/lib/python3.11/site-packages/xarray/coding/times.py:152: SerializationWarning: Ambiguous reference date string: 101-01-01. The first value is assumed to be the year hence will be padded with zeros to remove the ambiguity (the padded reference date string is: 0101-01-01). To remove this message, remove the ambiguity by padding your reference date strings with zeros.\n",
      "  warnings.warn(warning_msg, SerializationWarning)\n"
     ]
    },
    {
     "name": "stdout",
     "output_type": "stream",
     "text": [
      "     0101-01-16 12:00:00\n",
      "     0250-12-16 12:00:00\n",
      "     0201-01\n",
      "     0240-12\n",
      "BCC-CSM2-MR\n",
      "   piControl\n",
      "     1850-01-16 12:00:00\n",
      "     2449-12-16 12:00:00\n",
      "     1950-01\n",
      "     1989-12\n",
      "   1pctCO2\n",
      "     1850-01-16 12:00:00\n",
      "     2000-12-16 12:00:00\n",
      "     1950-01\n",
      "     1989-12\n",
      "   1pctCO2-rad\n",
      "     1850-01-16 12:00:00\n",
      "     2000-12-16 12:00:00\n",
      "     1950-01\n",
      "     1989-12\n",
      "   1pctCO2-bgc\n",
      "     1850-01-16 12:00:00\n",
      "     2000-12-16 12:00:00\n",
      "     1950-01\n",
      "     1989-12\n",
      "CESM2\n",
      "   piControl\n",
      "     ###\n",
      "   1pctCO2\n",
      "     0001-01-15 12:00:00\n",
      "     0150-12-15 12:00:00\n",
      "     0101-01\n",
      "     0140-12\n",
      "   1pctCO2-rad\n",
      "     0001-01-15 12:00:00\n",
      "     0150-12-15 12:00:00\n",
      "     0101-01\n",
      "     0140-12\n",
      "   1pctCO2-bgc\n",
      "     ###\n",
      "CMCC-ESM2\n",
      "   piControl\n",
      "     1850-01-16 12:00:00\n",
      "     2349-12-16 12:00:00\n",
      "     1950-01\n",
      "     1989-12\n",
      "   1pctCO2\n",
      "     1850-01-16 12:00:00\n",
      "     2014-12-16 12:00:00\n",
      "     1950-01\n",
      "     1989-12\n",
      "   1pctCO2-rad\n",
      "     1850-01-16 12:00:00\n",
      "     2014-12-16 12:00:00\n",
      "     1950-01\n",
      "     1989-12\n",
      "   1pctCO2-bgc\n",
      "     1850-01-16 12:00:00\n",
      "     2014-12-16 12:00:00\n",
      "     1950-01\n",
      "     1989-12\n",
      "CNRM-ESM2-1\n",
      "   piControl\n",
      "     1850-01-16 12:00:00\n",
      "     2349-12-16 12:00:00\n",
      "     1950-01\n",
      "     1989-12\n",
      "   1pctCO2\n",
      "     1850-01-16T12:00:00.000000000\n",
      "     1999-12-16T12:00:00.000000000\n",
      "     1950-01\n",
      "     1989-12\n",
      "   1pctCO2-rad\n",
      "     1850-01-16T12:00:00.000000000\n",
      "     1989-12-16T12:00:00.000000000\n",
      "     1950-01\n",
      "     1989-12\n",
      "   1pctCO2-bgc\n",
      "     1850-01-16T12:00:00.000000000\n",
      "     1989-12-16T12:00:00.000000000\n",
      "     1950-01\n",
      "     1989-12\n",
      "EC-Earth3-CC\n",
      "   piControl\n",
      "     ###\n",
      "   1pctCO2\n",
      "     1850-01-16T12:00:00.000000000\n",
      "     2014-12-16T12:00:00.000000000\n",
      "     1950-01\n",
      "     1989-12\n",
      "   1pctCO2-rad\n",
      "     1850-01-16T12:00:00.000000000\n",
      "     2014-12-16T12:00:00.000000000\n",
      "     1950-01\n",
      "     1989-12\n",
      "   1pctCO2-bgc\n",
      "     ###\n",
      "GFDL-ESM4\n",
      "   piControl\n",
      "     ###\n",
      "   1pctCO2\n",
      "     0001-01-16 12:00:00\n",
      "     0150-12-16 12:00:00\n",
      "     0101-01\n",
      "     0140-12\n",
      "   1pctCO2-rad\n",
      "     0001-01-16 12:00:00\n",
      "     0150-12-16 12:00:00\n",
      "     0101-01\n",
      "     0140-12\n",
      "   1pctCO2-bgc\n",
      "     ###\n",
      "GISS-E2-1-G\n",
      "   piControl\n"
     ]
    },
    {
     "ename": "KeyboardInterrupt",
     "evalue": "",
     "output_type": "error",
     "traceback": [
      "\u001b[0;31m---------------------------------------------------------------------------\u001b[0m",
      "\u001b[0;31mKeyboardInterrupt\u001b[0m                         Traceback (most recent call last)",
      "Cell \u001b[0;32mIn[20], line 13\u001b[0m\n\u001b[1;32m     11\u001b[0m \u001b[38;5;28mprint\u001b[39m(\u001b[38;5;124m'\u001b[39m\u001b[38;5;124m  \u001b[39m\u001b[38;5;124m'\u001b[39m,c)\n\u001b[1;32m     12\u001b[0m \u001b[38;5;28;01mtry\u001b[39;00m:\n\u001b[0;32m---> 13\u001b[0m     data \u001b[38;5;241m=\u001b[39m \u001b[43mxr\u001b[49m\u001b[38;5;241;43m.\u001b[39;49m\u001b[43mopen_dataset\u001b[49m\u001b[43m(\u001b[49m\u001b[43mcmipmergedir\u001b[49m\u001b[38;5;241;43m+\u001b[39;49m\u001b[43mm\u001b[49m\u001b[38;5;241;43m+\u001b[39;49m\u001b[38;5;124;43m'\u001b[39;49m\u001b[38;5;124;43m/\u001b[39;49m\u001b[38;5;124;43m'\u001b[39;49m\u001b[38;5;241;43m+\u001b[39;49m\u001b[43mv\u001b[49m\u001b[38;5;241;43m+\u001b[39;49m\u001b[38;5;124;43m'\u001b[39;49m\u001b[38;5;124;43m_\u001b[39;49m\u001b[38;5;124;43m'\u001b[39;49m\u001b[38;5;241;43m+\u001b[39;49m\u001b[43mtable_id\u001b[49m\u001b[43m[\u001b[49m\u001b[43mv\u001b[49m\u001b[43m]\u001b[49m\u001b[38;5;241;43m+\u001b[39;49m\u001b[38;5;124;43m'\u001b[39;49m\u001b[38;5;124;43m_\u001b[39;49m\u001b[38;5;124;43m'\u001b[39;49m\u001b[38;5;241;43m+\u001b[39;49m\u001b[43mm\u001b[49m\u001b[38;5;241;43m+\u001b[39;49m\u001b[38;5;124;43m'\u001b[39;49m\u001b[38;5;124;43m_\u001b[39;49m\u001b[38;5;124;43m'\u001b[39;49m\u001b[38;5;241;43m+\u001b[39;49m\u001b[43mc\u001b[49m\u001b[38;5;241;43m+\u001b[39;49m\u001b[38;5;124;43m'\u001b[39;49m\u001b[38;5;124;43m_\u001b[39;49m\u001b[38;5;124;43m'\u001b[39;49m\u001b[38;5;241;43m+\u001b[39;49m\u001b[43mvariant_id\u001b[49m\u001b[43m[\u001b[49m\u001b[43mm\u001b[49m\u001b[43m]\u001b[49m\u001b[38;5;241;43m+\u001b[39;49m\u001b[38;5;124;43m'\u001b[39;49m\u001b[38;5;124;43m_\u001b[39;49m\u001b[38;5;124;43m'\u001b[39;49m\u001b[38;5;241;43m+\u001b[39;49m\u001b[43mgrid_label\u001b[49m\u001b[43m[\u001b[49m\u001b[43mm\u001b[49m\u001b[43m]\u001b[49m\u001b[38;5;241;43m+\u001b[39;49m\u001b[38;5;124;43m'\u001b[39;49m\u001b[38;5;124;43m.nc\u001b[39;49m\u001b[38;5;124;43m'\u001b[39;49m\u001b[43m)\u001b[49m\n\u001b[1;32m     15\u001b[0m     period_l40_start_year_in_co2[m] \u001b[38;5;241m=\u001b[39m \u001b[38;5;28mstr\u001b[39m(data[\u001b[38;5;124m'\u001b[39m\u001b[38;5;124mtime\u001b[39m\u001b[38;5;124m'\u001b[39m]\u001b[38;5;241m.\u001b[39misel(time\u001b[38;5;241m=\u001b[39m\u001b[38;5;241m0\u001b[39m)\u001b[38;5;241m.\u001b[39mvalues)[:\u001b[38;5;241m4\u001b[39m]\n\u001b[1;32m     16\u001b[0m     period_l40_start_year_in_co2[m] \u001b[38;5;241m=\u001b[39m \u001b[38;5;28mstr\u001b[39m(\u001b[38;5;28mint\u001b[39m(period_l40_start_year_in_co2[m])\u001b[38;5;241m+\u001b[39m\u001b[38;5;241m100\u001b[39m)\u001b[38;5;241m.\u001b[39mzfill(\u001b[38;5;241m4\u001b[39m)\u001b[38;5;241m+\u001b[39m\u001b[38;5;124m'\u001b[39m\u001b[38;5;124m-01\u001b[39m\u001b[38;5;124m'\u001b[39m\n",
      "File \u001b[0;32m~/miniconda3/envs/itcz_phys/lib/python3.11/site-packages/xarray/backends/api.py:541\u001b[0m, in \u001b[0;36mopen_dataset\u001b[0;34m(filename_or_obj, engine, chunks, cache, decode_cf, mask_and_scale, decode_times, decode_timedelta, use_cftime, concat_characters, decode_coords, drop_variables, inline_array, backend_kwargs, **kwargs)\u001b[0m\n\u001b[1;32m    529\u001b[0m decoders \u001b[38;5;241m=\u001b[39m _resolve_decoders_kwargs(\n\u001b[1;32m    530\u001b[0m     decode_cf,\n\u001b[1;32m    531\u001b[0m     open_backend_dataset_parameters\u001b[38;5;241m=\u001b[39mbackend\u001b[38;5;241m.\u001b[39mopen_dataset_parameters,\n\u001b[0;32m   (...)\u001b[0m\n\u001b[1;32m    537\u001b[0m     decode_coords\u001b[38;5;241m=\u001b[39mdecode_coords,\n\u001b[1;32m    538\u001b[0m )\n\u001b[1;32m    540\u001b[0m overwrite_encoded_chunks \u001b[38;5;241m=\u001b[39m kwargs\u001b[38;5;241m.\u001b[39mpop(\u001b[38;5;124m\"\u001b[39m\u001b[38;5;124moverwrite_encoded_chunks\u001b[39m\u001b[38;5;124m\"\u001b[39m, \u001b[38;5;28;01mNone\u001b[39;00m)\n\u001b[0;32m--> 541\u001b[0m backend_ds \u001b[38;5;241m=\u001b[39m \u001b[43mbackend\u001b[49m\u001b[38;5;241;43m.\u001b[39;49m\u001b[43mopen_dataset\u001b[49m\u001b[43m(\u001b[49m\n\u001b[1;32m    542\u001b[0m \u001b[43m    \u001b[49m\u001b[43mfilename_or_obj\u001b[49m\u001b[43m,\u001b[49m\n\u001b[1;32m    543\u001b[0m \u001b[43m    \u001b[49m\u001b[43mdrop_variables\u001b[49m\u001b[38;5;241;43m=\u001b[39;49m\u001b[43mdrop_variables\u001b[49m\u001b[43m,\u001b[49m\n\u001b[1;32m    544\u001b[0m \u001b[43m    \u001b[49m\u001b[38;5;241;43m*\u001b[39;49m\u001b[38;5;241;43m*\u001b[39;49m\u001b[43mdecoders\u001b[49m\u001b[43m,\u001b[49m\n\u001b[1;32m    545\u001b[0m \u001b[43m    \u001b[49m\u001b[38;5;241;43m*\u001b[39;49m\u001b[38;5;241;43m*\u001b[39;49m\u001b[43mkwargs\u001b[49m\u001b[43m,\u001b[49m\n\u001b[1;32m    546\u001b[0m \u001b[43m\u001b[49m\u001b[43m)\u001b[49m\n\u001b[1;32m    547\u001b[0m ds \u001b[38;5;241m=\u001b[39m _dataset_from_backend_dataset(\n\u001b[1;32m    548\u001b[0m     backend_ds,\n\u001b[1;32m    549\u001b[0m     filename_or_obj,\n\u001b[0;32m   (...)\u001b[0m\n\u001b[1;32m    557\u001b[0m     \u001b[38;5;241m*\u001b[39m\u001b[38;5;241m*\u001b[39mkwargs,\n\u001b[1;32m    558\u001b[0m )\n\u001b[1;32m    559\u001b[0m \u001b[38;5;28;01mreturn\u001b[39;00m ds\n",
      "File \u001b[0;32m~/miniconda3/envs/itcz_phys/lib/python3.11/site-packages/xarray/backends/netCDF4_.py:592\u001b[0m, in \u001b[0;36mNetCDF4BackendEntrypoint.open_dataset\u001b[0;34m(self, filename_or_obj, mask_and_scale, decode_times, concat_characters, decode_coords, drop_variables, use_cftime, decode_timedelta, group, mode, format, clobber, diskless, persist, lock, autoclose)\u001b[0m\n\u001b[1;32m    590\u001b[0m store_entrypoint \u001b[38;5;241m=\u001b[39m StoreBackendEntrypoint()\n\u001b[1;32m    591\u001b[0m \u001b[38;5;28;01mwith\u001b[39;00m close_on_error(store):\n\u001b[0;32m--> 592\u001b[0m     ds \u001b[38;5;241m=\u001b[39m \u001b[43mstore_entrypoint\u001b[49m\u001b[38;5;241;43m.\u001b[39;49m\u001b[43mopen_dataset\u001b[49m\u001b[43m(\u001b[49m\n\u001b[1;32m    593\u001b[0m \u001b[43m        \u001b[49m\u001b[43mstore\u001b[49m\u001b[43m,\u001b[49m\n\u001b[1;32m    594\u001b[0m \u001b[43m        \u001b[49m\u001b[43mmask_and_scale\u001b[49m\u001b[38;5;241;43m=\u001b[39;49m\u001b[43mmask_and_scale\u001b[49m\u001b[43m,\u001b[49m\n\u001b[1;32m    595\u001b[0m \u001b[43m        \u001b[49m\u001b[43mdecode_times\u001b[49m\u001b[38;5;241;43m=\u001b[39;49m\u001b[43mdecode_times\u001b[49m\u001b[43m,\u001b[49m\n\u001b[1;32m    596\u001b[0m \u001b[43m        \u001b[49m\u001b[43mconcat_characters\u001b[49m\u001b[38;5;241;43m=\u001b[39;49m\u001b[43mconcat_characters\u001b[49m\u001b[43m,\u001b[49m\n\u001b[1;32m    597\u001b[0m \u001b[43m        \u001b[49m\u001b[43mdecode_coords\u001b[49m\u001b[38;5;241;43m=\u001b[39;49m\u001b[43mdecode_coords\u001b[49m\u001b[43m,\u001b[49m\n\u001b[1;32m    598\u001b[0m \u001b[43m        \u001b[49m\u001b[43mdrop_variables\u001b[49m\u001b[38;5;241;43m=\u001b[39;49m\u001b[43mdrop_variables\u001b[49m\u001b[43m,\u001b[49m\n\u001b[1;32m    599\u001b[0m \u001b[43m        \u001b[49m\u001b[43muse_cftime\u001b[49m\u001b[38;5;241;43m=\u001b[39;49m\u001b[43muse_cftime\u001b[49m\u001b[43m,\u001b[49m\n\u001b[1;32m    600\u001b[0m \u001b[43m        \u001b[49m\u001b[43mdecode_timedelta\u001b[49m\u001b[38;5;241;43m=\u001b[39;49m\u001b[43mdecode_timedelta\u001b[49m\u001b[43m,\u001b[49m\n\u001b[1;32m    601\u001b[0m \u001b[43m    \u001b[49m\u001b[43m)\u001b[49m\n\u001b[1;32m    602\u001b[0m \u001b[38;5;28;01mreturn\u001b[39;00m ds\n",
      "File \u001b[0;32m~/miniconda3/envs/itcz_phys/lib/python3.11/site-packages/xarray/backends/store.py:47\u001b[0m, in \u001b[0;36mStoreBackendEntrypoint.open_dataset\u001b[0;34m(self, store, mask_and_scale, decode_times, concat_characters, decode_coords, drop_variables, use_cftime, decode_timedelta)\u001b[0m\n\u001b[1;32m     33\u001b[0m encoding \u001b[38;5;241m=\u001b[39m store\u001b[38;5;241m.\u001b[39mget_encoding()\n\u001b[1;32m     35\u001b[0m \u001b[38;5;28mvars\u001b[39m, attrs, coord_names \u001b[38;5;241m=\u001b[39m conventions\u001b[38;5;241m.\u001b[39mdecode_cf_variables(\n\u001b[1;32m     36\u001b[0m     \u001b[38;5;28mvars\u001b[39m,\n\u001b[1;32m     37\u001b[0m     attrs,\n\u001b[0;32m   (...)\u001b[0m\n\u001b[1;32m     44\u001b[0m     decode_timedelta\u001b[38;5;241m=\u001b[39mdecode_timedelta,\n\u001b[1;32m     45\u001b[0m )\n\u001b[0;32m---> 47\u001b[0m ds \u001b[38;5;241m=\u001b[39m \u001b[43mDataset\u001b[49m\u001b[43m(\u001b[49m\u001b[38;5;28;43mvars\u001b[39;49m\u001b[43m,\u001b[49m\u001b[43m \u001b[49m\u001b[43mattrs\u001b[49m\u001b[38;5;241;43m=\u001b[39;49m\u001b[43mattrs\u001b[49m\u001b[43m)\u001b[49m\n\u001b[1;32m     48\u001b[0m ds \u001b[38;5;241m=\u001b[39m ds\u001b[38;5;241m.\u001b[39mset_coords(coord_names\u001b[38;5;241m.\u001b[39mintersection(\u001b[38;5;28mvars\u001b[39m))\n\u001b[1;32m     49\u001b[0m ds\u001b[38;5;241m.\u001b[39mset_close(store\u001b[38;5;241m.\u001b[39mclose)\n",
      "File \u001b[0;32m~/miniconda3/envs/itcz_phys/lib/python3.11/site-packages/xarray/core/dataset.py:613\u001b[0m, in \u001b[0;36mDataset.__init__\u001b[0;34m(self, data_vars, coords, attrs)\u001b[0m\n\u001b[1;32m    610\u001b[0m \u001b[38;5;28;01mif\u001b[39;00m \u001b[38;5;28misinstance\u001b[39m(coords, Dataset):\n\u001b[1;32m    611\u001b[0m     coords \u001b[38;5;241m=\u001b[39m coords\u001b[38;5;241m.\u001b[39mvariables\n\u001b[0;32m--> 613\u001b[0m variables, coord_names, dims, indexes, _ \u001b[38;5;241m=\u001b[39m \u001b[43mmerge_data_and_coords\u001b[49m\u001b[43m(\u001b[49m\n\u001b[1;32m    614\u001b[0m \u001b[43m    \u001b[49m\u001b[43mdata_vars\u001b[49m\u001b[43m,\u001b[49m\u001b[43m \u001b[49m\u001b[43mcoords\u001b[49m\u001b[43m,\u001b[49m\u001b[43m \u001b[49m\u001b[43mcompat\u001b[49m\u001b[38;5;241;43m=\u001b[39;49m\u001b[38;5;124;43m\"\u001b[39;49m\u001b[38;5;124;43mbroadcast_equals\u001b[39;49m\u001b[38;5;124;43m\"\u001b[39;49m\n\u001b[1;32m    615\u001b[0m \u001b[43m\u001b[49m\u001b[43m)\u001b[49m\n\u001b[1;32m    617\u001b[0m \u001b[38;5;28mself\u001b[39m\u001b[38;5;241m.\u001b[39m_attrs \u001b[38;5;241m=\u001b[39m \u001b[38;5;28mdict\u001b[39m(attrs) \u001b[38;5;28;01mif\u001b[39;00m attrs \u001b[38;5;129;01mis\u001b[39;00m \u001b[38;5;129;01mnot\u001b[39;00m \u001b[38;5;28;01mNone\u001b[39;00m \u001b[38;5;28;01melse\u001b[39;00m \u001b[38;5;28;01mNone\u001b[39;00m\n\u001b[1;32m    618\u001b[0m \u001b[38;5;28mself\u001b[39m\u001b[38;5;241m.\u001b[39m_close \u001b[38;5;241m=\u001b[39m \u001b[38;5;28;01mNone\u001b[39;00m\n",
      "File \u001b[0;32m~/miniconda3/envs/itcz_phys/lib/python3.11/site-packages/xarray/core/merge.py:575\u001b[0m, in \u001b[0;36mmerge_data_and_coords\u001b[0;34m(data_vars, coords, compat, join)\u001b[0m\n\u001b[1;32m    573\u001b[0m objects \u001b[38;5;241m=\u001b[39m [data_vars, coords]\n\u001b[1;32m    574\u001b[0m explicit_coords \u001b[38;5;241m=\u001b[39m coords\u001b[38;5;241m.\u001b[39mkeys()\n\u001b[0;32m--> 575\u001b[0m \u001b[38;5;28;01mreturn\u001b[39;00m \u001b[43mmerge_core\u001b[49m\u001b[43m(\u001b[49m\n\u001b[1;32m    576\u001b[0m \u001b[43m    \u001b[49m\u001b[43mobjects\u001b[49m\u001b[43m,\u001b[49m\n\u001b[1;32m    577\u001b[0m \u001b[43m    \u001b[49m\u001b[43mcompat\u001b[49m\u001b[43m,\u001b[49m\n\u001b[1;32m    578\u001b[0m \u001b[43m    \u001b[49m\u001b[43mjoin\u001b[49m\u001b[43m,\u001b[49m\n\u001b[1;32m    579\u001b[0m \u001b[43m    \u001b[49m\u001b[43mexplicit_coords\u001b[49m\u001b[38;5;241;43m=\u001b[39;49m\u001b[43mexplicit_coords\u001b[49m\u001b[43m,\u001b[49m\n\u001b[1;32m    580\u001b[0m \u001b[43m    \u001b[49m\u001b[43mindexes\u001b[49m\u001b[38;5;241;43m=\u001b[39;49m\u001b[43mIndexes\u001b[49m\u001b[43m(\u001b[49m\u001b[43mindexes\u001b[49m\u001b[43m,\u001b[49m\u001b[43m \u001b[49m\u001b[43mcoords\u001b[49m\u001b[43m)\u001b[49m\u001b[43m,\u001b[49m\n\u001b[1;32m    581\u001b[0m \u001b[43m\u001b[49m\u001b[43m)\u001b[49m\n",
      "File \u001b[0;32m~/miniconda3/envs/itcz_phys/lib/python3.11/site-packages/xarray/core/merge.py:755\u001b[0m, in \u001b[0;36mmerge_core\u001b[0;34m(objects, compat, join, combine_attrs, priority_arg, explicit_coords, indexes, fill_value)\u001b[0m\n\u001b[1;32m    751\u001b[0m coerced \u001b[38;5;241m=\u001b[39m coerce_pandas_values(objects)\n\u001b[1;32m    752\u001b[0m aligned \u001b[38;5;241m=\u001b[39m deep_align(\n\u001b[1;32m    753\u001b[0m     coerced, join\u001b[38;5;241m=\u001b[39mjoin, copy\u001b[38;5;241m=\u001b[39m\u001b[38;5;28;01mFalse\u001b[39;00m, indexes\u001b[38;5;241m=\u001b[39mindexes, fill_value\u001b[38;5;241m=\u001b[39mfill_value\n\u001b[1;32m    754\u001b[0m )\n\u001b[0;32m--> 755\u001b[0m collected \u001b[38;5;241m=\u001b[39m \u001b[43mcollect_variables_and_indexes\u001b[49m\u001b[43m(\u001b[49m\u001b[43maligned\u001b[49m\u001b[43m,\u001b[49m\u001b[43m \u001b[49m\u001b[43mindexes\u001b[49m\u001b[38;5;241;43m=\u001b[39;49m\u001b[43mindexes\u001b[49m\u001b[43m)\u001b[49m\n\u001b[1;32m    756\u001b[0m prioritized \u001b[38;5;241m=\u001b[39m _get_priority_vars_and_indexes(aligned, priority_arg, compat\u001b[38;5;241m=\u001b[39mcompat)\n\u001b[1;32m    757\u001b[0m variables, out_indexes \u001b[38;5;241m=\u001b[39m merge_collected(\n\u001b[1;32m    758\u001b[0m     collected, prioritized, compat\u001b[38;5;241m=\u001b[39mcompat, combine_attrs\u001b[38;5;241m=\u001b[39mcombine_attrs\n\u001b[1;32m    759\u001b[0m )\n",
      "File \u001b[0;32m~/miniconda3/envs/itcz_phys/lib/python3.11/site-packages/xarray/core/merge.py:365\u001b[0m, in \u001b[0;36mcollect_variables_and_indexes\u001b[0;34m(list_of_mappings, indexes)\u001b[0m\n\u001b[1;32m    362\u001b[0m     indexes_\u001b[38;5;241m.\u001b[39mpop(name, \u001b[38;5;28;01mNone\u001b[39;00m)\n\u001b[1;32m    363\u001b[0m     append_all(coords_, indexes_)\n\u001b[0;32m--> 365\u001b[0m variable \u001b[38;5;241m=\u001b[39m \u001b[43mas_variable\u001b[49m\u001b[43m(\u001b[49m\u001b[43mvariable\u001b[49m\u001b[43m,\u001b[49m\u001b[43m \u001b[49m\u001b[43mname\u001b[49m\u001b[38;5;241;43m=\u001b[39;49m\u001b[43mname\u001b[49m\u001b[43m)\u001b[49m\n\u001b[1;32m    366\u001b[0m \u001b[38;5;28;01mif\u001b[39;00m name \u001b[38;5;129;01min\u001b[39;00m indexes:\n\u001b[1;32m    367\u001b[0m     append(name, variable, indexes[name])\n",
      "File \u001b[0;32m~/miniconda3/envs/itcz_phys/lib/python3.11/site-packages/xarray/core/variable.py:167\u001b[0m, in \u001b[0;36mas_variable\u001b[0;34m(obj, name)\u001b[0m\n\u001b[1;32m    161\u001b[0m     \u001b[38;5;28;01mif\u001b[39;00m obj\u001b[38;5;241m.\u001b[39mndim \u001b[38;5;241m!=\u001b[39m \u001b[38;5;241m1\u001b[39m:\n\u001b[1;32m    162\u001b[0m         \u001b[38;5;28;01mraise\u001b[39;00m MissingDimensionsError(\n\u001b[1;32m    163\u001b[0m             \u001b[38;5;124mf\u001b[39m\u001b[38;5;124m\"\u001b[39m\u001b[38;5;132;01m{\u001b[39;00mname\u001b[38;5;132;01m!r}\u001b[39;00m\u001b[38;5;124m has more than 1-dimension and the same name as one of its \u001b[39m\u001b[38;5;124m\"\u001b[39m\n\u001b[1;32m    164\u001b[0m             \u001b[38;5;124mf\u001b[39m\u001b[38;5;124m\"\u001b[39m\u001b[38;5;124mdimensions \u001b[39m\u001b[38;5;132;01m{\u001b[39;00mobj\u001b[38;5;241m.\u001b[39mdims\u001b[38;5;132;01m!r}\u001b[39;00m\u001b[38;5;124m. xarray disallows such variables because they \u001b[39m\u001b[38;5;124m\"\u001b[39m\n\u001b[1;32m    165\u001b[0m             \u001b[38;5;124m\"\u001b[39m\u001b[38;5;124mconflict with the coordinates used to label dimensions.\u001b[39m\u001b[38;5;124m\"\u001b[39m\n\u001b[1;32m    166\u001b[0m         )\n\u001b[0;32m--> 167\u001b[0m     obj \u001b[38;5;241m=\u001b[39m \u001b[43mobj\u001b[49m\u001b[38;5;241;43m.\u001b[39;49m\u001b[43mto_index_variable\u001b[49m\u001b[43m(\u001b[49m\u001b[43m)\u001b[49m\n\u001b[1;32m    169\u001b[0m \u001b[38;5;28;01mreturn\u001b[39;00m obj\n",
      "File \u001b[0;32m~/miniconda3/envs/itcz_phys/lib/python3.11/site-packages/xarray/core/variable.py:623\u001b[0m, in \u001b[0;36mVariable.to_index_variable\u001b[0;34m(self)\u001b[0m\n\u001b[1;32m    621\u001b[0m \u001b[38;5;28;01mdef\u001b[39;00m \u001b[38;5;21mto_index_variable\u001b[39m(\u001b[38;5;28mself\u001b[39m) \u001b[38;5;241m-\u001b[39m\u001b[38;5;241m>\u001b[39m IndexVariable:\n\u001b[1;32m    622\u001b[0m \u001b[38;5;250m    \u001b[39m\u001b[38;5;124;03m\"\"\"Return this variable as an xarray.IndexVariable\"\"\"\u001b[39;00m\n\u001b[0;32m--> 623\u001b[0m     \u001b[38;5;28;01mreturn\u001b[39;00m \u001b[43mIndexVariable\u001b[49m\u001b[43m(\u001b[49m\n\u001b[1;32m    624\u001b[0m \u001b[43m        \u001b[49m\u001b[38;5;28;43mself\u001b[39;49m\u001b[38;5;241;43m.\u001b[39;49m\u001b[43m_dims\u001b[49m\u001b[43m,\u001b[49m\u001b[43m \u001b[49m\u001b[38;5;28;43mself\u001b[39;49m\u001b[38;5;241;43m.\u001b[39;49m\u001b[43m_data\u001b[49m\u001b[43m,\u001b[49m\u001b[43m \u001b[49m\u001b[38;5;28;43mself\u001b[39;49m\u001b[38;5;241;43m.\u001b[39;49m\u001b[43m_attrs\u001b[49m\u001b[43m,\u001b[49m\u001b[43m \u001b[49m\u001b[43mencoding\u001b[49m\u001b[38;5;241;43m=\u001b[39;49m\u001b[38;5;28;43mself\u001b[39;49m\u001b[38;5;241;43m.\u001b[39;49m\u001b[43m_encoding\u001b[49m\u001b[43m,\u001b[49m\u001b[43m \u001b[49m\u001b[43mfastpath\u001b[49m\u001b[38;5;241;43m=\u001b[39;49m\u001b[38;5;28;43;01mTrue\u001b[39;49;00m\n\u001b[1;32m    625\u001b[0m \u001b[43m    \u001b[49m\u001b[43m)\u001b[49m\n",
      "File \u001b[0;32m~/miniconda3/envs/itcz_phys/lib/python3.11/site-packages/xarray/core/variable.py:2852\u001b[0m, in \u001b[0;36mIndexVariable.__init__\u001b[0;34m(self, dims, data, attrs, encoding, fastpath)\u001b[0m\n\u001b[1;32m   2850\u001b[0m \u001b[38;5;66;03m# Unlike in Variable, always eagerly load values into memory\u001b[39;00m\n\u001b[1;32m   2851\u001b[0m \u001b[38;5;28;01mif\u001b[39;00m \u001b[38;5;129;01mnot\u001b[39;00m \u001b[38;5;28misinstance\u001b[39m(\u001b[38;5;28mself\u001b[39m\u001b[38;5;241m.\u001b[39m_data, PandasIndexingAdapter):\n\u001b[0;32m-> 2852\u001b[0m     \u001b[38;5;28mself\u001b[39m\u001b[38;5;241m.\u001b[39m_data \u001b[38;5;241m=\u001b[39m \u001b[43mPandasIndexingAdapter\u001b[49m\u001b[43m(\u001b[49m\u001b[38;5;28;43mself\u001b[39;49m\u001b[38;5;241;43m.\u001b[39;49m\u001b[43m_data\u001b[49m\u001b[43m)\u001b[49m\n",
      "File \u001b[0;32m~/miniconda3/envs/itcz_phys/lib/python3.11/site-packages/xarray/core/indexing.py:1425\u001b[0m, in \u001b[0;36mPandasIndexingAdapter.__init__\u001b[0;34m(self, array, dtype)\u001b[0m\n\u001b[1;32m   1422\u001b[0m \u001b[38;5;28;01mdef\u001b[39;00m \u001b[38;5;21m__init__\u001b[39m(\u001b[38;5;28mself\u001b[39m, array: pd\u001b[38;5;241m.\u001b[39mIndex, dtype: DTypeLike \u001b[38;5;241m=\u001b[39m \u001b[38;5;28;01mNone\u001b[39;00m):\n\u001b[1;32m   1423\u001b[0m     \u001b[38;5;28;01mfrom\u001b[39;00m \u001b[38;5;21;01mxarray\u001b[39;00m\u001b[38;5;21;01m.\u001b[39;00m\u001b[38;5;21;01mcore\u001b[39;00m\u001b[38;5;21;01m.\u001b[39;00m\u001b[38;5;21;01mindexes\u001b[39;00m \u001b[38;5;28;01mimport\u001b[39;00m safe_cast_to_index\n\u001b[0;32m-> 1425\u001b[0m     \u001b[38;5;28mself\u001b[39m\u001b[38;5;241m.\u001b[39marray \u001b[38;5;241m=\u001b[39m \u001b[43msafe_cast_to_index\u001b[49m\u001b[43m(\u001b[49m\u001b[43marray\u001b[49m\u001b[43m)\u001b[49m\n\u001b[1;32m   1427\u001b[0m     \u001b[38;5;28;01mif\u001b[39;00m dtype \u001b[38;5;129;01mis\u001b[39;00m \u001b[38;5;28;01mNone\u001b[39;00m:\n\u001b[1;32m   1428\u001b[0m         \u001b[38;5;28mself\u001b[39m\u001b[38;5;241m.\u001b[39m_dtype \u001b[38;5;241m=\u001b[39m get_valid_numpy_dtype(array)\n",
      "File \u001b[0;32m~/miniconda3/envs/itcz_phys/lib/python3.11/site-packages/xarray/core/indexes.py:183\u001b[0m, in \u001b[0;36msafe_cast_to_index\u001b[0;34m(array)\u001b[0m\n\u001b[1;32m    181\u001b[0m     \u001b[38;5;28;01mif\u001b[39;00m \u001b[38;5;28mhasattr\u001b[39m(array, \u001b[38;5;124m\"\u001b[39m\u001b[38;5;124mdtype\u001b[39m\u001b[38;5;124m\"\u001b[39m) \u001b[38;5;129;01mand\u001b[39;00m array\u001b[38;5;241m.\u001b[39mdtype\u001b[38;5;241m.\u001b[39mkind \u001b[38;5;241m==\u001b[39m \u001b[38;5;124m\"\u001b[39m\u001b[38;5;124mO\u001b[39m\u001b[38;5;124m\"\u001b[39m:\n\u001b[1;32m    182\u001b[0m         kwargs[\u001b[38;5;124m\"\u001b[39m\u001b[38;5;124mdtype\u001b[39m\u001b[38;5;124m\"\u001b[39m] \u001b[38;5;241m=\u001b[39m \u001b[38;5;28mobject\u001b[39m\n\u001b[0;32m--> 183\u001b[0m     index \u001b[38;5;241m=\u001b[39m pd\u001b[38;5;241m.\u001b[39mIndex(np\u001b[38;5;241m.\u001b[39masarray(array), \u001b[38;5;241m*\u001b[39m\u001b[38;5;241m*\u001b[39mkwargs)\n\u001b[1;32m    185\u001b[0m \u001b[38;5;28;01mreturn\u001b[39;00m _maybe_cast_to_cftimeindex(index)\n",
      "File \u001b[0;32m~/miniconda3/envs/itcz_phys/lib/python3.11/site-packages/xarray/core/indexing.py:529\u001b[0m, in \u001b[0;36mLazilyIndexedArray.__array__\u001b[0;34m(self, dtype)\u001b[0m\n\u001b[1;32m    527\u001b[0m \u001b[38;5;28;01mdef\u001b[39;00m \u001b[38;5;21m__array__\u001b[39m(\u001b[38;5;28mself\u001b[39m, dtype\u001b[38;5;241m=\u001b[39m\u001b[38;5;28;01mNone\u001b[39;00m):\n\u001b[1;32m    528\u001b[0m     array \u001b[38;5;241m=\u001b[39m as_indexable(\u001b[38;5;28mself\u001b[39m\u001b[38;5;241m.\u001b[39marray)\n\u001b[0;32m--> 529\u001b[0m     \u001b[38;5;28;01mreturn\u001b[39;00m np\u001b[38;5;241m.\u001b[39masarray(array[\u001b[38;5;28mself\u001b[39m\u001b[38;5;241m.\u001b[39mkey], dtype\u001b[38;5;241m=\u001b[39m\u001b[38;5;28;01mNone\u001b[39;00m)\n",
      "File \u001b[0;32m~/miniconda3/envs/itcz_phys/lib/python3.11/site-packages/xarray/coding/variables.py:72\u001b[0m, in \u001b[0;36m_ElementwiseFunctionArray.__array__\u001b[0;34m(self, dtype)\u001b[0m\n\u001b[1;32m     71\u001b[0m \u001b[38;5;28;01mdef\u001b[39;00m \u001b[38;5;21m__array__\u001b[39m(\u001b[38;5;28mself\u001b[39m, dtype\u001b[38;5;241m=\u001b[39m\u001b[38;5;28;01mNone\u001b[39;00m):\n\u001b[0;32m---> 72\u001b[0m     \u001b[38;5;28;01mreturn\u001b[39;00m \u001b[38;5;28;43mself\u001b[39;49m\u001b[38;5;241;43m.\u001b[39;49m\u001b[43mfunc\u001b[49m\u001b[43m(\u001b[49m\u001b[38;5;28;43mself\u001b[39;49m\u001b[38;5;241;43m.\u001b[39;49m\u001b[43marray\u001b[49m\u001b[43m)\u001b[49m\n",
      "File \u001b[0;32m~/miniconda3/envs/itcz_phys/lib/python3.11/site-packages/xarray/coding/times.py:278\u001b[0m, in \u001b[0;36mdecode_cf_datetime\u001b[0;34m(num_dates, units, calendar, use_cftime)\u001b[0m\n\u001b[1;32m    261\u001b[0m \u001b[38;5;28;01mdef\u001b[39;00m \u001b[38;5;21mdecode_cf_datetime\u001b[39m(\n\u001b[1;32m    262\u001b[0m     num_dates, units: \u001b[38;5;28mstr\u001b[39m, calendar: \u001b[38;5;28mstr\u001b[39m \u001b[38;5;241m|\u001b[39m \u001b[38;5;28;01mNone\u001b[39;00m \u001b[38;5;241m=\u001b[39m \u001b[38;5;28;01mNone\u001b[39;00m, use_cftime: \u001b[38;5;28mbool\u001b[39m \u001b[38;5;241m|\u001b[39m \u001b[38;5;28;01mNone\u001b[39;00m \u001b[38;5;241m=\u001b[39m \u001b[38;5;28;01mNone\u001b[39;00m\n\u001b[1;32m    263\u001b[0m ) \u001b[38;5;241m-\u001b[39m\u001b[38;5;241m>\u001b[39m np\u001b[38;5;241m.\u001b[39mndarray:\n\u001b[1;32m    264\u001b[0m \u001b[38;5;250m    \u001b[39m\u001b[38;5;124;03m\"\"\"Given an array of numeric dates in netCDF format, convert it into a\u001b[39;00m\n\u001b[1;32m    265\u001b[0m \u001b[38;5;124;03m    numpy array of date time objects.\u001b[39;00m\n\u001b[1;32m    266\u001b[0m \n\u001b[0;32m   (...)\u001b[0m\n\u001b[1;32m    276\u001b[0m \u001b[38;5;124;03m    cftime.num2date\u001b[39;00m\n\u001b[1;32m    277\u001b[0m \u001b[38;5;124;03m    \"\"\"\u001b[39;00m\n\u001b[0;32m--> 278\u001b[0m     num_dates \u001b[38;5;241m=\u001b[39m np\u001b[38;5;241m.\u001b[39masarray(num_dates)\n\u001b[1;32m    279\u001b[0m     flat_num_dates \u001b[38;5;241m=\u001b[39m num_dates\u001b[38;5;241m.\u001b[39mravel()\n\u001b[1;32m    280\u001b[0m     \u001b[38;5;28;01mif\u001b[39;00m calendar \u001b[38;5;129;01mis\u001b[39;00m \u001b[38;5;28;01mNone\u001b[39;00m:\n",
      "File \u001b[0;32m~/miniconda3/envs/itcz_phys/lib/python3.11/site-packages/xarray/core/indexing.py:529\u001b[0m, in \u001b[0;36mLazilyIndexedArray.__array__\u001b[0;34m(self, dtype)\u001b[0m\n\u001b[1;32m    527\u001b[0m \u001b[38;5;28;01mdef\u001b[39;00m \u001b[38;5;21m__array__\u001b[39m(\u001b[38;5;28mself\u001b[39m, dtype\u001b[38;5;241m=\u001b[39m\u001b[38;5;28;01mNone\u001b[39;00m):\n\u001b[1;32m    528\u001b[0m     array \u001b[38;5;241m=\u001b[39m as_indexable(\u001b[38;5;28mself\u001b[39m\u001b[38;5;241m.\u001b[39marray)\n\u001b[0;32m--> 529\u001b[0m     \u001b[38;5;28;01mreturn\u001b[39;00m np\u001b[38;5;241m.\u001b[39masarray(\u001b[43marray\u001b[49m\u001b[43m[\u001b[49m\u001b[38;5;28;43mself\u001b[39;49m\u001b[38;5;241;43m.\u001b[39;49m\u001b[43mkey\u001b[49m\u001b[43m]\u001b[49m, dtype\u001b[38;5;241m=\u001b[39m\u001b[38;5;28;01mNone\u001b[39;00m)\n",
      "File \u001b[0;32m~/miniconda3/envs/itcz_phys/lib/python3.11/site-packages/xarray/backends/netCDF4_.py:91\u001b[0m, in \u001b[0;36mNetCDF4ArrayWrapper.__getitem__\u001b[0;34m(self, key)\u001b[0m\n\u001b[1;32m     90\u001b[0m \u001b[38;5;28;01mdef\u001b[39;00m \u001b[38;5;21m__getitem__\u001b[39m(\u001b[38;5;28mself\u001b[39m, key):\n\u001b[0;32m---> 91\u001b[0m     \u001b[38;5;28;01mreturn\u001b[39;00m \u001b[43mindexing\u001b[49m\u001b[38;5;241;43m.\u001b[39;49m\u001b[43mexplicit_indexing_adapter\u001b[49m\u001b[43m(\u001b[49m\n\u001b[1;32m     92\u001b[0m \u001b[43m        \u001b[49m\u001b[43mkey\u001b[49m\u001b[43m,\u001b[49m\u001b[43m \u001b[49m\u001b[38;5;28;43mself\u001b[39;49m\u001b[38;5;241;43m.\u001b[39;49m\u001b[43mshape\u001b[49m\u001b[43m,\u001b[49m\u001b[43m \u001b[49m\u001b[43mindexing\u001b[49m\u001b[38;5;241;43m.\u001b[39;49m\u001b[43mIndexingSupport\u001b[49m\u001b[38;5;241;43m.\u001b[39;49m\u001b[43mOUTER\u001b[49m\u001b[43m,\u001b[49m\u001b[43m \u001b[49m\u001b[38;5;28;43mself\u001b[39;49m\u001b[38;5;241;43m.\u001b[39;49m\u001b[43m_getitem\u001b[49m\n\u001b[1;32m     93\u001b[0m \u001b[43m    \u001b[49m\u001b[43m)\u001b[49m\n",
      "File \u001b[0;32m~/miniconda3/envs/itcz_phys/lib/python3.11/site-packages/xarray/core/indexing.py:820\u001b[0m, in \u001b[0;36mexplicit_indexing_adapter\u001b[0;34m(key, shape, indexing_support, raw_indexing_method)\u001b[0m\n\u001b[1;32m    798\u001b[0m \u001b[38;5;250m\u001b[39m\u001b[38;5;124;03m\"\"\"Support explicit indexing by delegating to a raw indexing method.\u001b[39;00m\n\u001b[1;32m    799\u001b[0m \n\u001b[1;32m    800\u001b[0m \u001b[38;5;124;03mOuter and/or vectorized indexers are supported by indexing a second time\u001b[39;00m\n\u001b[0;32m   (...)\u001b[0m\n\u001b[1;32m    817\u001b[0m \u001b[38;5;124;03mIndexing result, in the form of a duck numpy-array.\u001b[39;00m\n\u001b[1;32m    818\u001b[0m \u001b[38;5;124;03m\"\"\"\u001b[39;00m\n\u001b[1;32m    819\u001b[0m raw_key, numpy_indices \u001b[38;5;241m=\u001b[39m decompose_indexer(key, shape, indexing_support)\n\u001b[0;32m--> 820\u001b[0m result \u001b[38;5;241m=\u001b[39m \u001b[43mraw_indexing_method\u001b[49m\u001b[43m(\u001b[49m\u001b[43mraw_key\u001b[49m\u001b[38;5;241;43m.\u001b[39;49m\u001b[43mtuple\u001b[49m\u001b[43m)\u001b[49m\n\u001b[1;32m    821\u001b[0m \u001b[38;5;28;01mif\u001b[39;00m numpy_indices\u001b[38;5;241m.\u001b[39mtuple:\n\u001b[1;32m    822\u001b[0m     \u001b[38;5;66;03m# index the loaded np.ndarray\u001b[39;00m\n\u001b[1;32m    823\u001b[0m     result \u001b[38;5;241m=\u001b[39m NumpyIndexingAdapter(np\u001b[38;5;241m.\u001b[39masarray(result))[numpy_indices]\n",
      "File \u001b[0;32m~/miniconda3/envs/itcz_phys/lib/python3.11/site-packages/xarray/backends/netCDF4_.py:104\u001b[0m, in \u001b[0;36mNetCDF4ArrayWrapper._getitem\u001b[0;34m(self, key)\u001b[0m\n\u001b[1;32m    102\u001b[0m     \u001b[38;5;28;01mwith\u001b[39;00m \u001b[38;5;28mself\u001b[39m\u001b[38;5;241m.\u001b[39mdatastore\u001b[38;5;241m.\u001b[39mlock:\n\u001b[1;32m    103\u001b[0m         original_array \u001b[38;5;241m=\u001b[39m \u001b[38;5;28mself\u001b[39m\u001b[38;5;241m.\u001b[39mget_array(needs_lock\u001b[38;5;241m=\u001b[39m\u001b[38;5;28;01mFalse\u001b[39;00m)\n\u001b[0;32m--> 104\u001b[0m         array \u001b[38;5;241m=\u001b[39m getitem(original_array, key)\n\u001b[1;32m    105\u001b[0m \u001b[38;5;28;01mexcept\u001b[39;00m \u001b[38;5;167;01mIndexError\u001b[39;00m:\n\u001b[1;32m    106\u001b[0m     \u001b[38;5;66;03m# Catch IndexError in netCDF4 and return a more informative\u001b[39;00m\n\u001b[1;32m    107\u001b[0m     \u001b[38;5;66;03m# error message.  This is most often called when an unsorted\u001b[39;00m\n\u001b[1;32m    108\u001b[0m     \u001b[38;5;66;03m# indexer is used before the data is loaded from disk.\u001b[39;00m\n\u001b[1;32m    109\u001b[0m     msg \u001b[38;5;241m=\u001b[39m (\n\u001b[1;32m    110\u001b[0m         \u001b[38;5;124m\"\u001b[39m\u001b[38;5;124mThe indexing operation you are attempting to perform \u001b[39m\u001b[38;5;124m\"\u001b[39m\n\u001b[1;32m    111\u001b[0m         \u001b[38;5;124m\"\u001b[39m\u001b[38;5;124mis not valid on netCDF4.Variable object. Try loading \u001b[39m\u001b[38;5;124m\"\u001b[39m\n\u001b[1;32m    112\u001b[0m         \u001b[38;5;124m\"\u001b[39m\u001b[38;5;124myour data into memory first by calling .load().\u001b[39m\u001b[38;5;124m\"\u001b[39m\n\u001b[1;32m    113\u001b[0m     )\n",
      "\u001b[0;31mKeyboardInterrupt\u001b[0m: "
     ]
    }
   ],
   "source": [
    "# Get last 40 years of 1% CO2 period\n",
    "period_l40_start_year_in_co2 = {}\n",
    "period_l40_end_year_in_co2 = {}\n",
    "period_l40_slice_in_co2 = {}\n",
    "\n",
    "v = 'evspsbl'\n",
    "for m in models:\n",
    "    print(m)\n",
    "    # for c in ['1pctCO2','1pctCO2-rad','1pctCO2-bgc']:\n",
    "    for c in cases:\n",
    "        print('  ',c)\n",
    "        try:\n",
    "            data = xr.open_dataset(cmipmergedir+m+'/'+v+'_'+table_id[v]+'_'+m+'_'+c+'_'+variant_id[m]+'_'+grid_label[m]+'.nc')\n",
    "\n",
    "            period_l40_start_year_in_co2[m] = str(data['time'].isel(time=0).values)[:4]\n",
    "            period_l40_start_year_in_co2[m] = str(int(period_l40_start_year_in_co2[m])+100).zfill(4)+'-01'\n",
    "            period_l40_end_year_in_co2[m] = str(data['time'].isel(time=0).values)[:4]\n",
    "            period_l40_end_year_in_co2[m] = str(int(period_l40_end_year_in_co2[m])+139).zfill(4)+'-12'\n",
    "            period_l40_slice_in_co2[m] = slice(period_l40_start_year_in_co2[m], period_l40_end_year_in_co2[m])\n",
    "\n",
    "            print('    ',data['time'][0].values)\n",
    "            print('    ',data['time'][-1].values)\n",
    "            print('    ',period_l40_start_year_in_co2[m])\n",
    "            print('    ',period_l40_end_year_in_co2[m])          \n",
    "\n",
    "        except OSError:\n",
    "            print('     ###')\n",
    "    \n",
    "# with open('../pkl_files/period_l40_slice_in_co2.pkl', 'wb') as file:\n",
    "#     pkl.dump(period_l40_slice_in_co2, file, pkl.HIGHEST_PROTOCOL)\n",
    "# with open('../pkl_files/period_l40_start_year_in_co2.pkl', 'wb') as file:\n",
    "#     pkl.dump(period_l40_start_year_in_co2, file, pkl.HIGHEST_PROTOCOL)\n",
    "# with open('../pkl_files/period_l40_end_year_in_co2.pkl', 'wb') as file:\n",
    "#     pkl.dump(period_l40_end_year_in_co2, file, pkl.HIGHEST_PROTOCOL)"
   ]
  },
  {
   "cell_type": "markdown",
   "id": "1cb3dbe8-c8ad-40cf-a590-d6a859f1e318",
   "metadata": {
    "jp-MarkdownHeadingCollapsed": true,
    "tags": []
   },
   "source": [
    "### Colors"
   ]
  },
  {
   "cell_type": "code",
   "execution_count": 42,
   "id": "0b1f18dd-25a5-4ad9-a30e-6321b3b879d3",
   "metadata": {},
   "outputs": [],
   "source": [
    "colors = [\n",
    "\"#0264f6\",\n",
    "\"#79f22b\",\n",
    "\"#9a3aeb\",\n",
    "\"#ffb02a\",\n",
    "\"#b186ff\",\n",
    "\"#005413\",\n",
    "\"#ff5de4\",\n",
    "\"#00c896\",\n",
    "\"#d6004b\",\n",
    "\"#75d4ff\",\n",
    "\"#ff8650\",\n",
    "\"#00356a\",\n",
    "\"#e4d99b\",\n",
    "\"#251400\"\n",
    "]\n",
    "\n",
    "mcolors = {}\n",
    "for i,m in enumerate(models):\n",
    "    mcolors[m] = colors[i]"
   ]
  },
  {
   "cell_type": "code",
   "execution_count": 15,
   "id": "2d2bb8b3-119b-4547-b601-2bb6764c8df8",
   "metadata": {},
   "outputs": [],
   "source": [
    "# Distinct colors generated using https://mokole.com/palette.html\n",
    "# mcolors = {'ACCESS-ESM1-5': '#2f4f4f',\n",
    "#            'BCC-CSM2-MR': '#8b4513',\n",
    "#            'CanESM5': '#6b8e23',\n",
    "#            'CESM2': '#4b0082',\n",
    "#            'CMCC-ESM2': '#ff0000',\n",
    "#            'CNRM-ESM2-1': '#ffff00',\n",
    "#            'EC-Earth3-CC': '#ffb0ae',\n",
    "#            'GFDL-ESM4': '#40e0d0',\n",
    "#            'GISS-E2-1-G': '#00ff00',\n",
    "#            'IPSL-CM6A-LR': '#0000ff',\n",
    "#            'MIROC-ES2L': '#ff00ff',\n",
    "#            'MPI-ESM1-2-LR': '#6495ed',\n",
    "#            'NorESM2-LM': '#ff1493',\n",
    "#            'UKESM1-0-LL': '#ffc0cb'}\n",
    "\n",
    "mcolors = {\n",
    "    'ACCESS-ESM1-5': '#0264f6',\n",
    "    'BCC-CSM2-MR': '#79f22b',\n",
    "    'CESM2': '#9a3aeb',\n",
    "    'CMCC-ESM2': '#ffb02a',\n",
    "    'CNRM-ESM2-1': '#b186ff',\n",
    "    'EC-Earth3-CC': '#005413',\n",
    "    'GFDL-ESM4': '#ff5de4',\n",
    "    'GISS-E2-1-G': '#00c896',\n",
    "    'IPSL-CM6A-LR': '#d6004b',\n",
    "    'MIROC-ES2L': '#75d4ff',\n",
    "    'MPI-ESM1-2-LR': '#ff8650',\n",
    "    'NorESM2-LM': '#00356a',\n",
    "    'UKESM1-0-LL': '#e4d99b'\n",
    "}\n",
    "\n",
    "\n",
    "with open('../pkl_files/mcolors.pkl', 'wb') as file:\n",
    "    pkl.dump(mcolors, file, protocol=pkl.HIGHEST_PROTOCOL)"
   ]
  },
  {
   "cell_type": "markdown",
   "id": "fe305f02-3d89-4326-a0c4-aa03f737f792",
   "metadata": {
    "tags": []
   },
   "source": [
    "## Load dictionaries"
   ]
  },
  {
   "cell_type": "code",
   "execution_count": 6,
   "id": "15a66600-7027-453b-a10b-f612d2cea948",
   "metadata": {},
   "outputs": [],
   "source": [
    "# Get the last 40 years of the 1% CO2 runs and the corresponding time period in piControl\n",
    "with open('../pkl_files/period_l40_slice_in_pi.pkl', 'rb') as file:\n",
    "    period_l40_slice_in_pi = pkl.load(file)\n",
    "with open('../pkl_files/period_l40_start_year_in_pi.pkl', 'rb') as file:\n",
    "    period_l40_start_year_in_pi = pkl.load(file)\n",
    "with open('../pkl_files/period_l40_end_year_in_pi.pkl', 'rb') as file:\n",
    "    period_l40_end_year_in_pi = pkl.load(file)\n",
    "with open('../pkl_files/start_year_in_pi.pkl', 'rb') as file:\n",
    "    start_year_in_pi = pkl.load(file)\n",
    "\n",
    "with open('../pkl_files/period_l40_slice_in_co2.pkl', 'rb') as file:\n",
    "    period_l40_slice_in_co2 = pkl.load(file)\n",
    "with open('../pkl_files/period_l40_start_year_in_co2.pkl', 'rb') as file:\n",
    "    period_l40_start_year_in_co2 = pkl.load(file)\n",
    "with open('../pkl_files/period_l40_end_year_in_co2.pkl', 'rb') as file:\n",
    "    period_l40_end_year_in_co2 = pkl.load(file)\n",
    "with open('../pkl_files/start_year_in_co2.pkl', 'rb') as file:\n",
    "    start_year_in_co2 = pkl.load(file)\n",
    "\n",
    "    \n",
    "# Get each model's variant_id\n",
    "with open('../pkl_files/variant_id.pkl', 'rb') as file:\n",
    "    variant_id = pkl.load(file)\n",
    "    \n",
    "# Get each model's table_id\n",
    "with open('../pkl_files/table_id.pkl', 'rb') as file:\n",
    "    table_id = pkl.load(file)\n",
    "    \n",
    "# Get each model's grid_label\n",
    "with open('../pkl_files/grid_label.pkl', 'rb') as file:\n",
    "    grid_label = pkl.load(file)\n",
    "    \n",
    "# Colors corresponding to each model\n",
    "with open('../pkl_files/mcolors.pkl', 'rb') as file:\n",
    "    mcolors = pkl.load(file)"
   ]
  },
  {
   "cell_type": "markdown",
   "id": "72d8b947-fc95-4fcd-9d67-ddbb31e894ad",
   "metadata": {
    "tags": []
   },
   "source": [
    "# Merge files"
   ]
  },
  {
   "cell_type": "markdown",
   "id": "1b7754c2-c11e-401a-8155-7188c3122088",
   "metadata": {},
   "source": [
    "```var_table-id_model_case_variant-id_grid_time.nc```"
   ]
  },
  {
   "cell_type": "markdown",
   "id": "b0c8fa97-71a5-47d6-8178-533d4c19a1f1",
   "metadata": {
    "tags": []
   },
   "source": [
    "## Helper functions"
   ]
  },
  {
   "cell_type": "code",
   "execution_count": 7,
   "id": "028b735d-5b24-45fc-8b3c-b5573ee328e4",
   "metadata": {},
   "outputs": [],
   "source": [
    "def writeMergePaths(theseModels, theseCases, theseVariables, tag, toMerge=None):\n",
    "    if toMerge == True and type(toMerge) == bool:\n",
    "        filename = 'paths-m'+str(tag)+'.txt'\n",
    "    if toMerge == False and type(toMerge) == bool:\n",
    "        filename = 'paths-c'+str(tag)+'.txt'\n",
    "        \n",
    "    if type(theseVariables[0]) == list:\n",
    "        tmp_vars = []\n",
    "        for item in theseVariables:\n",
    "            tmp_vars += item\n",
    "        theseVariables = tmp_vars\n",
    "    \n",
    "    outfile = []\n",
    "    for m in theseModels:\n",
    "        for c in theseCases:\n",
    "            for v in theseVariables:\n",
    "                out = mergetime(m, c, v, toFile=True, toMerge=toMerge, toDelete=False, toPrint=False)\n",
    "                if type(out) == str:\n",
    "                    outfile.append(out)\n",
    "    \n",
    "    if len(outfile) > 0:\n",
    "        with open('../bash_scripts/'+filename, 'w') as f:\n",
    "            f.writelines(outfile)\n",
    "        print(filename)\n",
    "    else:\n",
    "        print('no files')"
   ]
  },
  {
   "cell_type": "code",
   "execution_count": 8,
   "id": "b6844de9-0749-429b-87e3-24c91e1b83fe",
   "metadata": {},
   "outputs": [],
   "source": [
    "def mergetime(thisM, thisC, thisV, toPrint=True, toFile=False, toMerge=None, toDelete=False):\n",
    "    cmipdir = '/tiger/scratch/gpfs/GEOCLIM/bgb2/CMIP/'\n",
    "    cmipmergedir = '/tiger/scratch/gpfs/GEOCLIM/bgb2/CMIPmerge/'\n",
    "    \n",
    "    fsearch = cmipdir+thisM+'/'+thisV+'_'+table_id[thisV]+'_'+thisM+'_'+thisC+'_'+variant_id[thisM]+'_'+grid_label[thisM]+'_*.nc'\n",
    "    \n",
    "    files = glob.glob(fsearch)    \n",
    "    stimes = []\n",
    "    etimes = []\n",
    "    for f in files:\n",
    "        stimes.append(int(f.split('/')[-1].split('_')[-1].split('.')[0].split('-')[0][:4]))\n",
    "        etimes.append(int(f.split('/')[-1].split('_')[-1].split('.')[0].split('-')[1][:4]))\n",
    "    \n",
    "    fname = thisV+'_'+table_id[thisV]+'_'+thisM+'_'+thisC+'_'+variant_id[thisM]+'_'+grid_label[thisM]+'_%s-%s.nc' % (str(min(stimes)).zfill(4)+'01', str(max(etimes)).zfill(4)+'12')\n",
    "    fdir = cmipmergedir+thisM+'/'+fname\n",
    "    \n",
    "    if toPrint:\n",
    "        print('    ','/'.join(fsearch.split('/')[-2:]))\n",
    "        if len(stimes) > 1 and len(etimes) > 1:\n",
    "            print('     - ',fdir)\n",
    "    \n",
    "    if toFile and toMerge and type(toMerge) == bool:\n",
    "        if len(stimes) > 1 and len(etimes) > 1:\n",
    "            return fsearch+':'+fdir+'\\n'\n",
    "        \n",
    "    if toFile and not toMerge and type(toMerge) == bool:\n",
    "        if len(stimes) == 1 and len(etimes) == 1:\n",
    "            test_fname = fsearch.split('/')[-1][:-4]+'%s-%s.nc' % (str(min(stimes)).zfill(4)+'01', str(max(etimes)).zfill(4)+'12')\n",
    "            \n",
    "            if os.path.isfile(cmipdir+thisM+'/'+test_fname) and fname == test_fname:\n",
    "                return cmipdir+thisM+'/'+fname+':'+cmipmergedir+thisM+'/'+fname+'\\n'\n",
    "            \n",
    "            else:\n",
    "                print('ERROR')\n",
    "                print(fname)\n",
    "                print(tmp_fname)\n",
    "                print(cmipdir+thisM+'/'+tmp_fname)\n",
    "                       \n",
    "    if toDelete:\n",
    "        if len(stimes) > 1 and len(etimes) > 1:\n",
    "            print('----',fdir.split('/')[-1])\n",
    "            ## os.popen('rm %s' % fdir)"
   ]
  },
  {
   "cell_type": "markdown",
   "id": "592a7ecc-a2a3-4916-a3a8-1bff632f944d",
   "metadata": {
    "tags": []
   },
   "source": [
    "## Create text files with merge/copy paths"
   ]
  },
  {
   "cell_type": "code",
   "execution_count": 27,
   "id": "67ec7a2a-de24-49d6-9da0-dcf009836383",
   "metadata": {},
   "outputs": [
    {
     "name": "stdout",
     "output_type": "stream",
     "text": [
      "paths-m-ec-hus-full-rad.txt\n",
      "no files\n"
     ]
    }
   ],
   "source": [
    "## All models with HT + VEG + SW for all cases\n",
    "# writeMergePaths(models_al, cases, variables, '1', toMerge=True)\n",
    "# writeMergePaths(models_all, cases, variables, '1', toMerge=False)\n",
    "\n",
    "## Models with HT + VEG for FULL (1pctCO2) and RAD (1pctCO2-rad)\n",
    "# writeMergePaths(models_rad, cases_rad, [variables_ht, variables_veg], '2', toMerge=True)\n",
    "# writeMergePaths(models_rad, cases_rad, [variables_ht, variables_veg], '2', toMerge=False)\n",
    "\n",
    "## Models with HT + VEG + SW for FULL (1pctCO2) and RAD (1pctCO2-rad)\n",
    "# writeMergePaths(models_radsw, cases_rad, variables, '3', toMerge=True)\n",
    "# writeMergePaths(models_radsw, cases_rad, variables, '3', toMerge=False)\n",
    "\n",
    "## Redo BCC-CSM2-MR\n",
    "# writeMergePaths(['BCC-CSM2-MR'], cases, variables, '-bcc', toMerge=True)\n",
    "# writeMergePaths(['BCC-CSM2-MR'], cases, variables, '-bcc', toMerge=False)\n",
    "\n",
    "## Redo NorESM2-LM for hus - 1pctCO2, piControl\n",
    "# writeMergePaths(['NorESM2-LM'], ['1pctCO2', 'piControl'], ['hus'], '-nor-hus-full-pi', toMerge=True)\n",
    "# writeMergePaths(['NorESM2-LM'], ['1pctCO2', 'piControl'], ['hus'], '-nor-hus-full-pi', toMerge=False)\n",
    "\n",
    "## hus\n",
    "# writeMergePaths(models_all, cases, ['hus'], '-hus-all', toMerge=True)\n",
    "# writeMergePaths(models_all, cases, ['hus'], '-hus-all', toMerge=False)\n",
    "\n",
    "# writeMergePaths(models_rad, cases_rad, ['hus'], '-hus-full-rad', toMerge=True)\n",
    "# writeMergePaths(models_rad, cases_rad, ['hus'], '-hus-full-rad', toMerge=False)\n",
    "\n",
    "## Redo EC-Earth3-CC for hus - 1pctCO2, 1pctCO2-rad\n",
    "writeMergePaths(['EC-Earth3-CC'], cases_rad, ['hus'], '-ec-hus-full-rad', toMerge=True)\n",
    "writeMergePaths(['EC-Earth3-CC'], cases_rad, ['hus'], '-ec-hus-full-rad', toMerge=False)"
   ]
  },
  {
   "cell_type": "markdown",
   "id": "d8c05475-4e93-4cfb-b714-99ce17aac644",
   "metadata": {},
   "source": [
    "**At this point, run the bash scripts ```mergenetcdf.sh paths-mx.txt``` and ```copynetcdf.sh paths-cx.txt```**"
   ]
  },
  {
   "cell_type": "markdown",
   "id": "8067b266-179d-4c58-9030-38ae26168a8d",
   "metadata": {
    "tags": []
   },
   "source": [
    "## Remove date at end of file name"
   ]
  },
  {
   "cell_type": "markdown",
   "id": "61a21436-0d75-4e3d-97c5-f8ed48cc21f7",
   "metadata": {},
   "source": [
    "```var_table-id_model_case_variant-id_grid_time.nc```"
   ]
  },
  {
   "cell_type": "code",
   "execution_count": 21,
   "id": "db781fe6-1467-4198-8095-5c8aa676e83e",
   "metadata": {
    "scrolled": true,
    "tags": []
   },
   "outputs": [
    {
     "name": "stdout",
     "output_type": "stream",
     "text": [
      "ACCESS-ESM1-5\n",
      "BCC-CSM2-MR\n",
      "CESM2\n",
      "CMCC-ESM2\n",
      "CNRM-ESM2-1\n",
      "CanESM5\n",
      "EC-Earth3-CC\n",
      "GFDL-ESM4\n",
      "GISS-E2-1-G\n",
      "IPSL-CM6A-LR\n",
      "MIROC-ES2L\n",
      "MPI-ESM1-2-LR\n",
      "MRI-ESM2-0\n",
      "NorESM2-LM\n",
      "UKESM1-0-LL\n"
     ]
    }
   ],
   "source": [
    "with open('../pkl_files/mergedtimes.pkl', 'rb') as file:\n",
    "    mergedtimes = pkl.load(file)\n",
    "\n",
    "cmipdir = '/tiger/scratch/gpfs/GEOCLIM/bgb2/CMIP/'\n",
    "cmipmergedir = '/tiger/scratch/gpfs/GEOCLIM/bgb2/CMIPmerge/'\n",
    "\n",
    "for d in sorted(os.listdir(cmipmergedir)):\n",
    "    print(d)\n",
    "    files = sorted(os.listdir(cmipmergedir+d))\n",
    "    if len(files) > 0:\n",
    "        for f in files:\n",
    "            try:\n",
    "                print(f.split('_')[6])\n",
    "                newname = '_'.join(f.split('_')[:-1])+'.nc'\n",
    "                # print(newname)\n",
    "                # print('  ',cmipmergedir+d+'/'+f)\n",
    "                # print('  ',cmipmergedir+d+'/'+newname)\n",
    "                ## mergedtimes[newname] = f\n",
    "                ## os.rename(cmipmergedir+d+'/'+f, cmipmergedir+d+'/'+newname)\n",
    "            except:\n",
    "                continue\n",
    "\n",
    "## with open('../pkl_files/mergedtimes.pkl', 'wb') as file:\n",
    "##     pkl.dump(mergedtimes, file, pkl.HIGHEST_PROTOCOL)"
   ]
  },
  {
   "cell_type": "markdown",
   "id": "593146bd-6848-49ea-a2d7-8f85240df113",
   "metadata": {
    "tags": []
   },
   "source": [
    "# Check merged/copied files"
   ]
  },
  {
   "cell_type": "code",
   "execution_count": 18,
   "id": "74721548-f4c9-4ef0-b12d-2f67f8f2234e",
   "metadata": {
    "scrolled": true,
    "tags": []
   },
   "outputs": [],
   "source": [
    "## Move files from CMIPtemp to CMIP\n",
    "\n",
    "cmiptemp = '/tiger/scratch/gpfs/GEOCLIM/bgb2/CMIPtemp/'\n",
    "cmip = '/tiger/scratch/gpfs/GEOCLIM/bgb2/CMIP/'\n",
    "\n",
    "for f in sorted(glob.glob(cmiptemp+'*.nc')):\n",
    "    ncfile = f.split('/')[-1]\n",
    "    m = ncfile.split('_')[2]\n",
    "    \n",
    "    if m != 'BCC-ESM1' and m != 'EC-Earth3':\n",
    "        print(m)\n",
    "        print(cmip+m+'/'+ncfile)\n",
    "    \n",
    "        ## shutil.move(f, cmip+m+'/'+ncfile)"
   ]
  },
  {
   "cell_type": "code",
   "execution_count": null,
   "id": "0edab574-0a68-4582-956a-852c75e76e1f",
   "metadata": {},
   "outputs": [],
   "source": []
  }
 ],
 "metadata": {
  "kernelspec": {
   "display_name": "Python 3 (ipykernel)",
   "language": "python",
   "name": "python3"
  },
  "language_info": {
   "codemirror_mode": {
    "name": "ipython",
    "version": 3
   },
   "file_extension": ".py",
   "mimetype": "text/x-python",
   "name": "python",
   "nbconvert_exporter": "python",
   "pygments_lexer": "ipython3",
   "version": "3.11.0"
  },
  "toc-autonumbering": true
 },
 "nbformat": 4,
 "nbformat_minor": 5
}
